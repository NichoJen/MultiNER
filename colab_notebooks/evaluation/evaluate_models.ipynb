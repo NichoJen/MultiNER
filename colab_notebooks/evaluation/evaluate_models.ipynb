{
 "cells": [
  {
   "cell_type": "code",
   "execution_count": 19,
   "metadata": {
    "colab": {
     "base_uri": "https://localhost:8080/"
    },
    "executionInfo": {
     "elapsed": 328,
     "status": "ok",
     "timestamp": 1710790376202,
     "user": {
      "displayName": "Nicholas Jennings",
      "userId": "07082218790184614317"
     },
     "user_tz": -60
    },
    "id": "lOxrj6X5X38s",
    "outputId": "9183f342-7aed-4225-ab6c-b36a2ed32dce"
   },
   "outputs": [
    {
     "name": "stdout",
     "output_type": "stream",
     "text": [
      "fatal: destination path 'MultiNER' already exists and is not an empty directory.\n"
     ]
    }
   ],
   "source": [
    "!git clone https://github.com/NichoJen/MultiNER.git"
   ]
  },
  {
   "cell_type": "code",
   "execution_count": 20,
   "metadata": {
    "executionInfo": {
     "elapsed": 3,
     "status": "ok",
     "timestamp": 1710790376203,
     "user": {
      "displayName": "Nicholas Jennings",
      "userId": "07082218790184614317"
     },
     "user_tz": -60
    },
    "id": "8D-TrdVUbDn7"
   },
   "outputs": [],
   "source": [
    "# Insert the directory\n",
    "import sys\n",
    "sys.path.insert(0,\"/content/MultiNER\")"
   ]
  },
  {
   "cell_type": "code",
   "execution_count": 21,
   "metadata": {
    "colab": {
     "base_uri": "https://localhost:8080/"
    },
    "executionInfo": {
     "elapsed": 25287,
     "status": "ok",
     "timestamp": 1710790401488,
     "user": {
      "displayName": "Nicholas Jennings",
      "userId": "07082218790184614317"
     },
     "user_tz": -60
    },
    "id": "-PfXeSgEX7E3",
    "outputId": "f3fb9ae2-d4ed-486f-ba69-5b2a557f5b82"
   },
   "outputs": [
    {
     "name": "stdout",
     "output_type": "stream",
     "text": [
      "Requirement already satisfied: datasets in /usr/local/lib/python3.10/dist-packages (2.18.0)\n",
      "Requirement already satisfied: transformers in /usr/local/lib/python3.10/dist-packages (4.38.2)\n",
      "Requirement already satisfied: filelock in /usr/local/lib/python3.10/dist-packages (from datasets) (3.13.1)\n",
      "Requirement already satisfied: numpy>=1.17 in /usr/local/lib/python3.10/dist-packages (from datasets) (1.25.2)\n",
      "Requirement already satisfied: pyarrow>=12.0.0 in /usr/local/lib/python3.10/dist-packages (from datasets) (14.0.2)\n",
      "Requirement already satisfied: pyarrow-hotfix in /usr/local/lib/python3.10/dist-packages (from datasets) (0.6)\n",
      "Requirement already satisfied: dill<0.3.9,>=0.3.0 in /usr/local/lib/python3.10/dist-packages (from datasets) (0.3.8)\n",
      "Requirement already satisfied: pandas in /usr/local/lib/python3.10/dist-packages (from datasets) (1.5.3)\n",
      "Requirement already satisfied: requests>=2.19.0 in /usr/local/lib/python3.10/dist-packages (from datasets) (2.31.0)\n",
      "Requirement already satisfied: tqdm>=4.62.1 in /usr/local/lib/python3.10/dist-packages (from datasets) (4.66.2)\n",
      "Requirement already satisfied: xxhash in /usr/local/lib/python3.10/dist-packages (from datasets) (3.4.1)\n",
      "Requirement already satisfied: multiprocess in /usr/local/lib/python3.10/dist-packages (from datasets) (0.70.16)\n",
      "Requirement already satisfied: fsspec[http]<=2024.2.0,>=2023.1.0 in /usr/local/lib/python3.10/dist-packages (from datasets) (2023.6.0)\n",
      "Requirement already satisfied: aiohttp in /usr/local/lib/python3.10/dist-packages (from datasets) (3.9.3)\n",
      "Requirement already satisfied: huggingface-hub>=0.19.4 in /usr/local/lib/python3.10/dist-packages (from datasets) (0.20.3)\n",
      "Requirement already satisfied: packaging in /usr/local/lib/python3.10/dist-packages (from datasets) (24.0)\n",
      "Requirement already satisfied: pyyaml>=5.1 in /usr/local/lib/python3.10/dist-packages (from datasets) (6.0.1)\n",
      "Requirement already satisfied: regex!=2019.12.17 in /usr/local/lib/python3.10/dist-packages (from transformers) (2023.12.25)\n",
      "Requirement already satisfied: tokenizers<0.19,>=0.14 in /usr/local/lib/python3.10/dist-packages (from transformers) (0.15.2)\n",
      "Requirement already satisfied: safetensors>=0.4.1 in /usr/local/lib/python3.10/dist-packages (from transformers) (0.4.2)\n",
      "Requirement already satisfied: aiosignal>=1.1.2 in /usr/local/lib/python3.10/dist-packages (from aiohttp->datasets) (1.3.1)\n",
      "Requirement already satisfied: attrs>=17.3.0 in /usr/local/lib/python3.10/dist-packages (from aiohttp->datasets) (23.2.0)\n",
      "Requirement already satisfied: frozenlist>=1.1.1 in /usr/local/lib/python3.10/dist-packages (from aiohttp->datasets) (1.4.1)\n",
      "Requirement already satisfied: multidict<7.0,>=4.5 in /usr/local/lib/python3.10/dist-packages (from aiohttp->datasets) (6.0.5)\n",
      "Requirement already satisfied: yarl<2.0,>=1.0 in /usr/local/lib/python3.10/dist-packages (from aiohttp->datasets) (1.9.4)\n",
      "Requirement already satisfied: async-timeout<5.0,>=4.0 in /usr/local/lib/python3.10/dist-packages (from aiohttp->datasets) (4.0.3)\n",
      "Requirement already satisfied: typing-extensions>=3.7.4.3 in /usr/local/lib/python3.10/dist-packages (from huggingface-hub>=0.19.4->datasets) (4.10.0)\n",
      "Requirement already satisfied: charset-normalizer<4,>=2 in /usr/local/lib/python3.10/dist-packages (from requests>=2.19.0->datasets) (3.3.2)\n",
      "Requirement already satisfied: idna<4,>=2.5 in /usr/local/lib/python3.10/dist-packages (from requests>=2.19.0->datasets) (3.6)\n",
      "Requirement already satisfied: urllib3<3,>=1.21.1 in /usr/local/lib/python3.10/dist-packages (from requests>=2.19.0->datasets) (2.0.7)\n",
      "Requirement already satisfied: certifi>=2017.4.17 in /usr/local/lib/python3.10/dist-packages (from requests>=2.19.0->datasets) (2024.2.2)\n",
      "Requirement already satisfied: python-dateutil>=2.8.1 in /usr/local/lib/python3.10/dist-packages (from pandas->datasets) (2.8.2)\n",
      "Requirement already satisfied: pytz>=2020.1 in /usr/local/lib/python3.10/dist-packages (from pandas->datasets) (2023.4)\n",
      "Requirement already satisfied: six>=1.5 in /usr/local/lib/python3.10/dist-packages (from python-dateutil>=2.8.1->pandas->datasets) (1.16.0)\n",
      "Requirement already satisfied: evaluate in /usr/local/lib/python3.10/dist-packages (0.4.1)\n",
      "Requirement already satisfied: datasets>=2.0.0 in /usr/local/lib/python3.10/dist-packages (from evaluate) (2.18.0)\n",
      "Requirement already satisfied: numpy>=1.17 in /usr/local/lib/python3.10/dist-packages (from evaluate) (1.25.2)\n",
      "Requirement already satisfied: dill in /usr/local/lib/python3.10/dist-packages (from evaluate) (0.3.8)\n",
      "Requirement already satisfied: pandas in /usr/local/lib/python3.10/dist-packages (from evaluate) (1.5.3)\n",
      "Requirement already satisfied: requests>=2.19.0 in /usr/local/lib/python3.10/dist-packages (from evaluate) (2.31.0)\n",
      "Requirement already satisfied: tqdm>=4.62.1 in /usr/local/lib/python3.10/dist-packages (from evaluate) (4.66.2)\n",
      "Requirement already satisfied: xxhash in /usr/local/lib/python3.10/dist-packages (from evaluate) (3.4.1)\n",
      "Requirement already satisfied: multiprocess in /usr/local/lib/python3.10/dist-packages (from evaluate) (0.70.16)\n",
      "Requirement already satisfied: fsspec[http]>=2021.05.0 in /usr/local/lib/python3.10/dist-packages (from evaluate) (2023.6.0)\n",
      "Requirement already satisfied: huggingface-hub>=0.7.0 in /usr/local/lib/python3.10/dist-packages (from evaluate) (0.20.3)\n",
      "Requirement already satisfied: packaging in /usr/local/lib/python3.10/dist-packages (from evaluate) (24.0)\n",
      "Requirement already satisfied: responses<0.19 in /usr/local/lib/python3.10/dist-packages (from evaluate) (0.18.0)\n",
      "Requirement already satisfied: filelock in /usr/local/lib/python3.10/dist-packages (from datasets>=2.0.0->evaluate) (3.13.1)\n",
      "Requirement already satisfied: pyarrow>=12.0.0 in /usr/local/lib/python3.10/dist-packages (from datasets>=2.0.0->evaluate) (14.0.2)\n",
      "Requirement already satisfied: pyarrow-hotfix in /usr/local/lib/python3.10/dist-packages (from datasets>=2.0.0->evaluate) (0.6)\n",
      "Requirement already satisfied: aiohttp in /usr/local/lib/python3.10/dist-packages (from datasets>=2.0.0->evaluate) (3.9.3)\n",
      "Requirement already satisfied: pyyaml>=5.1 in /usr/local/lib/python3.10/dist-packages (from datasets>=2.0.0->evaluate) (6.0.1)\n",
      "Requirement already satisfied: typing-extensions>=3.7.4.3 in /usr/local/lib/python3.10/dist-packages (from huggingface-hub>=0.7.0->evaluate) (4.10.0)\n",
      "Requirement already satisfied: charset-normalizer<4,>=2 in /usr/local/lib/python3.10/dist-packages (from requests>=2.19.0->evaluate) (3.3.2)\n",
      "Requirement already satisfied: idna<4,>=2.5 in /usr/local/lib/python3.10/dist-packages (from requests>=2.19.0->evaluate) (3.6)\n",
      "Requirement already satisfied: urllib3<3,>=1.21.1 in /usr/local/lib/python3.10/dist-packages (from requests>=2.19.0->evaluate) (2.0.7)\n",
      "Requirement already satisfied: certifi>=2017.4.17 in /usr/local/lib/python3.10/dist-packages (from requests>=2.19.0->evaluate) (2024.2.2)\n",
      "Requirement already satisfied: python-dateutil>=2.8.1 in /usr/local/lib/python3.10/dist-packages (from pandas->evaluate) (2.8.2)\n",
      "Requirement already satisfied: pytz>=2020.1 in /usr/local/lib/python3.10/dist-packages (from pandas->evaluate) (2023.4)\n",
      "Requirement already satisfied: aiosignal>=1.1.2 in /usr/local/lib/python3.10/dist-packages (from aiohttp->datasets>=2.0.0->evaluate) (1.3.1)\n",
      "Requirement already satisfied: attrs>=17.3.0 in /usr/local/lib/python3.10/dist-packages (from aiohttp->datasets>=2.0.0->evaluate) (23.2.0)\n",
      "Requirement already satisfied: frozenlist>=1.1.1 in /usr/local/lib/python3.10/dist-packages (from aiohttp->datasets>=2.0.0->evaluate) (1.4.1)\n",
      "Requirement already satisfied: multidict<7.0,>=4.5 in /usr/local/lib/python3.10/dist-packages (from aiohttp->datasets>=2.0.0->evaluate) (6.0.5)\n",
      "Requirement already satisfied: yarl<2.0,>=1.0 in /usr/local/lib/python3.10/dist-packages (from aiohttp->datasets>=2.0.0->evaluate) (1.9.4)\n",
      "Requirement already satisfied: async-timeout<5.0,>=4.0 in /usr/local/lib/python3.10/dist-packages (from aiohttp->datasets>=2.0.0->evaluate) (4.0.3)\n",
      "Requirement already satisfied: six>=1.5 in /usr/local/lib/python3.10/dist-packages (from python-dateutil>=2.8.1->pandas->evaluate) (1.16.0)\n",
      "Requirement already satisfied: seqeval in /usr/local/lib/python3.10/dist-packages (1.2.2)\n",
      "Requirement already satisfied: numpy>=1.14.0 in /usr/local/lib/python3.10/dist-packages (from seqeval) (1.25.2)\n",
      "Requirement already satisfied: scikit-learn>=0.21.3 in /usr/local/lib/python3.10/dist-packages (from seqeval) (1.2.2)\n",
      "Requirement already satisfied: scipy>=1.3.2 in /usr/local/lib/python3.10/dist-packages (from scikit-learn>=0.21.3->seqeval) (1.11.4)\n",
      "Requirement already satisfied: joblib>=1.1.1 in /usr/local/lib/python3.10/dist-packages (from scikit-learn>=0.21.3->seqeval) (1.3.2)\n",
      "Requirement already satisfied: threadpoolctl>=2.0.0 in /usr/local/lib/python3.10/dist-packages (from scikit-learn>=0.21.3->seqeval) (3.3.0)\n"
     ]
    }
   ],
   "source": [
    "!pip install wandb -qU\n",
    "!pip install datasets transformers\n",
    "!pip install evaluate\n",
    "!pip install seqeval"
   ]
  },
  {
   "cell_type": "code",
   "execution_count": 22,
   "metadata": {
    "colab": {
     "base_uri": "https://localhost:8080/"
    },
    "executionInfo": {
     "elapsed": 6735,
     "status": "ok",
     "timestamp": 1710790408215,
     "user": {
      "displayName": "Nicholas Jennings",
      "userId": "07082218790184614317"
     },
     "user_tz": -60
    },
    "id": "TVIfTrCjX7u7",
    "outputId": "bb798df2-2a1e-4d6c-a7e8-1044233a5159"
   },
   "outputs": [
    {
     "name": "stdout",
     "output_type": "stream",
     "text": [
      "Archive:  models.zip\n",
      "replace models/de/xlm_roberta_wiki_neural_de_ep_4.pth? [y]es, [n]o, [A]ll, [N]one, [r]ename: N\n"
     ]
    }
   ],
   "source": [
    "!unzip models.zip"
   ]
  },
  {
   "cell_type": "code",
   "execution_count": 23,
   "metadata": {
    "colab": {
     "base_uri": "https://localhost:8080/"
    },
    "executionInfo": {
     "elapsed": 15,
     "status": "ok",
     "timestamp": 1710790408215,
     "user": {
      "displayName": "Nicholas Jennings",
      "userId": "07082218790184614317"
     },
     "user_tz": -60
    },
    "id": "EEPjbLFfdBXw",
    "outputId": "9362a9a9-a014-43e9-97d0-f970512c4448"
   },
   "outputs": [
    {
     "name": "stdout",
     "output_type": "stream",
     "text": [
      "mkdir: cannot create directory ‘results’: File exists\n"
     ]
    }
   ],
   "source": [
    "!mkdir results"
   ]
  },
  {
   "cell_type": "code",
   "execution_count": 24,
   "metadata": {
    "ExecuteTime": {
     "end_time": "2024-03-18T16:12:31.496632500Z",
     "start_time": "2024-03-18T16:11:43.242717900Z"
    },
    "collapsed": true,
    "executionInfo": {
     "elapsed": 10,
     "status": "ok",
     "timestamp": 1710790408215,
     "user": {
      "displayName": "Nicholas Jennings",
      "userId": "07082218790184614317"
     },
     "user_tz": -60
    },
    "id": "7hJ3e666Xyou",
    "jupyter": {
     "outputs_hidden": true
    }
   },
   "outputs": [],
   "source": [
    "from datasets import load_dataset\n",
    "from transformers import XLMRobertaTokenizerFast\n",
    "from transformers import XLMRobertaModel\n",
    "import torch\n",
    "import json\n",
    "from torch.utils.data import DataLoader\n",
    "from MultiNER.utils import tokenize_and_align_labels\n",
    "from MultiNER.XLMRobertaLinearEntityTagger import XLMRobertaLinearEntityTagger\n",
    "from MultiNER.XLMRobertaLinearEntityTagger import evaluate_model\n",
    "from pprint import pprint"
   ]
  },
  {
   "cell_type": "code",
   "execution_count": 25,
   "metadata": {
    "ExecuteTime": {
     "end_time": "2024-03-18T16:12:31.558771800Z",
     "start_time": "2024-03-18T16:12:31.505729100Z"
    },
    "executionInfo": {
     "elapsed": 9,
     "status": "ok",
     "timestamp": 1710790408215,
     "user": {
      "displayName": "Nicholas Jennings",
      "userId": "07082218790184614317"
     },
     "user_tz": -60
    },
    "id": "Xbq30j9XXyoz"
   },
   "outputs": [],
   "source": [
    "languages_codes = [\"de\", \"nl\", \"en\", \"fr\", \"it\", \"es\", \"pt\", \"pl\", \"ru\"]"
   ]
  },
  {
   "cell_type": "code",
   "execution_count": 26,
   "metadata": {
    "ExecuteTime": {
     "end_time": "2024-03-18T16:12:31.572544700Z",
     "start_time": "2024-03-18T16:12:31.545666300Z"
    },
    "executionInfo": {
     "elapsed": 9,
     "status": "ok",
     "timestamp": 1710790408215,
     "user": {
      "displayName": "Nicholas Jennings",
      "userId": "07082218790184614317"
     },
     "user_tz": -60
    },
    "id": "kzCGJmdaXyo0"
   },
   "outputs": [],
   "source": [
    "# Hyperparameters\n",
    "BATCH_SIZE = 64\n",
    "NUM_CLASSES = 9"
   ]
  },
  {
   "cell_type": "code",
   "execution_count": 27,
   "metadata": {
    "ExecuteTime": {
     "end_time": "2024-03-18T16:12:32.187798300Z",
     "start_time": "2024-03-18T16:12:31.576366200Z"
    },
    "colab": {
     "base_uri": "https://localhost:8080/"
    },
    "executionInfo": {
     "elapsed": 9,
     "status": "ok",
     "timestamp": 1710790408216,
     "user": {
      "displayName": "Nicholas Jennings",
      "userId": "07082218790184614317"
     },
     "user_tz": -60
    },
    "id": "brENPIx5Xyo1",
    "outputId": "d2863d37-8204-4f16-cf0f-b50ce6413b66"
   },
   "outputs": [
    {
     "name": "stdout",
     "output_type": "stream",
     "text": [
      "Using cuda\n"
     ]
    }
   ],
   "source": [
    "# check if gpu available\n",
    "DEVICE = torch.device('cuda' if torch.cuda.is_available() else 'cpu')\n",
    "print(f\"Using {DEVICE}\")"
   ]
  },
  {
   "cell_type": "code",
   "execution_count": 28,
   "metadata": {
    "ExecuteTime": {
     "end_time": "2024-03-18T16:12:59.009301100Z",
     "start_time": "2024-03-18T16:12:32.192785200Z"
    },
    "executionInfo": {
     "elapsed": 2170,
     "status": "ok",
     "timestamp": 1710790410379,
     "user": {
      "displayName": "Nicholas Jennings",
      "userId": "07082218790184614317"
     },
     "user_tz": -60
    },
    "id": "fDLxi8_UXyo3"
   },
   "outputs": [],
   "source": [
    "# load dataset\n",
    "wiki_neural_dataset = load_dataset(\"Babelscape/wikineural\")"
   ]
  },
  {
   "cell_type": "code",
   "execution_count": 29,
   "metadata": {
    "ExecuteTime": {
     "end_time": "2024-03-18T16:13:00.925449600Z",
     "start_time": "2024-03-18T16:12:59.015286300Z"
    },
    "executionInfo": {
     "elapsed": 1427,
     "status": "ok",
     "timestamp": 1710790411802,
     "user": {
      "displayName": "Nicholas Jennings",
      "userId": "07082218790184614317"
     },
     "user_tz": -60
    },
    "id": "dpUYi162Xyo4"
   },
   "outputs": [],
   "source": [
    "# load roberta tokenizer\n",
    "XLMRoberta_tokenizer = XLMRobertaTokenizerFast.from_pretrained(\"xlm-roberta-base\")"
   ]
  },
  {
   "cell_type": "code",
   "execution_count": 30,
   "metadata": {
    "ExecuteTime": {
     "end_time": "2024-03-18T16:13:10.608761Z",
     "start_time": "2024-03-18T16:13:00.929624200Z"
    },
    "executionInfo": {
     "elapsed": 1195,
     "status": "ok",
     "timestamp": 1710790412993,
     "user": {
      "displayName": "Nicholas Jennings",
      "userId": "07082218790184614317"
     },
     "user_tz": -60
    },
    "id": "udOyZGUMXyo4"
   },
   "outputs": [],
   "source": [
    "# load XLMRoberta model\n",
    "xlm_roberta_model = XLMRobertaModel.from_pretrained(\"xlm-roberta-base\")"
   ]
  },
  {
   "cell_type": "code",
   "execution_count": 31,
   "metadata": {
    "ExecuteTime": {
     "end_time": "2024-03-18T16:13:25.463536200Z",
     "start_time": "2024-03-18T16:13:10.647357700Z"
    },
    "colab": {
     "base_uri": "https://localhost:8080/",
     "height": 1000,
     "referenced_widgets": [
      "bf4fba364aef423885b9ac8a42958c73",
      "769fb6ed1af5425bbf5b5fba4bad128d",
      "0d6f80e5e8f54e5baf53e07bde7b3284",
      "ec41f54383ce4f0d92c33bf0c130088d",
      "32ea37603c5743e0bbf5b021cda07f7c",
      "0594632d950643a7ba9079d7abd96260",
      "0326331f4f264514b87012f77093bb74",
      "2d60fd5aa6a940faa70188dcb2afb489",
      "d7034f44148f47b9a93f92030cb86bb2",
      "d03595aef3844907b38e05b1077c7b51",
      "e96d399d9b8d44f7a4e344844016ba32",
      "4a248e29354d43a4941b3e54d4bcd650",
      "e522c34bcb89432ea1152a60beb06d27",
      "77658c09d93e4875ad68da7cd53521a5",
      "dfd9749476464678bac6efee5f8a8ada",
      "a38f24bc61c74381b13a695aeb797986",
      "9481a4f1c3974f90bcd80bf80a28c77f",
      "bbc9eb35f97b44cb882bdca6569f5b90",
      "8a8f8ea9d78c4499804029845f8c73f0",
      "c06a61935f1b4eaa9d55dcf5c097e485",
      "5ab53bf5ddfa4490b29583a94434b2bf",
      "2267e9bc32ec47368b34d272c02b0f0e",
      "36dab65085f94999aeb24f70b65d9203",
      "aa29f9e03dd34d15af230eb9abdd69b1",
      "f1e7a712554a4af988aaa0f17af45564",
      "5e7cc1c062ca405fad270f431e166d7e",
      "23f5ac34787a419cb2450b3cdedc31b5",
      "1ee073ae0a004157a37cd93abd4ffb92",
      "4a83bd1a569848db8d352c5c85e66965",
      "c44865400e7e413fb26409e030b4c7dc",
      "01325c3ebf6a47d38e85498148dbe699",
      "046771dc2e3c4bb79a05f09238128399",
      "3411a45a9fe44d8486884c66fdded5fd",
      "d64736f4a343492fa6c3d710d0b5395b",
      "7b00b98e06bf42b48138bc13a4b15763",
      "f67774b768dc4fcc809ad2dbba749274",
      "08221393e00547f89f4830c70f9d308e",
      "a1ee5095115a4025b42432144d7b911f",
      "b7b1e953e65a462583afaec17c66dfcb",
      "262965619a834ebbb4646f2e0bc55cce",
      "ca2f37fd7fe94a64a6dcfd50c6babced",
      "6b9baf2751564caa93324b5e27ddac2e",
      "1ea25e6af3b5461fb151d0468a43e098",
      "509a7606bd854dc5ad40d4ce03c57069",
      "4108600b400b41309cd3afcc6f3288a9",
      "cf972c3dffb24ca89f1ac9af9ea802c7",
      "f0e74734dd1e44f1bc2e270f9e3d8298",
      "3220d7280bef4b4cbe0e9737e2accf5d",
      "00b1e8a61abb4d5b8343ca0d7e66ed85",
      "3a8ec2ea4af24721bd40d2e12aaf2168",
      "1d8cd894bfde4e6e8246ad741edeef08",
      "600aff8ad78743339bb47f648594d0ef",
      "aa3093c246654946a93904dc07c1b27a",
      "c35f9f2af31748ab80c09551b0acf60f",
      "f270b08b4997417f8166008a0ed57faa",
      "de07367cdd5541a4973d7f2177b29ac6",
      "b5c22cd677f44c788592197dd68a043e",
      "f7079e99d9c5442884b54e61db626db3",
      "5c0a66be783f4a45ad9d754ebf04f104",
      "1d767a2609284194b5a868afaa941ca5",
      "3564340c3d674581a24693211f27e273",
      "73a4bf8e87ea4fb2a931d4297a828273",
      "3cf2811508ec4d239a6206cde89e5585",
      "700254940b3249d6a73491bbe6bb3a5b",
      "58b51da4dc3a48ff81c6917d60da9923",
      "43d2c62972934af88858862c2bcf5d38",
      "f87fe96732fc4be48b0eda44bc05712c",
      "7105421537c84e1eaac8d7bddc6be1c8",
      "7def1c96de5a4994ad9168255b1e6b0c",
      "32f3f34d0a20411f919366d1eddf1046",
      "0a9bae49d2b44df2b256b4cb9dd54253",
      "1b8332f22e1d4ed083a556d877f46a18",
      "bd1674d84eb74a5fb3659cfe2587e6a6",
      "130df25e13384ce98dfa477576fe61e7",
      "0c02f0aebc5945e287d2fa36d15bad60",
      "b224e8e3e61c4f6ca4f838917b8e54b0",
      "bd9a272bfe6c435486946592fbd34ff9",
      "4231f7207ad54679be6e59ba31288d75",
      "88ac8b1b3c084e26896865f6cfc9169b",
      "22e9ad056eef409083bd398f5f234d29",
      "1369a14d758b44cab49e7b3b5bbc08bf",
      "350022afbdd248139c082b9bc3205d85",
      "c267d1db749b4d4aa018e8d748108d7e",
      "cf60a3014287418abf1243771e88e68b",
      "634c80e895714f1188aab7985ffffbb3",
      "08fbd064689348f08f1e6c9fa5395336",
      "66ee89640781454e9126ebd64b520048",
      "8dd7df1e2461450e9033b60efbd78f94",
      "b2d9a5f2959d44e39e310b4d8db31669",
      "81488bcb10be4181b3a837cb7c5d90a1",
      "a19818bf4a094229b0169b6b18938efd",
      "cd2fce06fd5f4f92809baa90ded45933",
      "894d7f5a164547a3bff73e3a9ce3b534",
      "1e6d52c37e59471191246c0e4423a406",
      "53f86b710c3e462493c96f60dd4df975",
      "6dc6bce085324bf8b312fc2da8946335",
      "d714f208406248c39558e8a156f83263",
      "6568af94451f4b73b02b3c8dddccba3b",
      "e72307f5c3934f3b940201719cbafba6"
     ]
    },
    "executionInfo": {
     "elapsed": 44840,
     "status": "ok",
     "timestamp": 1710790457814,
     "user": {
      "displayName": "Nicholas Jennings",
      "userId": "07082218790184614317"
     },
     "user_tz": -60
    },
    "id": "6zQ9GFiuXyo5",
    "outputId": "dcab7418-c657-4e04-d1c3-c316c7957dc8"
   },
   "outputs": [
    {
     "name": "stdout",
     "output_type": "stream",
     "text": [
      "preparing de dataset\n",
      "wiki-neural-de-test-set:  Dataset({\n",
      "    features: ['tokens', 'ner_tags', 'lang'],\n",
      "    num_rows: 12372\n",
      "})\n"
     ]
    },
    {
     "data": {
      "application/vnd.jupyter.widget-view+json": {
       "model_id": "bf4fba364aef423885b9ac8a42958c73",
       "version_major": 2,
       "version_minor": 0
      },
      "text/plain": [
       "Map:   0%|          | 0/12372 [00:00<?, ? examples/s]"
      ]
     },
     "metadata": {},
     "output_type": "display_data"
    },
    {
     "name": "stdout",
     "output_type": "stream",
     "text": [
      "Done!\n",
      "preparing nl dataset\n",
      "wiki-neural-nl-test-set:  Dataset({\n",
      "    features: ['tokens', 'ner_tags', 'lang'],\n",
      "    num_rows: 10547\n",
      "})\n"
     ]
    },
    {
     "data": {
      "application/vnd.jupyter.widget-view+json": {
       "model_id": "4a248e29354d43a4941b3e54d4bcd650",
       "version_major": 2,
       "version_minor": 0
      },
      "text/plain": [
       "Map:   0%|          | 0/10547 [00:00<?, ? examples/s]"
      ]
     },
     "metadata": {},
     "output_type": "display_data"
    },
    {
     "name": "stdout",
     "output_type": "stream",
     "text": [
      "Done!\n",
      "preparing en dataset\n",
      "wiki-neural-en-test-set:  Dataset({\n",
      "    features: ['tokens', 'ner_tags', 'lang'],\n",
      "    num_rows: 11597\n",
      "})\n"
     ]
    },
    {
     "data": {
      "application/vnd.jupyter.widget-view+json": {
       "model_id": "36dab65085f94999aeb24f70b65d9203",
       "version_major": 2,
       "version_minor": 0
      },
      "text/plain": [
       "Map:   0%|          | 0/11597 [00:00<?, ? examples/s]"
      ]
     },
     "metadata": {},
     "output_type": "display_data"
    },
    {
     "name": "stdout",
     "output_type": "stream",
     "text": [
      "Done!\n",
      "preparing fr dataset\n",
      "wiki-neural-fr-test-set:  Dataset({\n",
      "    features: ['tokens', 'ner_tags', 'lang'],\n",
      "    num_rows: 12678\n",
      "})\n"
     ]
    },
    {
     "data": {
      "application/vnd.jupyter.widget-view+json": {
       "model_id": "d64736f4a343492fa6c3d710d0b5395b",
       "version_major": 2,
       "version_minor": 0
      },
      "text/plain": [
       "Map:   0%|          | 0/12678 [00:00<?, ? examples/s]"
      ]
     },
     "metadata": {},
     "output_type": "display_data"
    },
    {
     "name": "stdout",
     "output_type": "stream",
     "text": [
      "Done!\n",
      "preparing it dataset\n",
      "wiki-neural-it-test-set:  Dataset({\n",
      "    features: ['tokens', 'ner_tags', 'lang'],\n",
      "    num_rows: 11069\n",
      "})\n"
     ]
    },
    {
     "data": {
      "application/vnd.jupyter.widget-view+json": {
       "model_id": "4108600b400b41309cd3afcc6f3288a9",
       "version_major": 2,
       "version_minor": 0
      },
      "text/plain": [
       "Map:   0%|          | 0/11069 [00:00<?, ? examples/s]"
      ]
     },
     "metadata": {},
     "output_type": "display_data"
    },
    {
     "name": "stdout",
     "output_type": "stream",
     "text": [
      "Done!\n",
      "preparing es dataset\n",
      "wiki-neural-es-test-set:  Dataset({\n",
      "    features: ['tokens', 'ner_tags', 'lang'],\n",
      "    num_rows: 9618\n",
      "})\n"
     ]
    },
    {
     "data": {
      "application/vnd.jupyter.widget-view+json": {
       "model_id": "de07367cdd5541a4973d7f2177b29ac6",
       "version_major": 2,
       "version_minor": 0
      },
      "text/plain": [
       "Map:   0%|          | 0/9618 [00:00<?, ? examples/s]"
      ]
     },
     "metadata": {},
     "output_type": "display_data"
    },
    {
     "name": "stdout",
     "output_type": "stream",
     "text": [
      "Done!\n",
      "preparing pt dataset\n",
      "wiki-neural-pt-test-set:  Dataset({\n",
      "    features: ['tokens', 'ner_tags', 'lang'],\n",
      "    num_rows: 10160\n",
      "})\n"
     ]
    },
    {
     "data": {
      "application/vnd.jupyter.widget-view+json": {
       "model_id": "f87fe96732fc4be48b0eda44bc05712c",
       "version_major": 2,
       "version_minor": 0
      },
      "text/plain": [
       "Map:   0%|          | 0/10160 [00:00<?, ? examples/s]"
      ]
     },
     "metadata": {},
     "output_type": "display_data"
    },
    {
     "name": "stdout",
     "output_type": "stream",
     "text": [
      "Done!\n",
      "preparing pl dataset\n",
      "wiki-neural-pl-test-set:  Dataset({\n",
      "    features: ['tokens', 'ner_tags', 'lang'],\n",
      "    num_rows: 13585\n",
      "})\n"
     ]
    },
    {
     "data": {
      "application/vnd.jupyter.widget-view+json": {
       "model_id": "4231f7207ad54679be6e59ba31288d75",
       "version_major": 2,
       "version_minor": 0
      },
      "text/plain": [
       "Map:   0%|          | 0/13585 [00:00<?, ? examples/s]"
      ]
     },
     "metadata": {},
     "output_type": "display_data"
    },
    {
     "name": "stdout",
     "output_type": "stream",
     "text": [
      "Done!\n",
      "preparing ru dataset\n",
      "wiki-neural-ru-test-set:  Dataset({\n",
      "    features: ['tokens', 'ner_tags', 'lang'],\n",
      "    num_rows: 11580\n",
      "})\n"
     ]
    },
    {
     "data": {
      "application/vnd.jupyter.widget-view+json": {
       "model_id": "b2d9a5f2959d44e39e310b4d8db31669",
       "version_major": 2,
       "version_minor": 0
      },
      "text/plain": [
       "Map:   0%|          | 0/11580 [00:00<?, ? examples/s]"
      ]
     },
     "metadata": {},
     "output_type": "display_data"
    },
    {
     "name": "stdout",
     "output_type": "stream",
     "text": [
      "Done!\n"
     ]
    }
   ],
   "source": [
    "# make dictionary containing all test splits\n",
    "test_split_dict = dict()\n",
    "test_loader_dict = dict()\n",
    "for language in languages_codes:\n",
    "    print(f\"preparing {language} dataset\")\n",
    "    test_set = wiki_neural_dataset[\"test_\" + language]\n",
    "    print(f\"wiki-neural-{language}-test-set: \", test_set)\n",
    "    #test_set = test_set.select(range(20)) # small set for testing\n",
    "    test_set = test_set.map(tokenize_and_align_labels, batched=True, batch_size=BATCH_SIZE, fn_kwargs={\"tokenizer\": XLMRoberta_tokenizer})\n",
    "    test_set.set_format(type='torch', columns=['input_ids', 'attention_mask', 'labels'])\n",
    "    print(\"Done!\")\n",
    "    test_loader = DataLoader(test_set, batch_size=BATCH_SIZE, pin_memory=True)\n",
    "    test_split_dict[language] = test_set\n",
    "    test_loader_dict[language] = test_loader"
   ]
  },
  {
   "cell_type": "code",
   "execution_count": 32,
   "metadata": {
    "executionInfo": {
     "elapsed": 15,
     "status": "ok",
     "timestamp": 1710790457815,
     "user": {
      "displayName": "Nicholas Jennings",
      "userId": "07082218790184614317"
     },
     "user_tz": -60
    },
    "id": "NrYfho7lkQw0"
   },
   "outputs": [],
   "source": [
    "models_to_skip = {}"
   ]
  },
  {
   "cell_type": "code",
   "execution_count": 33,
   "metadata": {
    "ExecuteTime": {
     "end_time": "2024-03-18T16:18:05.226749200Z",
     "start_time": "2024-03-18T16:13:25.478319Z"
    },
    "colab": {
     "base_uri": "https://localhost:8080/"
    },
    "executionInfo": {
     "elapsed": 4954998,
     "status": "ok",
     "timestamp": 1710795412804,
     "user": {
      "displayName": "Nicholas Jennings",
      "userId": "07082218790184614317"
     },
     "user_tz": -60
    },
    "id": "1GW3rApTXyo5",
    "outputId": "7b68357a-fdfe-4233-bfec-742f18a8c0d8"
   },
   "outputs": [
    {
     "name": "stdout",
     "output_type": "stream",
     "text": [
      "using model at: models/de/xlm_roberta_wiki_neural_de_ep_4.pth\n",
      "loading model\n",
      "done!\n",
      "evaluating on de test set\n"
     ]
    },
    {
     "name": "stderr",
     "output_type": "stream",
     "text": [
      "100%|██████████| 194/194 [00:45<00:00,  4.27it/s]\n"
     ]
    },
    {
     "name": "stdout",
     "output_type": "stream",
     "text": [
      "{'accuracy': 0.9773256778717041,\n",
      " 'loss': 0.06968175815706401,\n",
      " 'seqeval': {'LOC': {'f1': 0.8697169445521521,\n",
      "                     'number': 5000,\n",
      "                     'precision': 0.8438675696012039,\n",
      "                     'recall': 0.8972},\n",
      "             'MISC': {'f1': 0.5582321321919171,\n",
      "                      'number': 2638,\n",
      "                      'precision': 0.5878406708595388,\n",
      "                      'recall': 0.5314632297194845},\n",
      "             'ORG': {'f1': 0.840133435976392,\n",
      "                     'number': 3951,\n",
      "                     'precision': 0.8519385896435077,\n",
      "                     'recall': 0.8286509744368514},\n",
      "             'PER': {'f1': 0.9611609048228766,\n",
      "                     'number': 5855,\n",
      "                     'precision': 0.9607508532423208,\n",
      "                     'recall': 0.9615713065755764},\n",
      "             'overall_accuracy': 0.9773256680705155,\n",
      "             'overall_f1': 0.8489439853076216,\n",
      "             'overall_precision': 0.8499195587221329,\n",
      "             'overall_recall': 0.8479706489337308}}\n",
      "evaluating on nl test set\n"
     ]
    },
    {
     "name": "stderr",
     "output_type": "stream",
     "text": [
      "100%|██████████| 165/165 [00:41<00:00,  3.98it/s]\n"
     ]
    },
    {
     "name": "stdout",
     "output_type": "stream",
     "text": [
      "{'accuracy': 0.9746530652046204,\n",
      " 'loss': 0.09966058270497756,\n",
      " 'seqeval': {'LOC': {'f1': 0.8452705612171666,\n",
      "                     'number': 6909,\n",
      "                     'precision': 0.8382918149466192,\n",
      "                     'recall': 0.8523664785062961},\n",
      "             'MISC': {'f1': 0.5207990599294947,\n",
      "                      'number': 2388,\n",
      "                      'precision': 0.5934654525977504,\n",
      "                      'recall': 0.4639865996649916},\n",
      "             'ORG': {'f1': 0.6940326871911819,\n",
      "                     'number': 1328,\n",
      "                     'precision': 0.7006907137375288,\n",
      "                     'recall': 0.6875},\n",
      "             'PER': {'f1': 0.9377449850126817,\n",
      "                     'number': 4317,\n",
      "                     'precision': 0.933440440670186,\n",
      "                     'recall': 0.9420894139448691},\n",
      "             'overall_accuracy': 0.9746530374802627,\n",
      "             'overall_f1': 0.8121651861395539,\n",
      "             'overall_precision': 0.8230483782297966,\n",
      "             'overall_recall': 0.8015660554142685}}\n",
      "evaluating on en test set\n"
     ]
    },
    {
     "name": "stderr",
     "output_type": "stream",
     "text": [
      "100%|██████████| 182/182 [00:55<00:00,  3.25it/s]\n"
     ]
    },
    {
     "name": "stdout",
     "output_type": "stream",
     "text": [
      "{'accuracy': 0.9646722078323364,\n",
      " 'loss': 0.12175475548093136,\n",
      " 'seqeval': {'LOC': {'f1': 0.7395885599598595,\n",
      "                     'number': 5955,\n",
      "                     'precision': 0.736631684157921,\n",
      "                     'recall': 0.7425692695214106},\n",
      "             'MISC': {'f1': 0.5164245517602408,\n",
      "                      'number': 4505,\n",
      "                      'precision': 0.6291454081632653,\n",
      "                      'recall': 0.4379578246392897},\n",
      "             'ORG': {'f1': 0.6559495192307692,\n",
      "                     'number': 3449,\n",
      "                     'precision': 0.6806984720922981,\n",
      "                     'recall': 0.6329370832125254},\n",
      "             'PER': {'f1': 0.8701152943577187,\n",
      "                     'number': 5207,\n",
      "                     'precision': 0.9281671745755333,\n",
      "                     'recall': 0.8188976377952756},\n",
      "             'overall_accuracy': 0.9646721940446558,\n",
      "             'overall_f1': 0.7123363656534281,\n",
      "             'overall_precision': 0.7580873671782763,\n",
      "             'overall_recall': 0.6717932621887425}}\n",
      "evaluating on fr test set\n"
     ]
    },
    {
     "name": "stderr",
     "output_type": "stream",
     "text": [
      "100%|██████████| 199/199 [01:08<00:00,  2.89it/s]\n"
     ]
    },
    {
     "name": "stdout",
     "output_type": "stream",
     "text": [
      "{'accuracy': 0.9589983820915222,\n",
      " 'loss': 0.139370609074831,\n",
      " 'seqeval': {'LOC': {'f1': 0.8052599263200982,\n",
      "                     'number': 9814,\n",
      "                     'precision': 0.8087358684480986,\n",
      "                     'recall': 0.8018137354799266},\n",
      "             'MISC': {'f1': 0.46077348066298346,\n",
      "                      'number': 2592,\n",
      "                      'precision': 0.4408033826638478,\n",
      "                      'recall': 0.4826388888888889},\n",
      "             'ORG': {'f1': 0.5226843100189036,\n",
      "                     'number': 3505,\n",
      "                     'precision': 0.5835385156524798,\n",
      "                     'recall': 0.47332382310984306},\n",
      "             'PER': {'f1': 0.9390883420734166,\n",
      "                     'number': 6221,\n",
      "                     'precision': 0.9426627793974732,\n",
      "                     'recall': 0.9355409098215721},\n",
      "             'overall_accuracy': 0.9589983633387889,\n",
      "             'overall_f1': 0.7593842212411647,\n",
      "             'overall_precision': 0.769006254343294,\n",
      "             'overall_recall': 0.75}}\n",
      "evaluating on it test set\n"
     ]
    },
    {
     "name": "stderr",
     "output_type": "stream",
     "text": [
      "100%|██████████| 173/173 [01:11<00:00,  2.41it/s]\n"
     ]
    },
    {
     "name": "stdout",
     "output_type": "stream",
     "text": [
      "{'accuracy': 0.9683261513710022,\n",
      " 'loss': 0.11273908038015311,\n",
      " 'seqeval': {'LOC': {'f1': 0.8188480594549958,\n",
      "                     'number': 9788,\n",
      "                     'precision': 0.8273884021693784,\n",
      "                     'recall': 0.8104822231303637},\n",
      "             'MISC': {'f1': 0.3817266744096012,\n",
      "                      'number': 2342,\n",
      "                      'precision': 0.34915014164305946,\n",
      "                      'recall': 0.4210076857386849},\n",
      "             'ORG': {'f1': 0.5687928307854507,\n",
      "                     'number': 2229,\n",
      "                     'precision': 0.6894568690095847,\n",
      "                     'recall': 0.484073575594437},\n",
      "             'PER': {'f1': 0.8937185929648243,\n",
      "                     'number': 8377,\n",
      "                     'precision': 0.9431260771576296,\n",
      "                     'recall': 0.8492300346185986},\n",
      "             'overall_accuracy': 0.9683261676451611,\n",
      "             'overall_f1': 0.7733188720173536,\n",
      "             'overall_precision': 0.7951672862453532,\n",
      "             'overall_recall': 0.7526389866291344}}\n",
      "evaluating on es test set\n"
     ]
    },
    {
     "name": "stderr",
     "output_type": "stream",
     "text": [
      "100%|██████████| 151/151 [00:49<00:00,  3.08it/s]\n"
     ]
    },
    {
     "name": "stdout",
     "output_type": "stream",
     "text": [
      "{'accuracy': 0.9674646258354187,\n",
      " 'loss': 0.1143933291861553,\n",
      " 'seqeval': {'LOC': {'f1': 0.8156433320297224,\n",
      "                     'number': 6157,\n",
      "                     'precision': 0.7866626433313216,\n",
      "                     'recall': 0.8468409939905799},\n",
      "             'MISC': {'f1': 0.5298588490770901,\n",
      "                      'number': 2817,\n",
      "                      'precision': 0.540420819490587,\n",
      "                      'recall': 0.5197018104366348},\n",
      "             'ORG': {'f1': 0.6455231930960086,\n",
      "                     'number': 2239,\n",
      "                     'precision': 0.6243739565943238,\n",
      "                     'recall': 0.6681554265297007},\n",
      "             'PER': {'f1': 0.9598952754968464,\n",
      "                     'number': 4187,\n",
      "                     'precision': 0.9565939278937381,\n",
      "                     'recall': 0.9632194888941963},\n",
      "             'overall_accuracy': 0.9674646511974146,\n",
      "             'overall_f1': 0.77878082235478,\n",
      "             'overall_precision': 0.7653771396325788,\n",
      "             'overall_recall': 0.7926623376623376}}\n",
      "evaluating on pt test set\n"
     ]
    },
    {
     "name": "stderr",
     "output_type": "stream",
     "text": [
      "100%|██████████| 159/159 [00:59<00:00,  2.67it/s]\n"
     ]
    },
    {
     "name": "stdout",
     "output_type": "stream",
     "text": [
      "{'accuracy': 0.9657283425331116,\n",
      " 'loss': 0.12379524570965916,\n",
      " 'seqeval': {'LOC': {'f1': 0.836013986013986,\n",
      "                     'number': 11620,\n",
      "                     'precision': 0.8493783303730018,\n",
      "                     'recall': 0.8230636833046472},\n",
      "             'MISC': {'f1': 0.48916811091854423,\n",
      "                      'number': 2203,\n",
      "                      'precision': 0.467882304185661,\n",
      "                      'recall': 0.5124829777576033},\n",
      "             'ORG': {'f1': 0.5457516339869282,\n",
      "                     'number': 1342,\n",
      "                     'precision': 0.6039783001808319,\n",
      "                     'recall': 0.4977645305514158},\n",
      "             'PER': {'f1': 0.901696606786427,\n",
      "                     'number': 4143,\n",
      "                     'precision': 0.9331267751097341,\n",
      "                     'recall': 0.8723147477673183},\n",
      "             'overall_accuracy': 0.9657283589556116,\n",
      "             'overall_f1': 0.7889884088514226,\n",
      "             'overall_precision': 0.8028629637572379,\n",
      "             'overall_recall': 0.775585249637456}}\n",
      "evaluating on pl test set\n"
     ]
    },
    {
     "name": "stderr",
     "output_type": "stream",
     "text": [
      "100%|██████████| 213/213 [01:02<00:00,  3.42it/s]\n"
     ]
    },
    {
     "name": "stdout",
     "output_type": "stream",
     "text": [
      "{'accuracy': 0.9562682509422302,\n",
      " 'loss': 0.1608770775473174,\n",
      " 'seqeval': {'LOC': {'f1': 0.8462384030251067,\n",
      "                     'number': 11488,\n",
      "                     'precision': 0.8549977787649934,\n",
      "                     'recall': 0.8376566852367688},\n",
      "             'MISC': {'f1': 0.46365914786967427,\n",
      "                      'number': 2042,\n",
      "                      'precision': 0.40422432629278954,\n",
      "                      'recall': 0.5435847208619001},\n",
      "             'ORG': {'f1': 0.6610586787033237,\n",
      "                     'number': 2419,\n",
      "                     'precision': 0.6562118126272912,\n",
      "                     'recall': 0.6659776767259198},\n",
      "             'PER': {'f1': 0.9117402164862614,\n",
      "                     'number': 5969,\n",
      "                     'precision': 0.9063069028306572,\n",
      "                     'recall': 0.9172390685206903},\n",
      "             'overall_accuracy': 0.9562682769359311,\n",
      "             'overall_f1': 0.8023865811099854,\n",
      "             'overall_precision': 0.792061163710717,\n",
      "             'overall_recall': 0.8129847613833379}}\n",
      "evaluating on ru test set\n"
     ]
    },
    {
     "name": "stderr",
     "output_type": "stream",
     "text": [
      "100%|██████████| 181/181 [01:02<00:00,  2.91it/s]\n"
     ]
    },
    {
     "name": "stdout",
     "output_type": "stream",
     "text": [
      "{'accuracy': 0.9435395002365112,\n",
      " 'loss': 0.2041402541883084,\n",
      " 'seqeval': {'LOC': {'f1': 0.8102665580258409,\n",
      "                     'number': 8596,\n",
      "                     'precision': 0.8107384113673421,\n",
      "                     'recall': 0.8097952536063285},\n",
      "             'MISC': {'f1': 0.39003250270855905,\n",
      "                      'number': 2421,\n",
      "                      'precision': 0.3118811881188119,\n",
      "                      'recall': 0.5204460966542751},\n",
      "             'ORG': {'f1': 0.4461596385542169,\n",
      "                     'number': 3051,\n",
      "                     'precision': 0.5241043785935426,\n",
      "                     'recall': 0.38839724680432647},\n",
      "             'PER': {'f1': 0.7184498178204703,\n",
      "                     'number': 3426,\n",
      "                     'precision': 0.8303981623277182,\n",
      "                     'recall': 0.6330998248686515},\n",
      "             'overall_accuracy': 0.9435395209553293,\n",
      "             'overall_f1': 0.6615608836052925,\n",
      "             'overall_precision': 0.6614663695068289,\n",
      "             'overall_recall': 0.6616554247170459}}\n",
      "using model at: models/nl/xlm_roberta_wiki_neural_nl_ep_4.pth\n",
      "loading model\n",
      "done!\n",
      "evaluating on de test set\n"
     ]
    },
    {
     "name": "stderr",
     "output_type": "stream",
     "text": [
      "100%|██████████| 194/194 [00:48<00:00,  4.03it/s]\n"
     ]
    },
    {
     "name": "stdout",
     "output_type": "stream",
     "text": [
      "{'accuracy': 0.9304768443107605,\n",
      " 'loss': 0.2133428828464341,\n",
      " 'seqeval': {'LOC': {'f1': 0.7139569943664208,\n",
      "                     'number': 5000,\n",
      "                     'precision': 0.5917401025910825,\n",
      "                     'recall': 0.8998},\n",
      "             'MISC': {'f1': 0.3501926782273603,\n",
      "                      'number': 2638,\n",
      "                      'precision': 0.25661842569714083,\n",
      "                      'recall': 0.5511751326762699},\n",
      "             'ORG': {'f1': 0.7198974239421844,\n",
      "                     'number': 3951,\n",
      "                     'precision': 0.6672428694900605,\n",
      "                     'recall': 0.7815742849911415},\n",
      "             'PER': {'f1': 0.9465817409766454,\n",
      "                     'number': 5855,\n",
      "                     'precision': 0.9413851351351351,\n",
      "                     'recall': 0.9518360375747225},\n",
      "             'overall_accuracy': 0.9304768737654205,\n",
      "             'overall_f1': 0.7083686774435908,\n",
      "             'overall_precision': 0.6135953310660452,\n",
      "             'overall_recall': 0.8377665673010777}}\n",
      "evaluating on nl test set\n"
     ]
    },
    {
     "name": "stderr",
     "output_type": "stream",
     "text": [
      "100%|██████████| 165/165 [00:41<00:00,  3.99it/s]\n"
     ]
    },
    {
     "name": "stdout",
     "output_type": "stream",
     "text": [
      "{'accuracy': 0.9841321706771851,\n",
      " 'loss': 0.053826160232226056,\n",
      " 'seqeval': {'LOC': {'f1': 0.8928192430137956,\n",
      "                     'number': 6909,\n",
      "                     'precision': 0.8732355383337946,\n",
      "                     'recall': 0.9133014908090896},\n",
      "             'MISC': {'f1': 0.6876471847570114,\n",
      "                      'number': 2388,\n",
      "                      'precision': 0.7034603591765222,\n",
      "                      'recall': 0.6725293132328308},\n",
      "             'ORG': {'f1': 0.7757951900698216,\n",
      "                     'number': 1328,\n",
      "                     'precision': 0.8,\n",
      "                     'recall': 0.7530120481927711},\n",
      "             'PER': {'f1': 0.9503414747077208,\n",
      "                     'number': 4317,\n",
      "                     'precision': 0.9497917630726516,\n",
      "                     'recall': 0.950891823025249},\n",
      "             'overall_accuracy': 0.9841321781766807,\n",
      "             'overall_f1': 0.8674016587283083,\n",
      "             'overall_precision': 0.8634042835355745,\n",
      "             'overall_recall': 0.8714362200508633}}\n",
      "evaluating on en test set\n"
     ]
    },
    {
     "name": "stderr",
     "output_type": "stream",
     "text": [
      "100%|██████████| 182/182 [00:55<00:00,  3.26it/s]\n"
     ]
    },
    {
     "name": "stdout",
     "output_type": "stream",
     "text": [
      "{'accuracy': 0.9662555456161499,\n",
      " 'loss': 0.11243846973629443,\n",
      " 'seqeval': {'LOC': {'f1': 0.7729702639492148,\n",
      "                     'number': 5955,\n",
      "                     'precision': 0.7689878677081602,\n",
      "                     'recall': 0.7769941225860622},\n",
      "             'MISC': {'f1': 0.5936497400154885,\n",
      "                      'number': 4505,\n",
      "                      'precision': 0.5917512130569034,\n",
      "                      'recall': 0.595560488346282},\n",
      "             'ORG': {'f1': 0.6507221618263705,\n",
      "                     'number': 3449,\n",
      "                     'precision': 0.7006688963210702,\n",
      "                     'recall': 0.6074224412873297},\n",
      "             'PER': {'f1': 0.8555431131019037,\n",
      "                     'number': 5207,\n",
      "                     'precision': 0.9103119584055459,\n",
      "                     'recall': 0.8069905895909353},\n",
      "             'overall_accuracy': 0.966255544534072,\n",
      "             'overall_f1': 0.7301263649290372,\n",
      "             'overall_precision': 0.7494079418406124,\n",
      "             'overall_recall': 0.7118120945804561}}\n",
      "evaluating on fr test set\n"
     ]
    },
    {
     "name": "stderr",
     "output_type": "stream",
     "text": [
      "100%|██████████| 199/199 [01:08<00:00,  2.89it/s]\n"
     ]
    },
    {
     "name": "stdout",
     "output_type": "stream",
     "text": [
      "{'accuracy': 0.9632242321968079,\n",
      " 'loss': 0.12249706541398662,\n",
      " 'seqeval': {'LOC': {'f1': 0.799434600434146,\n",
      "                     'number': 9814,\n",
      "                     'precision': 0.7921960980490245,\n",
      "                     'recall': 0.806806602812309},\n",
      "             'MISC': {'f1': 0.5051409618573798,\n",
      "                      'number': 2592,\n",
      "                      'precision': 0.44299011052937753,\n",
      "                      'recall': 0.5875771604938271},\n",
      "             'ORG': {'f1': 0.46208604147322807,\n",
      "                     'number': 3505,\n",
      "                     'precision': 0.5049036185322963,\n",
      "                     'recall': 0.425962910128388},\n",
      "             'PER': {'f1': 0.9403178722024003,\n",
      "                     'number': 6221,\n",
      "                     'precision': 0.9487808869252168,\n",
      "                     'recall': 0.9320045008841022},\n",
      "             'overall_accuracy': 0.9632242225859247,\n",
      "             'overall_f1': 0.7497591468196177,\n",
      "             'overall_precision': 0.7436113950491089,\n",
      "             'overall_recall': 0.7560093981565155}}\n",
      "evaluating on it test set\n"
     ]
    },
    {
     "name": "stderr",
     "output_type": "stream",
     "text": [
      "100%|██████████| 173/173 [01:11<00:00,  2.40it/s]\n"
     ]
    },
    {
     "name": "stdout",
     "output_type": "stream",
     "text": [
      "{'accuracy': 0.9719260334968567,\n",
      " 'loss': 0.09764553147847253,\n",
      " 'seqeval': {'LOC': {'f1': 0.8221832800742191,\n",
      "                     'number': 9788,\n",
      "                     'precision': 0.8296234657790722,\n",
      "                     'recall': 0.8148753575807111},\n",
      "             'MISC': {'f1': 0.43260422508880164,\n",
      "                      'number': 2342,\n",
      "                      'precision': 0.3847688726305288,\n",
      "                      'recall': 0.49402220324508966},\n",
      "             'ORG': {'f1': 0.5725593667546174,\n",
      "                     'number': 2229,\n",
      "                     'precision': 0.695067264573991,\n",
      "                     'recall': 0.4867653656348138},\n",
      "             'PER': {'f1': 0.8928323334385854,\n",
      "                     'number': 8377,\n",
      "                     'precision': 0.9478412443014212,\n",
      "                     'recall': 0.8438581831204488},\n",
      "             'overall_accuracy': 0.9719260475426906,\n",
      "             'overall_f1': 0.7791148368487469,\n",
      "             'overall_precision': 0.7988447319778188,\n",
      "             'overall_recall': 0.7603360309641097}}\n",
      "evaluating on es test set\n"
     ]
    },
    {
     "name": "stderr",
     "output_type": "stream",
     "text": [
      "100%|██████████| 151/151 [00:49<00:00,  3.08it/s]\n"
     ]
    },
    {
     "name": "stdout",
     "output_type": "stream",
     "text": [
      "{'accuracy': 0.9719749093055725,\n",
      " 'loss': 0.10303624689776376,\n",
      " 'seqeval': {'LOC': {'f1': 0.8173791821561338,\n",
      "                     'number': 6157,\n",
      "                     'precision': 0.78119911176906,\n",
      "                     'recall': 0.8570732499593958},\n",
      "             'MISC': {'f1': 0.6010270940322295,\n",
      "                      'number': 2817,\n",
      "                      'precision': 0.5996466431095406,\n",
      "                      'recall': 0.6024139155129571},\n",
      "             'ORG': {'f1': 0.6595269968763944,\n",
      "                     'number': 2239,\n",
      "                     'precision': 0.6589389210878288,\n",
      "                     'recall': 0.6601161232693167},\n",
      "             'PER': {'f1': 0.962291169451074,\n",
      "                     'number': 4187,\n",
      "                     'precision': 0.9616026711185309,\n",
      "                     'recall': 0.9629806544064963},\n",
      "             'overall_accuracy': 0.9719749350825645,\n",
      "             'overall_f1': 0.7946277966964768,\n",
      "             'overall_precision': 0.7792272642157169,\n",
      "             'overall_recall': 0.8106493506493506}}\n",
      "evaluating on pt test set\n"
     ]
    },
    {
     "name": "stderr",
     "output_type": "stream",
     "text": [
      "100%|██████████| 159/159 [00:59<00:00,  2.66it/s]\n"
     ]
    },
    {
     "name": "stdout",
     "output_type": "stream",
     "text": [
      "{'accuracy': 0.9746483564376831,\n",
      " 'loss': 0.09128643138884748,\n",
      " 'seqeval': {'LOC': {'f1': 0.86041150858021,\n",
      "                     'number': 11620,\n",
      "                     'precision': 0.8536337455531086,\n",
      "                     'recall': 0.8672977624784853},\n",
      "             'MISC': {'f1': 0.552177485620378,\n",
      "                      'number': 2203,\n",
      "                      'precision': 0.5043151969981239,\n",
      "                      'recall': 0.6100771674988652},\n",
      "             'ORG': {'f1': 0.5736800630417652,\n",
      "                     'number': 1342,\n",
      "                     'precision': 0.6086956521739131,\n",
      "                     'recall': 0.5424739195230999},\n",
      "             'PER': {'f1': 0.8990986479719578,\n",
      "                     'number': 4143,\n",
      "                     'precision': 0.9339401820546164,\n",
      "                     'recall': 0.8667632150615496},\n",
      "             'overall_accuracy': 0.9746483751178496,\n",
      "             'overall_f1': 0.8109737248840803,\n",
      "             'overall_precision': 0.8067343173431735,\n",
      "             'overall_recall': 0.8152579241765071}}\n",
      "evaluating on pl test set\n"
     ]
    },
    {
     "name": "stderr",
     "output_type": "stream",
     "text": [
      "100%|██████████| 213/213 [01:02<00:00,  3.43it/s]\n"
     ]
    },
    {
     "name": "stdout",
     "output_type": "stream",
     "text": [
      "{'accuracy': 0.962515652179718,\n",
      " 'loss': 0.13512243893644618,\n",
      " 'seqeval': {'LOC': {'f1': 0.8483333333333334,\n",
      "                     'number': 11488,\n",
      "                     'precision': 0.8549328147100425,\n",
      "                     'recall': 0.8418349582172702},\n",
      "             'MISC': {'f1': 0.49162497280835327,\n",
      "                      'number': 2042,\n",
      "                      'precision': 0.44227005870841485,\n",
      "                      'recall': 0.5533790401567091},\n",
      "             'ORG': {'f1': 0.6777889447236182,\n",
      "                     'number': 2419,\n",
      "                     'precision': 0.6596244131455399,\n",
      "                     'recall': 0.6969822240595287},\n",
      "             'PER': {'f1': 0.9039026437263953,\n",
      "                     'number': 5969,\n",
      "                     'precision': 0.9056508577194753,\n",
      "                     'recall': 0.9021611660244597},\n",
      "             'overall_accuracy': 0.9625156659450838,\n",
      "             'overall_f1': 0.8070991487343916,\n",
      "             'overall_precision': 0.7989628503732844,\n",
      "             'overall_recall': 0.8154028652249293}}\n",
      "evaluating on ru test set\n"
     ]
    },
    {
     "name": "stderr",
     "output_type": "stream",
     "text": [
      "100%|██████████| 181/181 [01:01<00:00,  2.93it/s]\n"
     ]
    },
    {
     "name": "stdout",
     "output_type": "stream",
     "text": [
      "{'accuracy': 0.9429323077201843,\n",
      " 'loss': 0.2012852777351332,\n",
      " 'seqeval': {'LOC': {'f1': 0.8021568290024667,\n",
      "                     'number': 8596,\n",
      "                     'precision': 0.7912187393911961,\n",
      "                     'recall': 0.8134015821312238},\n",
      "             'MISC': {'f1': 0.3882539682539683,\n",
      "                      'number': 2421,\n",
      "                      'precision': 0.31528744521783963,\n",
      "                      'recall': 0.5051631557207765},\n",
      "             'ORG': {'f1': 0.44977843426883307,\n",
      "                     'number': 3051,\n",
      "                     'precision': 0.5150105708245243,\n",
      "                     'recall': 0.3992133726647001},\n",
      "             'PER': {'f1': 0.7169749009247027,\n",
      "                     'number': 3426,\n",
      "                     'precision': 0.8254752851711027,\n",
      "                     'recall': 0.6336835960303561},\n",
      "             'overall_accuracy': 0.9429323201052482,\n",
      "             'overall_f1': 0.6592245419684704,\n",
      "             'overall_precision': 0.6551860425724126,\n",
      "             'overall_recall': 0.6633131359323197}}\n",
      "using model at: models/en/xlm_roberta_wiki_neural_en_ep_4.pth\n",
      "loading model\n",
      "done!\n",
      "evaluating on de test set\n"
     ]
    },
    {
     "name": "stderr",
     "output_type": "stream",
     "text": [
      "100%|██████████| 194/194 [00:50<00:00,  3.83it/s]\n"
     ]
    },
    {
     "name": "stdout",
     "output_type": "stream",
     "text": [
      "{'accuracy': 0.9429857134819031,\n",
      " 'loss': 0.1820316467549383,\n",
      " 'seqeval': {'LOC': {'f1': 0.7417640807651434,\n",
      "                     'number': 5000,\n",
      "                     'precision': 0.6272639292133279,\n",
      "                     'recall': 0.9074},\n",
      "             'MISC': {'f1': 0.3838836038052602,\n",
      "                      'number': 2638,\n",
      "                      'precision': 0.3042128603104213,\n",
      "                      'recall': 0.5200909780136467},\n",
      "             'ORG': {'f1': 0.6080083203328133,\n",
      "                     'number': 3951,\n",
      "                     'precision': 0.516066384180791,\n",
      "                     'recall': 0.7398127056441407},\n",
      "             'PER': {'f1': 0.9417288505072525,\n",
      "                     'number': 5855,\n",
      "                     'precision': 0.924901185770751,\n",
      "                     'recall': 0.9591801878736123},\n",
      "             'overall_accuracy': 0.9429857254668108,\n",
      "             'overall_f1': 0.7061065904259218,\n",
      "             'overall_precision': 0.6153584053835343,\n",
      "             'overall_recall': 0.8282504012841091}}\n",
      "evaluating on nl test set\n"
     ]
    },
    {
     "name": "stderr",
     "output_type": "stream",
     "text": [
      "100%|██████████| 165/165 [00:41<00:00,  3.99it/s]\n"
     ]
    },
    {
     "name": "stdout",
     "output_type": "stream",
     "text": [
      "{'accuracy': 0.9790576100349426,\n",
      " 'loss': 0.07877909868504061,\n",
      " 'seqeval': {'LOC': {'f1': 0.857222338131998,\n",
      "                     'number': 6909,\n",
      "                     'precision': 0.8250334672021419,\n",
      "                     'recall': 0.8920248950644087},\n",
      "             'MISC': {'f1': 0.6331823795800742,\n",
      "                      'number': 2388,\n",
      "                      'precision': 0.622672064777328,\n",
      "                      'recall': 0.6440536013400335},\n",
      "             'ORG': {'f1': 0.6462081128747795,\n",
      "                     'number': 1328,\n",
      "                     'precision': 0.6078301260783012,\n",
      "                     'recall': 0.6897590361445783},\n",
      "             'PER': {'f1': 0.9008217944388157,\n",
      "                     'number': 4317,\n",
      "                     'precision': 0.8762593079281646,\n",
      "                     'recall': 0.9268010192263145},\n",
      "             'overall_accuracy': 0.9790575916230366,\n",
      "             'overall_f1': 0.815247940558876,\n",
      "             'overall_precision': 0.7879847623805658,\n",
      "             'overall_recall': 0.8444652656940169}}\n",
      "evaluating on en test set\n"
     ]
    },
    {
     "name": "stderr",
     "output_type": "stream",
     "text": [
      "100%|██████████| 182/182 [00:56<00:00,  3.23it/s]\n"
     ]
    },
    {
     "name": "stdout",
     "output_type": "stream",
     "text": [
      "{'accuracy': 0.9779528975486755,\n",
      " 'loss': 0.0717052282090043,\n",
      " 'seqeval': {'LOC': {'f1': 0.8227755697947928,\n",
      "                     'number': 5955,\n",
      "                     'precision': 0.7957326639472858,\n",
      "                     'recall': 0.8517212426532326},\n",
      "             'MISC': {'f1': 0.657253718473809,\n",
      "                      'number': 4505,\n",
      "                      'precision': 0.6388015922899644,\n",
      "                      'recall': 0.6768035516093229},\n",
      "             'ORG': {'f1': 0.7567890182035214,\n",
      "                     'number': 3449,\n",
      "                     'precision': 0.7795880725484169,\n",
      "                     'recall': 0.7352855900260945},\n",
      "             'PER': {'f1': 0.9087796062018454,\n",
      "                     'number': 5207,\n",
      "                     'precision': 0.900301545420279,\n",
      "                     'recall': 0.9174188592279624},\n",
      "             'overall_accuracy': 0.9779528737998541,\n",
      "             'overall_f1': 0.7951161712431096,\n",
      "             'overall_precision': 0.7832132345478534,\n",
      "             'overall_recall': 0.8073864825277255}}\n",
      "evaluating on fr test set\n"
     ]
    },
    {
     "name": "stderr",
     "output_type": "stream",
     "text": [
      "100%|██████████| 199/199 [01:08<00:00,  2.90it/s]\n"
     ]
    },
    {
     "name": "stdout",
     "output_type": "stream",
     "text": [
      "{'accuracy': 0.9612831473350525,\n",
      " 'loss': 0.13624241657966946,\n",
      " 'seqeval': {'LOC': {'f1': 0.791186241938636,\n",
      "                     'number': 9814,\n",
      "                     'precision': 0.7599962455415806,\n",
      "                     'recall': 0.8250458528632566},\n",
      "             'MISC': {'f1': 0.4902574808629089,\n",
      "                      'number': 2592,\n",
      "                      'precision': 0.44645120405576677,\n",
      "                      'recall': 0.5435956790123457},\n",
      "             'ORG': {'f1': 0.3885491939966648,\n",
      "                     'number': 3505,\n",
      "                     'precision': 0.37875914386345166,\n",
      "                     'recall': 0.39885877318116975},\n",
      "             'PER': {'f1': 0.9362376237623763,\n",
      "                     'number': 6221,\n",
      "                     'precision': 0.9228607120549657,\n",
      "                     'recall': 0.9500080372930397},\n",
      "             'overall_accuracy': 0.9612831423895254,\n",
      "             'overall_f1': 0.7304559376153963,\n",
      "             'overall_precision': 0.7033674963396779,\n",
      "             'overall_recall': 0.7597144406289535}}\n",
      "evaluating on it test set\n"
     ]
    },
    {
     "name": "stderr",
     "output_type": "stream",
     "text": [
      "100%|██████████| 173/173 [01:12<00:00,  2.40it/s]\n"
     ]
    },
    {
     "name": "stdout",
     "output_type": "stream",
     "text": [
      "{'accuracy': 0.9746219515800476,\n",
      " 'loss': 0.09248713528834326,\n",
      " 'seqeval': {'LOC': {'f1': 0.8274822962181708,\n",
      "                     'number': 9788,\n",
      "                     'precision': 0.81379037834634,\n",
      "                     'recall': 0.841642827952595},\n",
      "             'MISC': {'f1': 0.43643564356435643,\n",
      "                      'number': 2342,\n",
      "                      'precision': 0.4069423929098966,\n",
      "                      'recall': 0.4705380017079419},\n",
      "             'ORG': {'f1': 0.6934970441109595,\n",
      "                     'number': 2229,\n",
      "                     'precision': 0.7030889810972798,\n",
      "                     'recall': 0.6841633019291162},\n",
      "             'PER': {'f1': 0.9126770665232204,\n",
      "                     'number': 8377,\n",
      "                     'precision': 0.9139334450562605,\n",
      "                     'recall': 0.9114241375193983},\n",
      "             'overall_accuracy': 0.9746219646975398,\n",
      "             'overall_f1': 0.8027771750922109,\n",
      "             'overall_precision': 0.7921555193971054,\n",
      "             'overall_recall': 0.8136875439831105}}\n",
      "evaluating on es test set\n"
     ]
    },
    {
     "name": "stderr",
     "output_type": "stream",
     "text": [
      "100%|██████████| 151/151 [00:49<00:00,  3.08it/s]\n"
     ]
    },
    {
     "name": "stdout",
     "output_type": "stream",
     "text": [
      "{'accuracy': 0.9715370535850525,\n",
      " 'loss': 0.10394222109226992,\n",
      " 'seqeval': {'LOC': {'f1': 0.8338921060652241,\n",
      "                     'number': 6157,\n",
      "                     'precision': 0.7854169656954213,\n",
      "                     'recall': 0.8887445184343025},\n",
      "             'MISC': {'f1': 0.5992879746835444,\n",
      "                      'number': 2817,\n",
      "                      'precision': 0.6766413577489951,\n",
      "                      'recall': 0.5378061767838126},\n",
      "             'ORG': {'f1': 0.630942091616249,\n",
      "                     'number': 2239,\n",
      "                     'precision': 0.6111343658434492,\n",
      "                     'recall': 0.6520768200089325},\n",
      "             'PER': {'f1': 0.9523248969982343,\n",
      "                     'number': 4187,\n",
      "                     'precision': 0.9389507892293407,\n",
      "                     'recall': 0.9660855027465967},\n",
      "             'overall_accuracy': 0.9715370434432296,\n",
      "             'overall_f1': 0.7981343641184551,\n",
      "             'overall_precision': 0.7855121675155631,\n",
      "             'overall_recall': 0.8111688311688312}}\n",
      "evaluating on pt test set\n"
     ]
    },
    {
     "name": "stderr",
     "output_type": "stream",
     "text": [
      "100%|██████████| 159/159 [00:59<00:00,  2.66it/s]\n"
     ]
    },
    {
     "name": "stdout",
     "output_type": "stream",
     "text": [
      "{'accuracy': 0.974355936050415,\n",
      " 'loss': 0.10031688583534469,\n",
      " 'seqeval': {'LOC': {'f1': 0.8643071588650683,\n",
      "                     'number': 11620,\n",
      "                     'precision': 0.8496134342006817,\n",
      "                     'recall': 0.8795180722891566},\n",
      "             'MISC': {'f1': 0.5802002224694104,\n",
      "                      'number': 2203,\n",
      "                      'precision': 0.568935427574171,\n",
      "                      'recall': 0.5919201089423514},\n",
      "             'ORG': {'f1': 0.6170875129712902,\n",
      "                     'number': 1342,\n",
      "                     'precision': 0.5758553905745643,\n",
      "                     'recall': 0.6646795827123696},\n",
      "             'PER': {'f1': 0.890303976931395,\n",
      "                     'number': 4143,\n",
      "                     'precision': 0.8863636363636364,\n",
      "                     'recall': 0.8942795076031861},\n",
      "             'overall_accuracy': 0.9743559155715468,\n",
      "             'overall_f1': 0.8191981299862798,\n",
      "             'overall_precision': 0.8040399002493765,\n",
      "             'overall_recall': 0.8349388854360886}}\n",
      "evaluating on pl test set\n"
     ]
    },
    {
     "name": "stderr",
     "output_type": "stream",
     "text": [
      "100%|██████████| 213/213 [01:02<00:00,  3.39it/s]\n"
     ]
    },
    {
     "name": "stdout",
     "output_type": "stream",
     "text": [
      "{'accuracy': 0.9676284790039062,\n",
      " 'loss': 0.12024209270594825,\n",
      " 'seqeval': {'LOC': {'f1': 0.8675200952664484,\n",
      "                     'number': 11488,\n",
      "                     'precision': 0.8481496881496882,\n",
      "                     'recall': 0.8877959610027855},\n",
      "             'MISC': {'f1': 0.48147326381184824,\n",
      "                      'number': 2042,\n",
      "                      'precision': 0.44016227180527384,\n",
      "                      'recall': 0.5313418217433888},\n",
      "             'ORG': {'f1': 0.6773881030807983,\n",
      "                     'number': 2419,\n",
      "                     'precision': 0.637490882567469,\n",
      "                     'recall': 0.7226126498553122},\n",
      "             'PER': {'f1': 0.899708360337006,\n",
      "                     'number': 5969,\n",
      "                     'precision': 0.8710588235294118,\n",
      "                     'recall': 0.9303065840174234},\n",
      "             'overall_accuracy': 0.9676284607496867,\n",
      "             'overall_f1': 0.8164744645799012,\n",
      "             'overall_precision': 0.7872664887533358,\n",
      "             'overall_recall': 0.8479332055844512}}\n",
      "evaluating on ru test set\n"
     ]
    },
    {
     "name": "stderr",
     "output_type": "stream",
     "text": [
      "100%|██████████| 181/181 [01:02<00:00,  2.91it/s]\n"
     ]
    },
    {
     "name": "stdout",
     "output_type": "stream",
     "text": [
      "{'accuracy': 0.9557019472122192,\n",
      " 'loss': 0.15999002573569177,\n",
      " 'seqeval': {'LOC': {'f1': 0.8247329960652052,\n",
      "                     'number': 8596,\n",
      "                     'precision': 0.7979116815314335,\n",
      "                     'recall': 0.8534201954397395},\n",
      "             'MISC': {'f1': 0.4340770791075051,\n",
      "                      'number': 2421,\n",
      "                      'precision': 0.36738197424892705,\n",
      "                      'recall': 0.530359355638166},\n",
      "             'ORG': {'f1': 0.4798567591763653,\n",
      "                     'number': 3051,\n",
      "                     'precision': 0.5288082083662194,\n",
      "                     'recall': 0.4392002622091118},\n",
      "             'PER': {'f1': 0.8121578795736101,\n",
      "                     'number': 3426,\n",
      "                     'precision': 0.8017633674630261,\n",
      "                     'recall': 0.8228254524226504},\n",
      "             'overall_accuracy': 0.9557019379827132,\n",
      "             'overall_f1': 0.7053790743245107,\n",
      "             'overall_precision': 0.681946742088692,\n",
      "             'overall_recall': 0.7304790213787584}}\n",
      "using model at: models/fr/xlm_roberta_wiki_neural_fr_ep_4.pth\n",
      "loading model\n",
      "done!\n",
      "evaluating on de test set\n"
     ]
    },
    {
     "name": "stderr",
     "output_type": "stream",
     "text": [
      "100%|██████████| 194/194 [00:48<00:00,  4.02it/s]\n"
     ]
    },
    {
     "name": "stdout",
     "output_type": "stream",
     "text": [
      "{'accuracy': 0.9198082685470581,\n",
      " 'loss': 0.2630213184915867,\n",
      " 'seqeval': {'LOC': {'f1': 0.6379519361049704,\n",
      "                     'number': 5000,\n",
      "                     'precision': 0.495733126454616,\n",
      "                     'recall': 0.8946},\n",
      "             'MISC': {'f1': 0.3383320178900289,\n",
      "                      'number': 2638,\n",
      "                      'precision': 0.25906526994359386,\n",
      "                      'recall': 0.4874905231235785},\n",
      "             'ORG': {'f1': 0.5451240376390077,\n",
      "                     'number': 3951,\n",
      "                     'precision': 0.47194963895574893,\n",
      "                     'recall': 0.645153125790939},\n",
      "             'PER': {'f1': 0.9074790457769182,\n",
      "                     'number': 5855,\n",
      "                     'precision': 0.8591484816114756,\n",
      "                     'recall': 0.9615713065755764},\n",
      "             'overall_accuracy': 0.9198082441951474,\n",
      "             'overall_f1': 0.6425262187391956,\n",
      "             'overall_precision': 0.5372961720828033,\n",
      "             'overall_recall': 0.799013987617519}}\n",
      "evaluating on nl test set\n"
     ]
    },
    {
     "name": "stderr",
     "output_type": "stream",
     "text": [
      "100%|██████████| 165/165 [00:41<00:00,  3.95it/s]\n"
     ]
    },
    {
     "name": "stdout",
     "output_type": "stream",
     "text": [
      "{'accuracy': 0.9711989760398865,\n",
      " 'loss': 0.11878754153396144,\n",
      " 'seqeval': {'LOC': {'f1': 0.7860044555104182,\n",
      "                     'number': 6909,\n",
      "                     'precision': 0.718065365736861,\n",
      "                     'recall': 0.8681430018816038},\n",
      "             'MISC': {'f1': 0.5663501339177015,\n",
      "                      'number': 2388,\n",
      "                      'precision': 0.6765561372891216,\n",
      "                      'recall': 0.4870184254606365},\n",
      "             'ORG': {'f1': 0.6349693251533742,\n",
      "                     'number': 1328,\n",
      "                     'precision': 0.646875,\n",
      "                     'recall': 0.6234939759036144},\n",
      "             'PER': {'f1': 0.9229380570912783,\n",
      "                     'number': 4317,\n",
      "                     'precision': 0.8996920369555653,\n",
      "                     'recall': 0.9474171878619412},\n",
      "             'overall_accuracy': 0.9711989944319788,\n",
      "             'overall_f1': 0.7833333333333333,\n",
      "             'overall_precision': 0.7597811045414518,\n",
      "             'overall_recall': 0.8083924508097979}}\n",
      "evaluating on en test set\n"
     ]
    },
    {
     "name": "stderr",
     "output_type": "stream",
     "text": [
      "100%|██████████| 182/182 [00:56<00:00,  3.24it/s]\n"
     ]
    },
    {
     "name": "stdout",
     "output_type": "stream",
     "text": [
      "{'accuracy': 0.9631412625312805,\n",
      " 'loss': 0.12421427884108417,\n",
      " 'seqeval': {'LOC': {'f1': 0.6838049974796572,\n",
      "                     'number': 5955,\n",
      "                     'precision': 0.5985879979828542,\n",
      "                     'recall': 0.797313182199832},\n",
      "             'MISC': {'f1': 0.5128205128205129,\n",
      "                      'number': 4505,\n",
      "                      'precision': 0.5988734064630893,\n",
      "                      'recall': 0.4483906770255272},\n",
      "             'ORG': {'f1': 0.5873256009413347,\n",
      "                     'number': 3449,\n",
      "                     'precision': 0.6988,\n",
      "                     'recall': 0.5065236300376921},\n",
      "             'PER': {'f1': 0.86923002794642,\n",
      "                     'number': 5207,\n",
      "                     'precision': 0.8723404255319149,\n",
      "                     'recall': 0.8661417322834646},\n",
      "             'overall_accuracy': 0.9631412475903501,\n",
      "             'overall_f1': 0.6838885826048147,\n",
      "             'overall_precision': 0.686429512516469,\n",
      "             'overall_recall': 0.6813663946432308}}\n",
      "evaluating on fr test set\n"
     ]
    },
    {
     "name": "stderr",
     "output_type": "stream",
     "text": [
      "100%|██████████| 199/199 [01:09<00:00,  2.88it/s]\n"
     ]
    },
    {
     "name": "stdout",
     "output_type": "stream",
     "text": [
      "{'accuracy': 0.9772307872772217,\n",
      " 'loss': 0.07443334300763643,\n",
      " 'seqeval': {'LOC': {'f1': 0.8610223642172524,\n",
      "                     'number': 9814,\n",
      "                     'precision': 0.8440007829320807,\n",
      "                     'recall': 0.8787446504992867},\n",
      "             'MISC': {'f1': 0.6196200077549439,\n",
      "                      'number': 2592,\n",
      "                      'precision': 0.622759158222915,\n",
      "                      'recall': 0.6165123456790124},\n",
      "             'ORG': {'f1': 0.7210669726086333,\n",
      "                     'number': 3505,\n",
      "                     'precision': 0.7249134948096886,\n",
      "                     'recall': 0.7172610556348075},\n",
      "             'PER': {'f1': 0.947427203829278,\n",
      "                     'number': 6221,\n",
      "                     'precision': 0.9404497941083307,\n",
      "                     'recall': 0.9545089213952741},\n",
      "             'overall_accuracy': 0.9772307692307692,\n",
      "             'overall_f1': 0.8355631124435097,\n",
      "             'overall_precision': 0.8275281396791634,\n",
      "             'overall_recall': 0.8437556479305982}}\n",
      "evaluating on it test set\n"
     ]
    },
    {
     "name": "stderr",
     "output_type": "stream",
     "text": [
      "100%|██████████| 173/173 [01:12<00:00,  2.40it/s]\n"
     ]
    },
    {
     "name": "stdout",
     "output_type": "stream",
     "text": [
      "{'accuracy': 0.977445662021637,\n",
      " 'loss': 0.07475945327667832,\n",
      " 'seqeval': {'LOC': {'f1': 0.8358579587782468,\n",
      "                     'number': 9788,\n",
      "                     'precision': 0.8132792113656132,\n",
      "                     'recall': 0.8597261953412342},\n",
      "             'MISC': {'f1': 0.491532599491956,\n",
      "                      'number': 2342,\n",
      "                      'precision': 0.48740554156171284,\n",
      "                      'recall': 0.49573014517506403},\n",
      "             'ORG': {'f1': 0.6851807517356955,\n",
      "                     'number': 2229,\n",
      "                     'precision': 0.7345995893223819,\n",
      "                     'recall': 0.6419919246298789},\n",
      "             'PER': {'f1': 0.9132125926826304,\n",
      "                     'number': 8377,\n",
      "                     'precision': 0.9301720935991086,\n",
      "                     'recall': 0.8968604512355258},\n",
      "             'overall_accuracy': 0.9774456504379269,\n",
      "             'overall_f1': 0.8142448889865905,\n",
      "             'overall_precision': 0.8139228267557352,\n",
      "             'overall_recall': 0.814567206192822}}\n",
      "evaluating on es test set\n"
     ]
    },
    {
     "name": "stderr",
     "output_type": "stream",
     "text": [
      "100%|██████████| 151/151 [00:49<00:00,  3.07it/s]\n"
     ]
    },
    {
     "name": "stdout",
     "output_type": "stream",
     "text": [
      "{'accuracy': 0.9736170172691345,\n",
      " 'loss': 0.09145057623256121,\n",
      " 'seqeval': {'LOC': {'f1': 0.8125905037725784,\n",
      "                     'number': 6157,\n",
      "                     'precision': 0.7655083285468122,\n",
      "                     'recall': 0.8658437550755238},\n",
      "             'MISC': {'f1': 0.6156941649899397,\n",
      "                      'number': 2817,\n",
      "                      'precision': 0.6350943396226415,\n",
      "                      'recall': 0.597444089456869},\n",
      "             'ORG': {'f1': 0.5637552545539467,\n",
      "                     'number': 2239,\n",
      "                     'precision': 0.5907978463044542,\n",
      "                     'recall': 0.539079946404645},\n",
      "             'PER': {'f1': 0.963076923076923,\n",
      "                     'number': 4187,\n",
      "                     'precision': 0.9544921416842599,\n",
      "                     'recall': 0.9718175304513972},\n",
      "             'overall_accuracy': 0.9736170287300705,\n",
      "             'overall_f1': 0.7848020434227331,\n",
      "             'overall_precision': 0.7719849246231156,\n",
      "             'overall_recall': 0.798051948051948}}\n",
      "evaluating on pt test set\n"
     ]
    },
    {
     "name": "stderr",
     "output_type": "stream",
     "text": [
      "100%|██████████| 159/159 [00:59<00:00,  2.66it/s]\n"
     ]
    },
    {
     "name": "stdout",
     "output_type": "stream",
     "text": [
      "{'accuracy': 0.9745790958404541,\n",
      " 'loss': 0.08990623113119377,\n",
      " 'seqeval': {'LOC': {'f1': 0.8595716584822349,\n",
      "                     'number': 11620,\n",
      "                     'precision': 0.8257353524141758,\n",
      "                     'recall': 0.8962994836488812},\n",
      "             'MISC': {'f1': 0.6125913699599151,\n",
      "                      'number': 2203,\n",
      "                      'precision': 0.6373895976447498,\n",
      "                      'recall': 0.5896504766227871},\n",
      "             'ORG': {'f1': 0.6452802359882006,\n",
      "                     'number': 1342,\n",
      "                     'precision': 0.6386861313868614,\n",
      "                     'recall': 0.6520119225037257},\n",
      "             'PER': {'f1': 0.9014254650881857,\n",
      "                     'number': 4143,\n",
      "                     'precision': 0.9022974607013301,\n",
      "                     'recall': 0.9005551532705769},\n",
      "             'overall_accuracy': 0.9745791083831989,\n",
      "             'overall_f1': 0.8270829110075004,\n",
      "             'overall_precision': 0.8096844612026196,\n",
      "             'overall_recall': 0.8452454940957116}}\n",
      "evaluating on pl test set\n"
     ]
    },
    {
     "name": "stderr",
     "output_type": "stream",
     "text": [
      "100%|██████████| 213/213 [01:02<00:00,  3.41it/s]\n"
     ]
    },
    {
     "name": "stdout",
     "output_type": "stream",
     "text": [
      "{'accuracy': 0.9454255700111389,\n",
      " 'loss': 0.19193027717686595,\n",
      " 'seqeval': {'LOC': {'f1': 0.81136568941447,\n",
      "                     'number': 11488,\n",
      "                     'precision': 0.7679154360329551,\n",
      "                     'recall': 0.8600278551532033},\n",
      "             'MISC': {'f1': 0.5300448430493274,\n",
      "                      'number': 2042,\n",
      "                      'precision': 0.48883374689826303,\n",
      "                      'recall': 0.5788442703232125},\n",
      "             'ORG': {'f1': 0.6460778258184064,\n",
      "                     'number': 2419,\n",
      "                     'precision': 0.6435602953240361,\n",
      "                     'recall': 0.6486151302190988},\n",
      "             'PER': {'f1': 0.8857466063348416,\n",
      "                     'number': 5969,\n",
      "                     'precision': 0.8554705790541595,\n",
      "                     'recall': 0.918244262020439},\n",
      "             'overall_accuracy': 0.9454255440355475,\n",
      "             'overall_f1': 0.7866744847655655,\n",
      "             'overall_precision': 0.7506320195615235,\n",
      "             'overall_recall': 0.8263527694132676}}\n",
      "evaluating on ru test set\n"
     ]
    },
    {
     "name": "stderr",
     "output_type": "stream",
     "text": [
      "100%|██████████| 181/181 [01:02<00:00,  2.91it/s]\n"
     ]
    },
    {
     "name": "stdout",
     "output_type": "stream",
     "text": [
      "{'accuracy': 0.9378216862678528,\n",
      " 'loss': 0.2165114887429206,\n",
      " 'seqeval': {'LOC': {'f1': 0.7320090805902383,\n",
      "                     'number': 8596,\n",
      "                     'precision': 0.7146498226950354,\n",
      "                     'recall': 0.7502326663564448},\n",
      "             'MISC': {'f1': 0.3927921368765926,\n",
      "                      'number': 2421,\n",
      "                      'precision': 0.351122681418809,\n",
      "                      'recall': 0.44568360181743083},\n",
      "             'ORG': {'f1': 0.4717125382262997,\n",
      "                     'number': 3051,\n",
      "                     'precision': 0.5657955066483265,\n",
      "                     'recall': 0.40445755490003277},\n",
      "             'PER': {'f1': 0.7578243694925555,\n",
      "                     'number': 3426,\n",
      "                     'precision': 0.7902408111533586,\n",
      "                     'recall': 0.7279626386456509},\n",
      "             'overall_accuracy': 0.9378217129503982,\n",
      "             'overall_f1': 0.6445258818140175,\n",
      "             'overall_precision': 0.6456349661580819,\n",
      "             'overall_recall': 0.643420601349034}}\n",
      "using model at: models/it/xlm_roberta_wiki_neural_it_ep_4.pth\n",
      "loading model\n",
      "done!\n",
      "evaluating on de test set\n"
     ]
    },
    {
     "name": "stderr",
     "output_type": "stream",
     "text": [
      "100%|██████████| 194/194 [00:48<00:00,  4.00it/s]\n"
     ]
    },
    {
     "name": "stdout",
     "output_type": "stream",
     "text": [
      "{'accuracy': 0.9225336313247681,\n",
      " 'loss': 0.25800690907485707,\n",
      " 'seqeval': {'LOC': {'f1': 0.63913195659783,\n",
      "                     'number': 5000,\n",
      "                     'precision': 0.49165320409262253,\n",
      "                     'recall': 0.913},\n",
      "             'MISC': {'f1': 0.3565891472868217,\n",
      "                      'number': 2638,\n",
      "                      'precision': 0.26820875549608103,\n",
      "                      'recall': 0.5318423047763458},\n",
      "             'ORG': {'f1': 0.474966029058221,\n",
      "                     'number': 3951,\n",
      "                     'precision': 0.4045584045584046,\n",
      "                     'recall': 0.5750442925841559},\n",
      "             'PER': {'f1': 0.9088998464150029,\n",
      "                     'number': 5855,\n",
      "                     'precision': 0.8627992633517495,\n",
      "                     'recall': 0.9602049530315969},\n",
      "             'overall_accuracy': 0.9225336364652827,\n",
      "             'overall_f1': 0.6287761952281593,\n",
      "             'overall_precision': 0.5201891323926748,\n",
      "             'overall_recall': 0.7946571887181839}}\n",
      "evaluating on nl test set\n"
     ]
    },
    {
     "name": "stderr",
     "output_type": "stream",
     "text": [
      "100%|██████████| 165/165 [00:41<00:00,  3.97it/s]\n"
     ]
    },
    {
     "name": "stdout",
     "output_type": "stream",
     "text": [
      "{'accuracy': 0.9685344696044922,\n",
      " 'loss': 0.13041057067387032,\n",
      " 'seqeval': {'LOC': {'f1': 0.8077906747983474,\n",
      "                     'number': 6909,\n",
      "                     'precision': 0.7384892086330935,\n",
      "                     'recall': 0.8914459400781589},\n",
      "             'MISC': {'f1': 0.4528664871104271,\n",
      "                      'number': 2388,\n",
      "                      'precision': 0.4188612099644128,\n",
      "                      'recall': 0.49288107202680065},\n",
      "             'ORG': {'f1': 0.526745913818722,\n",
      "                     'number': 1328,\n",
      "                     'precision': 0.5197947214076246,\n",
      "                     'recall': 0.5338855421686747},\n",
      "             'PER': {'f1': 0.929711375212224,\n",
      "                     'number': 4317,\n",
      "                     'precision': 0.9090305444887118,\n",
      "                     'recall': 0.95135510771369},\n",
      "             'overall_accuracy': 0.9685344469375883,\n",
      "             'overall_f1': 0.7601175955463815,\n",
      "             'overall_precision': 0.7134805072804133,\n",
      "             'overall_recall': 0.8132780082987552}}\n",
      "evaluating on en test set\n"
     ]
    },
    {
     "name": "stderr",
     "output_type": "stream",
     "text": [
      "100%|██████████| 182/182 [00:56<00:00,  3.24it/s]\n"
     ]
    },
    {
     "name": "stdout",
     "output_type": "stream",
     "text": [
      "{'accuracy': 0.963448166847229,\n",
      " 'loss': 0.12605221606381647,\n",
      " 'seqeval': {'LOC': {'f1': 0.6736198025309413,\n",
      "                     'number': 5955,\n",
      "                     'precision': 0.5748190340571971,\n",
      "                     'recall': 0.8134340890008396},\n",
      "             'MISC': {'f1': 0.47678992918961444,\n",
      "                      'number': 4505,\n",
      "                      'precision': 0.5825056071771868,\n",
      "                      'recall': 0.40355160932297446},\n",
      "             'ORG': {'f1': 0.6457588560285993,\n",
      "                     'number': 3449,\n",
      "                     'precision': 0.7345656192236599,\n",
      "                     'recall': 0.5761090171064076},\n",
      "             'PER': {'f1': 0.8586407039880172,\n",
      "                     'number': 5207,\n",
      "                     'precision': 0.8376255707762557,\n",
      "                     'recall': 0.8807374687920108},\n",
      "             'overall_accuracy': 0.9634481855102843,\n",
      "             'overall_f1': 0.6814437236123984,\n",
      "             'overall_precision': 0.6708738848337389,\n",
      "             'overall_recall': 0.6923519564762503}}\n",
      "evaluating on fr test set\n"
     ]
    },
    {
     "name": "stderr",
     "output_type": "stream",
     "text": [
      "100%|██████████| 199/199 [01:08<00:00,  2.89it/s]\n"
     ]
    },
    {
     "name": "stdout",
     "output_type": "stream",
     "text": [
      "{'accuracy': 0.9646186828613281,\n",
      " 'loss': 0.11740815345591037,\n",
      " 'seqeval': {'LOC': {'f1': 0.8036650451046143,\n",
      "                     'number': 9814,\n",
      "                     'precision': 0.7490095959151334,\n",
      "                     'recall': 0.8669248013042592},\n",
      "             'MISC': {'f1': 0.5909178003448936,\n",
      "                      'number': 2592,\n",
      "                      'precision': 0.5869813475447279,\n",
      "                      'recall': 0.5949074074074074},\n",
      "             'ORG': {'f1': 0.362760834670947,\n",
      "                     'number': 3505,\n",
      "                     'precision': 0.37126642771804064,\n",
      "                     'recall': 0.35463623395149785},\n",
      "             'PER': {'f1': 0.9406920579618339,\n",
      "                     'number': 6221,\n",
      "                     'precision': 0.9269662921348315,\n",
      "                     'recall': 0.9548304131168622},\n",
      "             'overall_accuracy': 0.9646186579378069,\n",
      "             'overall_f1': 0.7513188298382526,\n",
      "             'overall_precision': 0.7258444949877854,\n",
      "             'overall_recall': 0.7786463039942165}}\n",
      "evaluating on it test set\n"
     ]
    },
    {
     "name": "stderr",
     "output_type": "stream",
     "text": [
      "100%|██████████| 173/173 [01:11<00:00,  2.40it/s]\n"
     ]
    },
    {
     "name": "stdout",
     "output_type": "stream",
     "text": [
      "{'accuracy': 0.9805855751037598,\n",
      " 'loss': 0.06312617835066567,\n",
      " 'seqeval': {'LOC': {'f1': 0.8657324587557147,\n",
      "                     'number': 9788,\n",
      "                     'precision': 0.8427825077399381,\n",
      "                     'recall': 0.889967306906416},\n",
      "             'MISC': {'f1': 0.5275109170305676,\n",
      "                      'number': 2342,\n",
      "                      'precision': 0.5397676496872207,\n",
      "                      'recall': 0.515798462852263},\n",
      "             'ORG': {'f1': 0.7328023171614771,\n",
      "                     'number': 2229,\n",
      "                     'precision': 0.7931034482758621,\n",
      "                     'recall': 0.6810228802153432},\n",
      "             'PER': {'f1': 0.9248450568626271,\n",
      "                     'number': 8377,\n",
      "                     'precision': 0.9324193157000727,\n",
      "                     'recall': 0.9173928614062313},\n",
      "             'overall_accuracy': 0.9805855634275201,\n",
      "             'overall_f1': 0.8411560286807723,\n",
      "             'overall_precision': 0.8412670479542455,\n",
      "             'overall_recall': 0.8410450387051372}}\n",
      "evaluating on es test set\n"
     ]
    },
    {
     "name": "stderr",
     "output_type": "stream",
     "text": [
      "100%|██████████| 151/151 [00:49<00:00,  3.07it/s]\n"
     ]
    },
    {
     "name": "stdout",
     "output_type": "stream",
     "text": [
      "{'accuracy': 0.9731966257095337,\n",
      " 'loss': 0.10483936452312975,\n",
      " 'seqeval': {'LOC': {'f1': 0.8175376439326839,\n",
      "                     'number': 6157,\n",
      "                     'precision': 0.7492896766337438,\n",
      "                     'recall': 0.8994640246873478},\n",
      "             'MISC': {'f1': 0.657974638328273,\n",
      "                      'number': 2817,\n",
      "                      'precision': 0.6621135873472322,\n",
      "                      'recall': 0.6538871139510117},\n",
      "             'ORG': {'f1': 0.6024096385542169,\n",
      "                     'number': 2239,\n",
      "                     'precision': 0.6394182547642929,\n",
      "                     'recall': 0.5694506476105404},\n",
      "             'PER': {'f1': 0.95617436258959,\n",
      "                     'number': 4187,\n",
      "                     'precision': 0.9410268270120259,\n",
      "                     'recall': 0.9718175304513972},\n",
      "             'overall_accuracy': 0.973196652756309,\n",
      "             'overall_f1': 0.7979680787683046,\n",
      "             'overall_precision': 0.7715723728094112,\n",
      "             'overall_recall': 0.8262337662337662}}\n",
      "evaluating on pt test set\n"
     ]
    },
    {
     "name": "stderr",
     "output_type": "stream",
     "text": [
      "100%|██████████| 159/159 [00:59<00:00,  2.66it/s]\n"
     ]
    },
    {
     "name": "stdout",
     "output_type": "stream",
     "text": [
      "{'accuracy': 0.9811286926269531,\n",
      " 'loss': 0.07104299325238234,\n",
      " 'seqeval': {'LOC': {'f1': 0.8812802381838482,\n",
      "                     'number': 11620,\n",
      "                     'precision': 0.8482050465653108,\n",
      "                     'recall': 0.917039586919105},\n",
      "             'MISC': {'f1': 0.611111111111111,\n",
      "                      'number': 2203,\n",
      "                      'precision': 0.6467308667004562,\n",
      "                      'recall': 0.5792101679527917},\n",
      "             'ORG': {'f1': 0.6609281437125749,\n",
      "                     'number': 1342,\n",
      "                     'precision': 0.6639097744360902,\n",
      "                     'recall': 0.657973174366617},\n",
      "             'PER': {'f1': 0.9085263912108907,\n",
      "                     'number': 4143,\n",
      "                     'precision': 0.8990782320964311,\n",
      "                     'recall': 0.9181752353367125},\n",
      "             'overall_accuracy': 0.9811286629596137,\n",
      "             'overall_f1': 0.8434970181449054,\n",
      "             'overall_precision': 0.8269393441807235,\n",
      "             'overall_recall': 0.8607313030868033}}\n",
      "evaluating on pl test set\n"
     ]
    },
    {
     "name": "stderr",
     "output_type": "stream",
     "text": [
      "100%|██████████| 213/213 [01:02<00:00,  3.41it/s]\n"
     ]
    },
    {
     "name": "stdout",
     "output_type": "stream",
     "text": [
      "{'accuracy': 0.9624444842338562,\n",
      " 'loss': 0.13606535412476095,\n",
      " 'seqeval': {'LOC': {'f1': 0.8450494435020067,\n",
      "                     'number': 11488,\n",
      "                     'precision': 0.8052992666193518,\n",
      "                     'recall': 0.8889275766016713},\n",
      "             'MISC': {'f1': 0.5463244889082209,\n",
      "                      'number': 2042,\n",
      "                      'precision': 0.49139280125195617,\n",
      "                      'recall': 0.6150832517140059},\n",
      "             'ORG': {'f1': 0.6439213992658173,\n",
      "                     'number': 2419,\n",
      "                     'precision': 0.6740506329113924,\n",
      "                     'recall': 0.6163704009921455},\n",
      "             'PER': {'f1': 0.8765511684125705,\n",
      "                     'number': 5969,\n",
      "                     'precision': 0.8444340940847694,\n",
      "                     'recall': 0.911207907522198},\n",
      "             'overall_accuracy': 0.962444457103794,\n",
      "             'overall_f1': 0.8032658050995459,\n",
      "             'overall_precision': 0.7701130179991629,\n",
      "             'overall_recall': 0.8394014052377041}}\n",
      "evaluating on ru test set\n"
     ]
    },
    {
     "name": "stderr",
     "output_type": "stream",
     "text": [
      "100%|██████████| 181/181 [01:02<00:00,  2.91it/s]\n"
     ]
    },
    {
     "name": "stdout",
     "output_type": "stream",
     "text": [
      "{'accuracy': 0.9430013298988342,\n",
      " 'loss': 0.21040693917491818,\n",
      " 'seqeval': {'LOC': {'f1': 0.7661321644565279,\n",
      "                     'number': 8596,\n",
      "                     'precision': 0.7323644849899226,\n",
      "                     'recall': 0.80316426244765},\n",
      "             'MISC': {'f1': 0.39771510174937524,\n",
      "                      'number': 2421,\n",
      "                      'precision': 0.3502043382584093,\n",
      "                      'recall': 0.4601404378356051},\n",
      "             'ORG': {'f1': 0.47429130009775167,\n",
      "                     'number': 3051,\n",
      "                     'precision': 0.5876937984496124,\n",
      "                     'recall': 0.3975745657161586},\n",
      "             'PER': {'f1': 0.7676496872207327,\n",
      "                     'number': 3426,\n",
      "                     'precision': 0.7837591240875912,\n",
      "                     'recall': 0.7521891418563923},\n",
      "             'overall_accuracy': 0.9430013202018482,\n",
      "             'overall_f1': 0.6661025554239296,\n",
      "             'overall_precision': 0.6574610244988864,\n",
      "             'overall_recall': 0.6749742768949354}}\n",
      "using model at: models/es/xlm_roberta_wiki_neural_es_ep_4.pth\n",
      "loading model\n",
      "done!\n",
      "evaluating on de test set\n"
     ]
    },
    {
     "name": "stderr",
     "output_type": "stream",
     "text": [
      "100%|██████████| 194/194 [00:48<00:00,  4.00it/s]\n"
     ]
    },
    {
     "name": "stdout",
     "output_type": "stream",
     "text": [
      "{'accuracy': 0.8865770697593689,\n",
      " 'loss': 0.3617083413391998,\n",
      " 'seqeval': {'LOC': {'f1': 0.6610156548300878,\n",
      "                     'number': 5000,\n",
      "                     'precision': 0.534651019147622,\n",
      "                     'recall': 0.8656},\n",
      "             'MISC': {'f1': 0.2555576667300019,\n",
      "                      'number': 2638,\n",
      "                      'precision': 0.17051217038539554,\n",
      "                      'recall': 0.5098559514783927},\n",
      "             'ORG': {'f1': 0.6010551948051948,\n",
      "                     'number': 3951,\n",
      "                     'precision': 0.5016088060965284,\n",
      "                     'recall': 0.7496836243988864},\n",
      "             'PER': {'f1': 0.9223932186651305,\n",
      "                     'number': 5855,\n",
      "                     'precision': 0.8900889453621347,\n",
      "                     'recall': 0.957130657557643},\n",
      "             'overall_accuracy': 0.8865770936603183,\n",
      "             'overall_f1': 0.6241343034978523,\n",
      "             'overall_precision': 0.5052157252341755,\n",
      "             'overall_recall': 0.8162692043109379}}\n",
      "evaluating on nl test set\n"
     ]
    },
    {
     "name": "stderr",
     "output_type": "stream",
     "text": [
      "100%|██████████| 165/165 [00:41<00:00,  4.00it/s]\n"
     ]
    },
    {
     "name": "stdout",
     "output_type": "stream",
     "text": [
      "{'accuracy': 0.9563128352165222,\n",
      " 'loss': 0.17683556003100945,\n",
      " 'seqeval': {'LOC': {'f1': 0.8037602820211517,\n",
      "                     'number': 6909,\n",
      "                     'precision': 0.7692511246361471,\n",
      "                     'recall': 0.8415110725141121},\n",
      "             'MISC': {'f1': 0.534867663981588,\n",
      "                      'number': 2388,\n",
      "                      'precision': 0.5937659683188554,\n",
      "                      'recall': 0.48659966499162477},\n",
      "             'ORG': {'f1': 0.6403445800430725,\n",
      "                     'number': 1328,\n",
      "                     'precision': 0.6117969821673526,\n",
      "                     'recall': 0.6716867469879518},\n",
      "             'PER': {'f1': 0.9341072038238306,\n",
      "                     'number': 4317,\n",
      "                     'precision': 0.9181208053691275,\n",
      "                     'recall': 0.9506601806810285},\n",
      "             'overall_accuracy': 0.9563128480013297,\n",
      "             'overall_f1': 0.7880204048050025,\n",
      "             'overall_precision': 0.7752379718966522,\n",
      "             'overall_recall': 0.8012314281889975}}\n",
      "evaluating on en test set\n"
     ]
    },
    {
     "name": "stderr",
     "output_type": "stream",
     "text": [
      "100%|██████████| 182/182 [00:56<00:00,  3.24it/s]\n"
     ]
    },
    {
     "name": "stdout",
     "output_type": "stream",
     "text": [
      "{'accuracy': 0.9586681723594666,\n",
      " 'loss': 0.14208928460848855,\n",
      " 'seqeval': {'LOC': {'f1': 0.6636370299787437,\n",
      "                     'number': 5955,\n",
      "                     'precision': 0.5888397502601457,\n",
      "                     'recall': 0.7602015113350126},\n",
      "             'MISC': {'f1': 0.47285824543349625,\n",
      "                      'number': 4505,\n",
      "                      'precision': 0.5622514530437442,\n",
      "                      'recall': 0.40799112097669255},\n",
      "             'ORG': {'f1': 0.6224811083123426,\n",
      "                     'number': 3449,\n",
      "                     'precision': 0.6810196348604891,\n",
      "                     'recall': 0.5732096259785445},\n",
      "             'PER': {'f1': 0.8587793798143393,\n",
      "                     'number': 5207,\n",
      "                     'precision': 0.8839194958324863,\n",
      "                     'recall': 0.8350297676205108},\n",
      "             'overall_accuracy': 0.9586681888791151,\n",
      "             'overall_f1': 0.669745348990632,\n",
      "             'overall_precision': 0.6757548325256936,\n",
      "             'overall_recall': 0.6638418079096046}}\n",
      "evaluating on fr test set\n"
     ]
    },
    {
     "name": "stderr",
     "output_type": "stream",
     "text": [
      "100%|██████████| 199/199 [01:08<00:00,  2.89it/s]\n"
     ]
    },
    {
     "name": "stdout",
     "output_type": "stream",
     "text": [
      "{'accuracy': 0.9648019671440125,\n",
      " 'loss': 0.12186218328287254,\n",
      " 'seqeval': {'LOC': {'f1': 0.8122670112828668,\n",
      "                     'number': 9814,\n",
      "                     'precision': 0.7929160601649685,\n",
      "                     'recall': 0.8325861014876706},\n",
      "             'MISC': {'f1': 0.5633447468012255,\n",
      "                      'number': 2592,\n",
      "                      'precision': 0.528576259722692,\n",
      "                      'recall': 0.6030092592592593},\n",
      "             'ORG': {'f1': 0.4688622754491018,\n",
      "                     'number': 3505,\n",
      "                     'precision': 0.4932283464566929,\n",
      "                     'recall': 0.4467902995720399},\n",
      "             'PER': {'f1': 0.9391038532700507,\n",
      "                     'number': 6221,\n",
      "                     'precision': 0.9399355877616747,\n",
      "                     'recall': 0.9382735894550716},\n",
      "             'overall_accuracy': 0.9648019639934533,\n",
      "             'overall_f1': 0.7654034257129458,\n",
      "             'overall_precision': 0.7567006667549786,\n",
      "             'overall_recall': 0.7743086932947768}}\n",
      "evaluating on it test set\n"
     ]
    },
    {
     "name": "stderr",
     "output_type": "stream",
     "text": [
      "100%|██████████| 173/173 [01:12<00:00,  2.40it/s]\n"
     ]
    },
    {
     "name": "stdout",
     "output_type": "stream",
     "text": [
      "{'accuracy': 0.9740885496139526,\n",
      " 'loss': 0.08948505241316178,\n",
      " 'seqeval': {'LOC': {'f1': 0.8292780414688985,\n",
      "                     'number': 9788,\n",
      "                     'precision': 0.8114794172289039,\n",
      "                     'recall': 0.8478749489170413},\n",
      "             'MISC': {'f1': 0.5145845906256287,\n",
      "                      'number': 2342,\n",
      "                      'precision': 0.48649676683149484,\n",
      "                      'recall': 0.5461144321093083},\n",
      "             'ORG': {'f1': 0.6428015564202334,\n",
      "                     'number': 2229,\n",
      "                     'precision': 0.7619926199261993,\n",
      "                     'recall': 0.5558546433378196},\n",
      "             'PER': {'f1': 0.8971325942899611,\n",
      "                     'number': 8377,\n",
      "                     'precision': 0.9321750321750322,\n",
      "                     'recall': 0.8646293422466277},\n",
      "             'overall_accuracy': 0.9740885308529192,\n",
      "             'overall_f1': 0.8028807682048545,\n",
      "             'overall_precision': 0.811612439331296,\n",
      "             'overall_recall': 0.7943349753694581}}\n",
      "evaluating on es test set\n"
     ]
    },
    {
     "name": "stderr",
     "output_type": "stream",
     "text": [
      "100%|██████████| 151/151 [00:48<00:00,  3.08it/s]\n"
     ]
    },
    {
     "name": "stdout",
     "output_type": "stream",
     "text": [
      "{'accuracy': 0.9823748469352722,\n",
      " 'loss': 0.058009324003233026,\n",
      " 'seqeval': {'LOC': {'f1': 0.8937688282860313,\n",
      "                     'number': 6157,\n",
      "                     'precision': 0.8730060399566362,\n",
      "                     'recall': 0.9155432840669157},\n",
      "             'MISC': {'f1': 0.6838037030379291,\n",
      "                      'number': 2817,\n",
      "                      'precision': 0.6926438455935907,\n",
      "                      'recall': 0.6751863684771033},\n",
      "             'ORG': {'f1': 0.7382427162193164,\n",
      "                     'number': 2239,\n",
      "                     'precision': 0.7589622641509434,\n",
      "                     'recall': 0.7186243858865565},\n",
      "             'PER': {'f1': 0.9605607032549298,\n",
      "                     'number': 4187,\n",
      "                     'precision': 0.9555660600330891,\n",
      "                     'recall': 0.9656078337711965},\n",
      "             'overall_accuracy': 0.9823748615167691,\n",
      "             'overall_f1': 0.8522969567745687,\n",
      "             'overall_precision': 0.8480776649093481,\n",
      "             'overall_recall': 0.8565584415584415}}\n",
      "evaluating on pt test set\n"
     ]
    },
    {
     "name": "stderr",
     "output_type": "stream",
     "text": [
      "100%|██████████| 159/159 [00:59<00:00,  2.66it/s]\n"
     ]
    },
    {
     "name": "stdout",
     "output_type": "stream",
     "text": [
      "{'accuracy': 0.9806053042411804,\n",
      " 'loss': 0.07006602600779173,\n",
      " 'seqeval': {'LOC': {'f1': 0.8998643377988809,\n",
      "                     'number': 11620,\n",
      "                     'precision': 0.8867814171122995,\n",
      "                     'recall': 0.9133390705679862},\n",
      "             'MISC': {'f1': 0.640230394328755,\n",
      "                      'number': 2203,\n",
      "                      'precision': 0.6252704456945045,\n",
      "                      'recall': 0.6559237403540626},\n",
      "             'ORG': {'f1': 0.6505660377358491,\n",
      "                     'number': 1342,\n",
      "                     'precision': 0.6590214067278287,\n",
      "                     'recall': 0.6423248882265276},\n",
      "             'PER': {'f1': 0.8976647511920773,\n",
      "                     'number': 4143,\n",
      "                     'precision': 0.9095639246778989,\n",
      "                     'recall': 0.8860728940381366},\n",
      "             'overall_accuracy': 0.9806053142978085,\n",
      "             'overall_f1': 0.8523284785903266,\n",
      "             'overall_precision': 0.8454874382102635,\n",
      "             'overall_recall': 0.8592811269939922}}\n",
      "evaluating on pl test set\n"
     ]
    },
    {
     "name": "stderr",
     "output_type": "stream",
     "text": [
      "100%|██████████| 213/213 [01:02<00:00,  3.43it/s]\n"
     ]
    },
    {
     "name": "stdout",
     "output_type": "stream",
     "text": [
      "{'accuracy': 0.9487913250923157,\n",
      " 'loss': 0.18220480611906364,\n",
      " 'seqeval': {'LOC': {'f1': 0.7947255291005291,\n",
      "                     'number': 11488,\n",
      "                     'precision': 0.75669080604534,\n",
      "                     'recall': 0.8367862116991643},\n",
      "             'MISC': {'f1': 0.49845900965687284,\n",
      "                      'number': 2042,\n",
      "                      'precision': 0.4293805309734513,\n",
      "                      'recall': 0.5940254652301665},\n",
      "             'ORG': {'f1': 0.653814935064935,\n",
      "                     'number': 2419,\n",
      "                     'precision': 0.6420884814667198,\n",
      "                     'recall': 0.6659776767259198},\n",
      "             'PER': {'f1': 0.8956129561295612,\n",
      "                     'number': 5969,\n",
      "                     'precision': 0.8771281721811757,\n",
      "                     'recall': 0.9148936170212766},\n",
      "             'overall_accuracy': 0.948791348600509,\n",
      "             'overall_f1': 0.7751071846173834,\n",
      "             'overall_precision': 0.7376360039564788,\n",
      "             'overall_recall': 0.8165891048453326}}\n",
      "evaluating on ru test set\n"
     ]
    },
    {
     "name": "stderr",
     "output_type": "stream",
     "text": [
      "100%|██████████| 181/181 [01:02<00:00,  2.92it/s]\n"
     ]
    },
    {
     "name": "stdout",
     "output_type": "stream",
     "text": [
      "{'accuracy': 0.9298912882804871,\n",
      " 'loss': 0.24110449422459576,\n",
      " 'seqeval': {'LOC': {'f1': 0.7052982066709503,\n",
      "                     'number': 8596,\n",
      "                     'precision': 0.708318667135985,\n",
      "                     'recall': 0.7023033969288041},\n",
      "             'MISC': {'f1': 0.38977853492333897,\n",
      "                      'number': 2421,\n",
      "                      'precision': 0.33169034502754424,\n",
      "                      'recall': 0.4725320115654688},\n",
      "             'ORG': {'f1': 0.45389790265136526,\n",
      "                     'number': 3051,\n",
      "                     'precision': 0.5726410384423365,\n",
      "                     'recall': 0.37594231399541134},\n",
      "             'PER': {'f1': 0.7175669253920481,\n",
      "                     'number': 3426,\n",
      "                     'precision': 0.7845514374783512,\n",
      "                     'recall': 0.6611208406304728},\n",
      "             'overall_accuracy': 0.9298913018478225,\n",
      "             'overall_f1': 0.6166608452672022,\n",
      "             'overall_precision': 0.6282172933222631,\n",
      "             'overall_recall': 0.6055218932205327}}\n",
      "using model at: models/pt/xlm_roberta_wiki_neural_pt_ep_4.pth\n",
      "loading model\n",
      "done!\n",
      "evaluating on de test set\n"
     ]
    },
    {
     "name": "stderr",
     "output_type": "stream",
     "text": [
      "100%|██████████| 194/194 [00:48<00:00,  3.99it/s]\n"
     ]
    },
    {
     "name": "stdout",
     "output_type": "stream",
     "text": [
      "{'accuracy': 0.9156153202056885,\n",
      " 'loss': 0.282474135615162,\n",
      " 'seqeval': {'LOC': {'f1': 0.6529894490035171,\n",
      "                     'number': 5000,\n",
      "                     'precision': 0.515263644773358,\n",
      "                     'recall': 0.8912},\n",
      "             'MISC': {'f1': 0.32908813041263374,\n",
      "                      'number': 2638,\n",
      "                      'precision': 0.24779439969313388,\n",
      "                      'recall': 0.489764973464746},\n",
      "             'ORG': {'f1': 0.502079318389289,\n",
      "                     'number': 3951,\n",
      "                     'precision': 0.4189234935680433,\n",
      "                     'recall': 0.6264236902050114},\n",
      "             'PER': {'f1': 0.8996490108487555,\n",
      "                     'number': 5855,\n",
      "                     'precision': 0.8440353240532854,\n",
      "                     'recall': 0.9631084543125533},\n",
      "             'overall_accuracy': 0.9156153330103238,\n",
      "             'overall_f1': 0.631598131905684,\n",
      "             'overall_precision': 0.524063362443764,\n",
      "             'overall_recall': 0.7946571887181839}}\n",
      "evaluating on nl test set\n"
     ]
    },
    {
     "name": "stderr",
     "output_type": "stream",
     "text": [
      "100%|██████████| 165/165 [00:41<00:00,  4.00it/s]\n"
     ]
    },
    {
     "name": "stdout",
     "output_type": "stream",
     "text": [
      "{'accuracy': 0.9550143480300903,\n",
      " 'loss': 0.1877032515677539,\n",
      " 'seqeval': {'LOC': {'f1': 0.8261943986820428,\n",
      "                     'number': 6909,\n",
      "                     'precision': 0.7857422640031335,\n",
      "                     'recall': 0.8710377768128528},\n",
      "             'MISC': {'f1': 0.5351704133430022,\n",
      "                      'number': 2388,\n",
      "                      'precision': 0.6329331046312179,\n",
      "                      'recall': 0.4635678391959799},\n",
      "             'ORG': {'f1': 0.436950977614055,\n",
      "                     'number': 1328,\n",
      "                     'precision': 0.3502953203089505,\n",
      "                     'recall': 0.5805722891566265},\n",
      "             'PER': {'f1': 0.9264059506367633,\n",
      "                     'number': 4317,\n",
      "                     'precision': 0.902107111501317,\n",
      "                     'recall': 0.9520500347463516},\n",
      "             'overall_accuracy': 0.9550143355771628,\n",
      "             'overall_f1': 0.7719162889381812,\n",
      "             'overall_precision': 0.7427157438911228,\n",
      "             'overall_recall': 0.8035068933208406}}\n",
      "evaluating on en test set\n"
     ]
    },
    {
     "name": "stderr",
     "output_type": "stream",
     "text": [
      "100%|██████████| 182/182 [00:55<00:00,  3.26it/s]\n"
     ]
    },
    {
     "name": "stdout",
     "output_type": "stream",
     "text": [
      "{'accuracy': 0.9635791778564453,\n",
      " 'loss': 0.12770040689425155,\n",
      " 'seqeval': {'LOC': {'f1': 0.6888647080159593,\n",
      "                     'number': 5955,\n",
      "                     'precision': 0.6063856960408684,\n",
      "                     'recall': 0.797313182199832},\n",
      "             'MISC': {'f1': 0.48922753547031006,\n",
      "                      'number': 4505,\n",
      "                      'precision': 0.5992919214676536,\n",
      "                      'recall': 0.4133185349611543},\n",
      "             'ORG': {'f1': 0.6199238578680203,\n",
      "                     'number': 3449,\n",
      "                     'precision': 0.6844133099824868,\n",
      "                     'recall': 0.5665410263844592},\n",
      "             'PER': {'f1': 0.8605555028912694,\n",
      "                     'number': 5207,\n",
      "                     'precision': 0.8496817671284164,\n",
      "                     'recall': 0.8717111580564625},\n",
      "             'overall_accuracy': 0.963579195598061,\n",
      "             'overall_f1': 0.685124183006536,\n",
      "             'overall_precision': 0.6848019232779345,\n",
      "             'overall_recall': 0.6854467461812095}}\n",
      "evaluating on fr test set\n"
     ]
    },
    {
     "name": "stderr",
     "output_type": "stream",
     "text": [
      "100%|██████████| 199/199 [01:08<00:00,  2.88it/s]\n"
     ]
    },
    {
     "name": "stdout",
     "output_type": "stream",
     "text": [
      "{'accuracy': 0.9617545008659363,\n",
      " 'loss': 0.13312339492554043,\n",
      " 'seqeval': {'LOC': {'f1': 0.80856825105169,\n",
      "                     'number': 9814,\n",
      "                     'precision': 0.7693935768841447,\n",
      "                     'recall': 0.8519461993071122},\n",
      "             'MISC': {'f1': 0.5540515483033561,\n",
      "                      'number': 2592,\n",
      "                      'precision': 0.5333809353802214,\n",
      "                      'recall': 0.5763888888888888},\n",
      "             'ORG': {'f1': 0.33719356294179575,\n",
      "                     'number': 3505,\n",
      "                     'precision': 0.3565521628498728,\n",
      "                     'recall': 0.31982881597717544},\n",
      "             'PER': {'f1': 0.9393963400142598,\n",
      "                     'number': 6221,\n",
      "                     'precision': 0.9261168384879725,\n",
      "                     'recall': 0.9530622086481273},\n",
      "             'overall_accuracy': 0.9617545008183306,\n",
      "             'overall_f1': 0.7456004939796232,\n",
      "             'overall_precision': 0.7282243473765831,\n",
      "             'overall_recall': 0.7638261341044641}}\n",
      "evaluating on it test set\n"
     ]
    },
    {
     "name": "stderr",
     "output_type": "stream",
     "text": [
      "100%|██████████| 173/173 [01:11<00:00,  2.41it/s]\n"
     ]
    },
    {
     "name": "stdout",
     "output_type": "stream",
     "text": [
      "{'accuracy': 0.9769122004508972,\n",
      " 'loss': 0.0823645746992158,\n",
      " 'seqeval': {'LOC': {'f1': 0.8482376636455187,\n",
      "                     'number': 9788,\n",
      "                     'precision': 0.8362787926926132,\n",
      "                     'recall': 0.8605435226808337},\n",
      "             'MISC': {'f1': 0.4991575400168492,\n",
      "                      'number': 2342,\n",
      "                      'precision': 0.4925187032418953,\n",
      "                      'recall': 0.5059777967549103},\n",
      "             'ORG': {'f1': 0.7036337895233601,\n",
      "                     'number': 2229,\n",
      "                     'precision': 0.7421602787456446,\n",
      "                     'recall': 0.6689098250336474},\n",
      "             'PER': {'f1': 0.9126225269108185,\n",
      "                     'number': 8377,\n",
      "                     'precision': 0.9195346582646631,\n",
      "                     'recall': 0.9058135370657754},\n",
      "             'overall_accuracy': 0.9769122165933062,\n",
      "             'overall_f1': 0.8218581638262783,\n",
      "             'overall_precision': 0.8218039491622323,\n",
      "             'overall_recall': 0.8219123856439128}}\n",
      "evaluating on es test set\n"
     ]
    },
    {
     "name": "stderr",
     "output_type": "stream",
     "text": [
      "100%|██████████| 151/151 [00:49<00:00,  3.08it/s]\n"
     ]
    },
    {
     "name": "stdout",
     "output_type": "stream",
     "text": [
      "{'accuracy': 0.975316047668457,\n",
      " 'loss': 0.09471876958742836,\n",
      " 'seqeval': {'LOC': {'f1': 0.8622208484661155,\n",
      "                     'number': 6157,\n",
      "                     'precision': 0.8223761792452831,\n",
      "                     'recall': 0.9061231119051486},\n",
      "             'MISC': {'f1': 0.7004078605858362,\n",
      "                      'number': 2817,\n",
      "                      'precision': 0.73302289483896,\n",
      "                      'recall': 0.6705715299964501},\n",
      "             'ORG': {'f1': 0.623041474654378,\n",
      "                     'number': 2239,\n",
      "                     'precision': 0.6435030937648739,\n",
      "                     'recall': 0.6038410004466279},\n",
      "             'PER': {'f1': 0.9584363593547628,\n",
      "                     'number': 4187,\n",
      "                     'precision': 0.9451927542963307,\n",
      "                     'recall': 0.9720563649390972},\n",
      "             'overall_accuracy': 0.97531604829069,\n",
      "             'overall_f1': 0.8271303901437372,\n",
      "             'overall_precision': 0.8174784373414511,\n",
      "             'overall_recall': 0.837012987012987}}\n",
      "evaluating on pt test set\n"
     ]
    },
    {
     "name": "stderr",
     "output_type": "stream",
     "text": [
      "100%|██████████| 159/159 [00:59<00:00,  2.66it/s]\n"
     ]
    },
    {
     "name": "stdout",
     "output_type": "stream",
     "text": [
      "{'accuracy': 0.985630989074707,\n",
      " 'loss': 0.050024958233694614,\n",
      " 'seqeval': {'LOC': {'f1': 0.9160642911812229,\n",
      "                     'number': 11620,\n",
      "                     'precision': 0.9053622457555892,\n",
      "                     'recall': 0.9270223752151463},\n",
      "             'MISC': {'f1': 0.6825654086594118,\n",
      "                      'number': 2203,\n",
      "                      'precision': 0.6965973534971645,\n",
      "                      'recall': 0.6690876078075352},\n",
      "             'ORG': {'f1': 0.7061068702290078,\n",
      "                     'number': 1342,\n",
      "                     'precision': 0.7237871674491393,\n",
      "                     'recall': 0.6892697466467959},\n",
      "             'PER': {'f1': 0.9147249579630075,\n",
      "                     'number': 4143,\n",
      "                     'precision': 0.9103514224240975,\n",
      "                     'recall': 0.9191407192855419},\n",
      "             'overall_accuracy': 0.9856310007119081,\n",
      "             'overall_f1': 0.8755898202820823,\n",
      "             'overall_precision': 0.8718356867779204,\n",
      "             'overall_recall': 0.8793764242800911}}\n",
      "evaluating on pl test set\n"
     ]
    },
    {
     "name": "stderr",
     "output_type": "stream",
     "text": [
      "100%|██████████| 213/213 [01:02<00:00,  3.42it/s]\n"
     ]
    },
    {
     "name": "stdout",
     "output_type": "stream",
     "text": [
      "{'accuracy': 0.9601989984512329,\n",
      " 'loss': 0.1456304345052567,\n",
      " 'seqeval': {'LOC': {'f1': 0.8554279298730461,\n",
      "                     'number': 11488,\n",
      "                     'precision': 0.8487574978577549,\n",
      "                     'recall': 0.8622040389972145},\n",
      "             'MISC': {'f1': 0.5107054315979266,\n",
      "                      'number': 2042,\n",
      "                      'precision': 0.4730688935281837,\n",
      "                      'recall': 0.5548481880509305},\n",
      "             'ORG': {'f1': 0.6460195385574724,\n",
      "                     'number': 2419,\n",
      "                     'precision': 0.6496655518394648,\n",
      "                     'recall': 0.642414220752377},\n",
      "             'PER': {'f1': 0.8918743930074458,\n",
      "                     'number': 5969,\n",
      "                     'precision': 0.8626898387349303,\n",
      "                     'recall': 0.9231026972692243},\n",
      "             'overall_accuracy': 0.9601990049751243,\n",
      "             'overall_f1': 0.8088110450828828,\n",
      "             'overall_precision': 0.7924181404307477,\n",
      "             'overall_recall': 0.8258965234054202}}\n",
      "evaluating on ru test set\n"
     ]
    },
    {
     "name": "stderr",
     "output_type": "stream",
     "text": [
      "100%|██████████| 181/181 [01:01<00:00,  2.92it/s]\n"
     ]
    },
    {
     "name": "stdout",
     "output_type": "stream",
     "text": [
      "{'accuracy': 0.9406323432922363,\n",
      " 'loss': 0.212625817123039,\n",
      " 'seqeval': {'LOC': {'f1': 0.7678176956167887,\n",
      "                     'number': 8596,\n",
      "                     'precision': 0.7673716012084593,\n",
      "                     'recall': 0.7682643089809214},\n",
      "             'MISC': {'f1': 0.40353726764122,\n",
      "                      'number': 2421,\n",
      "                      'precision': 0.35833333333333334,\n",
      "                      'recall': 0.4617926476662536},\n",
      "             'ORG': {'f1': 0.4519211626518017,\n",
      "                     'number': 3051,\n",
      "                     'precision': 0.5755578093306288,\n",
      "                     'recall': 0.3720091773189118},\n",
      "             'PER': {'f1': 0.7634866970454212,\n",
      "                     'number': 3426,\n",
      "                     'precision': 0.7690257625111045,\n",
      "                     'recall': 0.7580268534734385},\n",
      "             'overall_accuracy': 0.9406323168852436,\n",
      "             'overall_f1': 0.6626746506986028,\n",
      "             'overall_precision': 0.670805270863836,\n",
      "             'overall_recall': 0.6547387675774551}}\n",
      "using model at: models/pl/xlm_roberta_wiki_neural_pl_ep_4.pth\n",
      "loading model\n",
      "done!\n",
      "evaluating on de test set\n"
     ]
    },
    {
     "name": "stderr",
     "output_type": "stream",
     "text": [
      "100%|██████████| 194/194 [00:48<00:00,  4.02it/s]\n"
     ]
    },
    {
     "name": "stdout",
     "output_type": "stream",
     "text": [
      "{'accuracy': 0.9468012452125549,\n",
      " 'loss': 0.16942175493105172,\n",
      " 'seqeval': {'LOC': {'f1': 0.6619009409876724,\n",
      "                     'number': 5000,\n",
      "                     'precision': 0.5209553335629808,\n",
      "                     'recall': 0.9074},\n",
      "             'MISC': {'f1': 0.4340297383775645,\n",
      "                      'number': 2638,\n",
      "                      'precision': 0.4310280373831776,\n",
      "                      'recall': 0.4370735405610311},\n",
      "             'ORG': {'f1': 0.7017177344475395,\n",
      "                     'number': 3951,\n",
      "                     'precision': 0.6480171489817792,\n",
      "                     'recall': 0.7651227537332321},\n",
      "             'PER': {'f1': 0.9507364144235653,\n",
      "                     'number': 5855,\n",
      "                     'precision': 0.9424400067125357,\n",
      "                     'recall': 0.9591801878736123},\n",
      "             'overall_accuracy': 0.9468012746450002,\n",
      "             'overall_f1': 0.726401703335699,\n",
      "             'overall_precision': 0.6510814249363868,\n",
      "             'overall_recall': 0.8214285714285714}}\n",
      "evaluating on nl test set\n"
     ]
    },
    {
     "name": "stderr",
     "output_type": "stream",
     "text": [
      "100%|██████████| 165/165 [00:41<00:00,  4.01it/s]\n"
     ]
    },
    {
     "name": "stdout",
     "output_type": "stream",
     "text": [
      "{'accuracy': 0.9730948209762573,\n",
      " 'loss': 0.11418951627883044,\n",
      " 'seqeval': {'LOC': {'f1': 0.8259803921568627,\n",
      "                     'number': 6909,\n",
      "                     'precision': 0.7797917470111839,\n",
      "                     'recall': 0.8779852366478507},\n",
      "             'MISC': {'f1': 0.458446251129178,\n",
      "                      'number': 2388,\n",
      "                      'precision': 0.49754901960784315,\n",
      "                      'recall': 0.4250418760469012},\n",
      "             'ORG': {'f1': 0.6298412698412698,\n",
      "                     'number': 1328,\n",
      "                     'precision': 0.544456641053787,\n",
      "                     'recall': 0.7469879518072289},\n",
      "             'PER': {'f1': 0.9398062730627307,\n",
      "                     'number': 4317,\n",
      "                     'precision': 0.9357060849598163,\n",
      "                     'recall': 0.9439425526986334},\n",
      "             'overall_accuracy': 0.9730948225712623,\n",
      "             'overall_f1': 0.785312560605081,\n",
      "             'overall_precision': 0.7594398599649912,\n",
      "             'overall_recall': 0.8130103065185383}}\n",
      "evaluating on en test set\n"
     ]
    },
    {
     "name": "stderr",
     "output_type": "stream",
     "text": [
      "100%|██████████| 182/182 [00:55<00:00,  3.25it/s]\n"
     ]
    },
    {
     "name": "stdout",
     "output_type": "stream",
     "text": [
      "{'accuracy': 0.9610151648521423,\n",
      " 'loss': 0.1320582603278396,\n",
      " 'seqeval': {'LOC': {'f1': 0.6812873825121049,\n",
      "                     'number': 5955,\n",
      "                     'precision': 0.5914204475213253,\n",
      "                     'recall': 0.8033585222502099},\n",
      "             'MISC': {'f1': 0.4670924743126909,\n",
      "                      'number': 4505,\n",
      "                      'precision': 0.6236559139784946,\n",
      "                      'recall': 0.37336293007769145},\n",
      "             'ORG': {'f1': 0.6258306847731869,\n",
      "                     'number': 3449,\n",
      "                     'precision': 0.6236682983011805,\n",
      "                     'recall': 0.628008118295158},\n",
      "             'PER': {'f1': 0.8659111423127068,\n",
      "                     'number': 5207,\n",
      "                     'precision': 0.9061712846347607,\n",
      "                     'recall': 0.8290762435183407},\n",
      "             'overall_accuracy': 0.9610151410230017,\n",
      "             'overall_f1': 0.679042449985579,\n",
      "             'overall_precision': 0.6807023077327445,\n",
      "             'overall_recall': 0.6773906675036618}}\n",
      "evaluating on fr test set\n"
     ]
    },
    {
     "name": "stderr",
     "output_type": "stream",
     "text": [
      "100%|██████████| 199/199 [01:08<00:00,  2.89it/s]\n"
     ]
    },
    {
     "name": "stdout",
     "output_type": "stream",
     "text": [
      "{'accuracy': 0.962304413318634,\n",
      " 'loss': 0.136632270923811,\n",
      " 'seqeval': {'LOC': {'f1': 0.7717790225999612,\n",
      "                     'number': 9814,\n",
      "                     'precision': 0.7335230402056178,\n",
      "                     'recall': 0.8142449561850418},\n",
      "             'MISC': {'f1': 0.5591950331834724,\n",
      "                      'number': 2592,\n",
      "                      'precision': 0.6281866281866282,\n",
      "                      'recall': 0.503858024691358},\n",
      "             'ORG': {'f1': 0.3891669119811598,\n",
      "                     'number': 3505,\n",
      "                     'precision': 0.40194588020674976,\n",
      "                     'recall': 0.37717546362339516},\n",
      "             'PER': {'f1': 0.9420242914979757,\n",
      "                     'number': 6221,\n",
      "                     'precision': 0.9490944689182574,\n",
      "                     'recall': 0.9350586722391898},\n",
      "             'overall_accuracy': 0.9623044189852701,\n",
      "             'overall_f1': 0.7383150281876781,\n",
      "             'overall_precision': 0.734044928766022,\n",
      "             'overall_recall': 0.7426350984999096}}\n",
      "evaluating on it test set\n"
     ]
    },
    {
     "name": "stderr",
     "output_type": "stream",
     "text": [
      "100%|██████████| 173/173 [01:11<00:00,  2.40it/s]\n"
     ]
    },
    {
     "name": "stdout",
     "output_type": "stream",
     "text": [
      "{'accuracy': 0.9746443033218384,\n",
      " 'loss': 0.08917550639265534,\n",
      " 'seqeval': {'LOC': {'f1': 0.8231530245607127,\n",
      "                     'number': 9788,\n",
      "                     'precision': 0.794187482192041,\n",
      "                     'recall': 0.8543114017163874},\n",
      "             'MISC': {'f1': 0.4546975854649773,\n",
      "                      'number': 2342,\n",
      "                      'precision': 0.516567083107007,\n",
      "                      'recall': 0.40606319385140904},\n",
      "             'ORG': {'f1': 0.6889615287905457,\n",
      "                     'number': 2229,\n",
      "                     'precision': 0.7837528604118993,\n",
      "                     'recall': 0.6146253925527142},\n",
      "             'PER': {'f1': 0.9023081721771679,\n",
      "                     'number': 8377,\n",
      "                     'precision': 0.9449888932444793,\n",
      "                     'recall': 0.8633162229915244},\n",
      "             'overall_accuracy': 0.9746443242000089,\n",
      "             'overall_f1': 0.8050419035207943,\n",
      "             'overall_precision': 0.8228836525653392,\n",
      "             'overall_recall': 0.7879574243490499}}\n",
      "evaluating on es test set\n"
     ]
    },
    {
     "name": "stderr",
     "output_type": "stream",
     "text": [
      "100%|██████████| 151/151 [00:48<00:00,  3.09it/s]\n"
     ]
    },
    {
     "name": "stdout",
     "output_type": "stream",
     "text": [
      "{'accuracy': 0.970293402671814,\n",
      " 'loss': 0.11451072487610066,\n",
      " 'seqeval': {'LOC': {'f1': 0.7823691460055097,\n",
      "                     'number': 6157,\n",
      "                     'precision': 0.7222985977453945,\n",
      "                     'recall': 0.8533376644469709},\n",
      "             'MISC': {'f1': 0.5781881130986728,\n",
      "                      'number': 2817,\n",
      "                      'precision': 0.6309823677581864,\n",
      "                      'recall': 0.5335463258785943},\n",
      "             'ORG': {'f1': 0.6630100921456779,\n",
      "                     'number': 2239,\n",
      "                     'precision': 0.6515739542906425,\n",
      "                     'recall': 0.6748548459133542},\n",
      "             'PER': {'f1': 0.961964945749374,\n",
      "                     'number': 4187,\n",
      "                     'precision': 0.9604761904761905,\n",
      "                     'recall': 0.9634583233818963},\n",
      "             'overall_accuracy': 0.9702934311875183,\n",
      "             'overall_f1': 0.779224069675376,\n",
      "             'overall_precision': 0.7605564142194745,\n",
      "             'overall_recall': 0.7988311688311688}}\n",
      "evaluating on pt test set\n"
     ]
    },
    {
     "name": "stderr",
     "output_type": "stream",
     "text": [
      "100%|██████████| 159/159 [00:59<00:00,  2.66it/s]\n"
     ]
    },
    {
     "name": "stdout",
     "output_type": "stream",
     "text": [
      "{'accuracy': 0.9770188331604004,\n",
      " 'loss': 0.08847141209638344,\n",
      " 'seqeval': {'LOC': {'f1': 0.853302162478083,\n",
      "                     'number': 11620,\n",
      "                     'precision': 0.8286038592508513,\n",
      "                     'recall': 0.8795180722891566},\n",
      "             'MISC': {'f1': 0.5771297006907137,\n",
      "                      'number': 2203,\n",
      "                      'precision': 0.6611957796014069,\n",
      "                      'recall': 0.5120290512936905},\n",
      "             'ORG': {'f1': 0.6481411941419452,\n",
      "                     'number': 1342,\n",
      "                     'precision': 0.6532929598788796,\n",
      "                     'recall': 0.643070044709389},\n",
      "             'PER': {'f1': 0.9026812313803376,\n",
      "                     'number': 4143,\n",
      "                     'precision': 0.9292103245591617,\n",
      "                     'recall': 0.8776249094858798},\n",
      "             'overall_accuracy': 0.9770188367036731,\n",
      "             'overall_f1': 0.8214711523508371,\n",
      "             'overall_precision': 0.8221957040572793,\n",
      "             'overall_recall': 0.8207478765278641}}\n",
      "evaluating on pl test set\n"
     ]
    },
    {
     "name": "stderr",
     "output_type": "stream",
     "text": [
      "100%|██████████| 213/213 [01:02<00:00,  3.42it/s]\n"
     ]
    },
    {
     "name": "stdout",
     "output_type": "stream",
     "text": [
      "{'accuracy': 0.9767764210700989,\n",
      " 'loss': 0.07851493121627631,\n",
      " 'seqeval': {'LOC': {'f1': 0.8942691564713456,\n",
      "                     'number': 11488,\n",
      "                     'precision': 0.8821885322266452,\n",
      "                     'recall': 0.9066852367688022},\n",
      "             'MISC': {'f1': 0.5923648475531643,\n",
      "                      'number': 2042,\n",
      "                      'precision': 0.6211714132186996,\n",
      "                      'recall': 0.5661116552399609},\n",
      "             'ORG': {'f1': 0.7784286002827712,\n",
      "                     'number': 2419,\n",
      "                     'precision': 0.7610584518167457,\n",
      "                     'recall': 0.7966101694915254},\n",
      "             'PER': {'f1': 0.9416861046317895,\n",
      "                     'number': 5969,\n",
      "                     'precision': 0.9365368682684342,\n",
      "                     'recall': 0.9468922767632769},\n",
      "             'overall_accuracy': 0.9767764232273746,\n",
      "             'overall_f1': 0.8674835232034063,\n",
      "             'overall_precision': 0.8612997526422307,\n",
      "             'overall_recall': 0.8737567296286157}}\n",
      "evaluating on ru test set\n"
     ]
    },
    {
     "name": "stderr",
     "output_type": "stream",
     "text": [
      "100%|██████████| 181/181 [01:02<00:00,  2.92it/s]\n"
     ]
    },
    {
     "name": "stdout",
     "output_type": "stream",
     "text": [
      "{'accuracy': 0.9568519592285156,\n",
      " 'loss': 0.16549555932619295,\n",
      " 'seqeval': {'LOC': {'f1': 0.8179638107695661,\n",
      "                     'number': 8596,\n",
      "                     'precision': 0.7694831829368335,\n",
      "                     'recall': 0.8729641693811075},\n",
      "             'MISC': {'f1': 0.445123281693214,\n",
      "                      'number': 2421,\n",
      "                      'precision': 0.47178538390379277,\n",
      "                      'recall': 0.42131350681536556},\n",
      "             'ORG': {'f1': 0.5215909090909091,\n",
      "                     'number': 3051,\n",
      "                     'precision': 0.6177658142664872,\n",
      "                     'recall': 0.45132743362831856},\n",
      "             'PER': {'f1': 0.7492625368731562,\n",
      "                     'number': 3426,\n",
      "                     'precision': 0.8542600896860987,\n",
      "                     'recall': 0.6672504378283712},\n",
      "             'overall_accuracy': 0.9568519395927154,\n",
      "             'overall_f1': 0.7103430186809664,\n",
      "             'overall_precision': 0.7245971817587252,\n",
      "             'overall_recall': 0.6966388476048931}}\n",
      "using model at: models/ru/xlm_roberta_wiki_neural_ru_ep_4.pth\n",
      "loading model\n",
      "done!\n",
      "evaluating on de test set\n"
     ]
    },
    {
     "name": "stderr",
     "output_type": "stream",
     "text": [
      "100%|██████████| 194/194 [00:48<00:00,  4.01it/s]\n"
     ]
    },
    {
     "name": "stdout",
     "output_type": "stream",
     "text": [
      "{'accuracy': 0.9475746154785156,\n",
      " 'loss': 0.17464608722126362,\n",
      " 'seqeval': {'LOC': {'f1': 0.6978007981659167,\n",
      "                     'number': 5000,\n",
      "                     'precision': 0.606315478825439,\n",
      "                     'recall': 0.8218},\n",
      "             'MISC': {'f1': 0.37098969473070187,\n",
      "                      'number': 2638,\n",
      "                      'precision': 0.38083832335329343,\n",
      "                      'recall': 0.3616376042456406},\n",
      "             'ORG': {'f1': 0.6015053313819779,\n",
      "                     'number': 3951,\n",
      "                     'precision': 0.5123775601068566,\n",
      "                     'recall': 0.7281700835231587},\n",
      "             'PER': {'f1': 0.8468805855817516,\n",
      "                     'number': 5855,\n",
      "                     'precision': 0.8440787241262301,\n",
      "                     'recall': 0.8497011101622545},\n",
      "             'overall_accuracy': 0.9475746338190899,\n",
      "             'overall_f1': 0.6755590427618673,\n",
      "             'overall_precision': 0.6211822423163869,\n",
      "             'overall_recall': 0.7403691813804173}}\n",
      "evaluating on nl test set\n"
     ]
    },
    {
     "name": "stderr",
     "output_type": "stream",
     "text": [
      "100%|██████████| 165/165 [00:41<00:00,  3.99it/s]\n"
     ]
    },
    {
     "name": "stdout",
     "output_type": "stream",
     "text": [
      "{'accuracy': 0.9677501320838928,\n",
      " 'loss': 0.12109952889608615,\n",
      " 'seqeval': {'LOC': {'f1': 0.8007155635062612,\n",
      "                     'number': 6909,\n",
      "                     'precision': 0.7918199830172657,\n",
      "                     'recall': 0.8098132870169344},\n",
      "             'MISC': {'f1': 0.42138794084186576,\n",
      "                      'number': 2388,\n",
      "                      'precision': 0.4613851519681116,\n",
      "                      'recall': 0.3877721943048576},\n",
      "             'ORG': {'f1': 0.5900870730073677,\n",
      "                     'number': 1328,\n",
      "                     'precision': 0.5313630880579011,\n",
      "                     'recall': 0.6634036144578314},\n",
      "             'PER': {'f1': 0.7562836624775584,\n",
      "                     'number': 4317,\n",
      "                     'precision': 0.7334058759521219,\n",
      "                     'recall': 0.7806347000231643},\n",
      "             'overall_accuracy': 0.9677501454333916,\n",
      "             'overall_f1': 0.7117748116823048,\n",
      "             'overall_precision': 0.7028578885553961,\n",
      "             'overall_recall': 0.7209208941239459}}\n",
      "evaluating on en test set\n"
     ]
    },
    {
     "name": "stderr",
     "output_type": "stream",
     "text": [
      "100%|██████████| 182/182 [00:56<00:00,  3.24it/s]\n"
     ]
    },
    {
     "name": "stdout",
     "output_type": "stream",
     "text": [
      "{'accuracy': 0.9618049263954163,\n",
      " 'loss': 0.12791745000324406,\n",
      " 'seqeval': {'LOC': {'f1': 0.6550218340611355,\n",
      "                     'number': 5955,\n",
      "                     'precision': 0.6429957942413459,\n",
      "                     'recall': 0.6675062972292192},\n",
      "             'MISC': {'f1': 0.5423111919927206,\n",
      "                      'number': 4505,\n",
      "                      'precision': 0.556099836715652,\n",
      "                      'recall': 0.5291897891231965},\n",
      "             'ORG': {'f1': 0.5838692390139335,\n",
      "                     'number': 3449,\n",
      "                     'precision': 0.5427148194271482,\n",
      "                     'recall': 0.6317773267613801},\n",
      "             'PER': {'f1': 0.8321753596242294,\n",
      "                     'number': 5207,\n",
      "                     'precision': 0.8483639265762171,\n",
      "                     'recall': 0.816593047820242},\n",
      "             'overall_accuracy': 0.9618049446950272,\n",
      "             'overall_f1': 0.662488345592044,\n",
      "             'overall_precision': 0.6560320065654494,\n",
      "             'overall_recall': 0.6690730278300899}}\n",
      "evaluating on fr test set\n"
     ]
    },
    {
     "name": "stderr",
     "output_type": "stream",
     "text": [
      "100%|██████████| 199/199 [01:08<00:00,  2.89it/s]\n"
     ]
    },
    {
     "name": "stdout",
     "output_type": "stream",
     "text": [
      "{'accuracy': 0.9549492597579956,\n",
      " 'loss': 0.16661557177053624,\n",
      " 'seqeval': {'LOC': {'f1': 0.7353525069992365,\n",
      "                     'number': 9814,\n",
      "                     'precision': 0.7347167124402401,\n",
      "                     'recall': 0.7359894028938252},\n",
      "             'MISC': {'f1': 0.429934280262879,\n",
      "                      'number': 2592,\n",
      "                      'precision': 0.4771764705882353,\n",
      "                      'recall': 0.3912037037037037},\n",
      "             'ORG': {'f1': 0.3703703703703704,\n",
      "                     'number': 3505,\n",
      "                     'precision': 0.3208612040133779,\n",
      "                     'recall': 0.43794579172610554},\n",
      "             'PER': {'f1': 0.8375999353953,\n",
      "                     'number': 6221,\n",
      "                     'precision': 0.8416098669263227,\n",
      "                     'recall': 0.8336280340781225},\n",
      "             'overall_accuracy': 0.954949263502455,\n",
      "             'overall_f1': 0.6642980858906604,\n",
      "             'overall_precision': 0.6531307309405292,\n",
      "             'overall_recall': 0.6758539671064522}}\n",
      "evaluating on it test set\n"
     ]
    },
    {
     "name": "stderr",
     "output_type": "stream",
     "text": [
      "100%|██████████| 173/173 [01:12<00:00,  2.40it/s]\n"
     ]
    },
    {
     "name": "stdout",
     "output_type": "stream",
     "text": [
      "{'accuracy': 0.9675531387329102,\n",
      " 'loss': 0.12495368874141935,\n",
      " 'seqeval': {'LOC': {'f1': 0.7686719869040312,\n",
      "                     'number': 9788,\n",
      "                     'precision': 0.7697745901639345,\n",
      "                     'recall': 0.7675725378013895},\n",
      "             'MISC': {'f1': 0.3793755912961211,\n",
      "                      'number': 2342,\n",
      "                      'precision': 0.4252386002120891,\n",
      "                      'recall': 0.34244235695986336},\n",
      "             'ORG': {'f1': 0.6503378378378379,\n",
      "                     'number': 2229,\n",
      "                     'precision': 0.6142800159553251,\n",
      "                     'recall': 0.6908927770300584},\n",
      "             'PER': {'f1': 0.8455908818236353,\n",
      "                     'number': 8377,\n",
      "                     'precision': 0.8498733871940191,\n",
      "                     'recall': 0.841351319087979},\n",
      "             'overall_accuracy': 0.967553167702657,\n",
      "             'overall_f1': 0.7482183170289054,\n",
      "             'overall_precision': 0.7530517686892988,\n",
      "             'overall_recall': 0.7434465165376496}}\n",
      "evaluating on es test set\n"
     ]
    },
    {
     "name": "stderr",
     "output_type": "stream",
     "text": [
      "100%|██████████| 151/151 [00:49<00:00,  3.07it/s]\n"
     ]
    },
    {
     "name": "stdout",
     "output_type": "stream",
     "text": [
      "{'accuracy': 0.9591271877288818,\n",
      " 'loss': 0.14522782525676764,\n",
      " 'seqeval': {'LOC': {'f1': 0.6922262552934059,\n",
      "                     'number': 6157,\n",
      "                     'precision': 0.647658129333522,\n",
      "                     'recall': 0.7433815169725516},\n",
      "             'MISC': {'f1': 0.507338357794526,\n",
      "                      'number': 2817,\n",
      "                      'precision': 0.5748314606741574,\n",
      "                      'recall': 0.45402910898118565},\n",
      "             'ORG': {'f1': 0.5518039745321243,\n",
      "                     'number': 2239,\n",
      "                     'precision': 0.4857336956521739,\n",
      "                     'recall': 0.6386779812416258},\n",
      "             'PER': {'f1': 0.8601889992730797,\n",
      "                     'number': 4187,\n",
      "                     'precision': 0.8728792721908041,\n",
      "                     'recall': 0.8478624313350848},\n",
      "             'overall_accuracy': 0.9591271943844776,\n",
      "             'overall_f1': 0.6835946124972401,\n",
      "             'overall_precision': 0.6646629454701589,\n",
      "             'overall_recall': 0.7036363636363636}}\n",
      "evaluating on pt test set\n"
     ]
    },
    {
     "name": "stderr",
     "output_type": "stream",
     "text": [
      "100%|██████████| 159/159 [00:59<00:00,  2.66it/s]\n"
     ]
    },
    {
     "name": "stdout",
     "output_type": "stream",
     "text": [
      "{'accuracy': 0.965609073638916,\n",
      " 'loss': 0.12513549710219762,\n",
      " 'seqeval': {'LOC': {'f1': 0.7454289732770746,\n",
      "                     'number': 11620,\n",
      "                     'precision': 0.7384108756227308,\n",
      "                     'recall': 0.7525817555938038},\n",
      "             'MISC': {'f1': 0.4384341637010676,\n",
      "                      'number': 2203,\n",
      "                      'precision': 0.4592445328031809,\n",
      "                      'recall': 0.41942805265546984},\n",
      "             'ORG': {'f1': 0.5774183887391434,\n",
      "                     'number': 1342,\n",
      "                     'precision': 0.48272408612919376,\n",
      "                     'recall': 0.7183308494783904},\n",
      "             'PER': {'f1': 0.7968538773503748,\n",
      "                     'number': 4143,\n",
      "                     'precision': 0.8117175763645468,\n",
      "                     'recall': 0.7825247405261887},\n",
      "             'overall_accuracy': 0.9656090662459353,\n",
      "             'overall_f1': 0.7087398477805589,\n",
      "             'overall_precision': 0.699133326614935,\n",
      "             'overall_recall': 0.718614045991299}}\n",
      "evaluating on pl test set\n"
     ]
    },
    {
     "name": "stderr",
     "output_type": "stream",
     "text": [
      "100%|██████████| 213/213 [01:02<00:00,  3.41it/s]\n"
     ]
    },
    {
     "name": "stdout",
     "output_type": "stream",
     "text": [
      "{'accuracy': 0.9616706371307373,\n",
      " 'loss': 0.135675418544823,\n",
      " 'seqeval': {'LOC': {'f1': 0.8208013640238705,\n",
      "                     'number': 11488,\n",
      "                     'precision': 0.804209822920147,\n",
      "                     'recall': 0.838091922005571},\n",
      "             'MISC': {'f1': 0.4374546334381805,\n",
      "                      'number': 2042,\n",
      "                      'precision': 0.43232902917264465,\n",
      "                      'recall': 0.4427032321253673},\n",
      "             'ORG': {'f1': 0.6586460764948824,\n",
      "                     'number': 2419,\n",
      "                     'precision': 0.5822222222222222,\n",
      "                     'recall': 0.7581645307978504},\n",
      "             'PER': {'f1': 0.783151073309032,\n",
      "                     'number': 5969,\n",
      "                     'precision': 0.7581555834378921,\n",
      "                     'recall': 0.8098508962975373},\n",
      "             'overall_accuracy': 0.9616706543617789,\n",
      "             'overall_f1': 0.7559276594809589,\n",
      "             'overall_precision': 0.7291534189664675,\n",
      "             'overall_recall': 0.7847431334975818}}\n",
      "evaluating on ru test set\n"
     ]
    },
    {
     "name": "stderr",
     "output_type": "stream",
     "text": [
      "100%|██████████| 181/181 [01:02<00:00,  2.92it/s]\n"
     ]
    },
    {
     "name": "stdout",
     "output_type": "stream",
     "text": [
      "{'accuracy': 0.967717170715332,\n",
      " 'loss': 0.09942382860167251,\n",
      " 'seqeval': {'LOC': {'f1': 0.864631271747671,\n",
      "                     'number': 8596,\n",
      "                     'precision': 0.8352851875948818,\n",
      "                     'recall': 0.8961144718473709},\n",
      "             'MISC': {'f1': 0.5767790262172284,\n",
      "                      'number': 2421,\n",
      "                      'precision': 0.6655861696380335,\n",
      "                      'recall': 0.5088806278397356},\n",
      "             'ORG': {'f1': 0.5971298564928247,\n",
      "                     'number': 3051,\n",
      "                     'precision': 0.6406308674427338,\n",
      "                     'recall': 0.5591609308423467},\n",
      "             'PER': {'f1': 0.8398133748055988,\n",
      "                     'number': 3426,\n",
      "                     'precision': 0.8143679736769948,\n",
      "                     'recall': 0.8669001751313485},\n",
      "             'overall_accuracy': 0.9677171548040168,\n",
      "             'overall_f1': 0.7805143791037074,\n",
      "             'overall_precision': 0.7830063855490997,\n",
      "             'overall_recall': 0.778038184520407}}\n"
     ]
    }
   ],
   "source": [
    "# evaluate models\n",
    "results_path = \"results/\"\n",
    "for language in languages_codes:\n",
    "    model_path = \"models/\" + language + \"/xlm_roberta_wiki_neural_\" + language + \"_ep_4.pth\"\n",
    "    print(\"using model at: \" + model_path)\n",
    "    if language in models_to_skip:\n",
    "      print(\"skipped\")\n",
    "      continue\n",
    "    print(\"loading model\")\n",
    "    NER_tagger = XLMRobertaLinearEntityTagger(num_classes=NUM_CLASSES, xlm_roberta_model=xlm_roberta_model)\n",
    "    if torch.cuda.is_available():\n",
    "      l1_dict = torch.load(model_path)[\"model_state_dict\"]\n",
    "    else:\n",
    "      l1_dict = torch.load(model_path, map_location=torch.device('cpu'))[\"model_state_dict\"]\n",
    "    NER_tagger.l1.load_state_dict(l1_dict)\n",
    "    NER_tagger.to(DEVICE)\n",
    "    print(\"done!\")\n",
    "    results_dict = dict()\n",
    "    for _language in languages_codes: # evaluate each model on each test set\n",
    "        print(f\"evaluating on {_language} test set\")\n",
    "        test_loader = test_loader_dict[_language]\n",
    "        results = evaluate_model(NER_tagger, test_loader, device=DEVICE)\n",
    "\n",
    "        results['accuracy'] = results['accuracy'].item() # accuracy is tensor (not serializable as json file) -> quick fix convert to float\n",
    "        # number is int 64 (not json serializable by default) -> convert to int\n",
    "        for entity_type in ['LOC', 'PER', 'ORG', 'MISC']:\n",
    "          try:\n",
    "            results['seqeval'][entity_type]['number'] = int(results['seqeval'][entity_type]['number'])\n",
    "          except KeyError:\n",
    "            print(f\"{entity_type} not in test set\")\n",
    "\n",
    "        pprint(results)\n",
    "        results_dict[_language] = results\n",
    "\n",
    "    with open(results_path + \"xlm_roberta_results_\" + language, \"w\") as results_file:\n",
    "        json.dump(results_dict, results_file, indent=4, sort_keys=True)"
   ]
  },
  {
   "cell_type": "code",
   "execution_count": 37,
   "metadata": {
    "colab": {
     "base_uri": "https://localhost:8080/"
    },
    "executionInfo": {
     "elapsed": 564,
     "status": "ok",
     "timestamp": 1710795554217,
     "user": {
      "displayName": "Nicholas Jennings",
      "userId": "07082218790184614317"
     },
     "user_tz": -60
    },
    "id": "cJW_C_KgW0T-",
    "outputId": "40b2ce41-d9c5-472a-d4e3-66bbd6801577"
   },
   "outputs": [
    {
     "name": "stdout",
     "output_type": "stream",
     "text": [
      "  adding: results/ (stored 0%)\n",
      "  adding: results/xlm_roberta_results_en (deflated 78%)\n",
      "  adding: results/xlm_roberta_results_es (deflated 78%)\n",
      "  adding: results/xlm_roberta_results_it (deflated 78%)\n",
      "  adding: results/xlm_roberta_results_ru (deflated 78%)\n",
      "  adding: results/xlm_roberta_results_de (deflated 78%)\n",
      "  adding: results/xlm_roberta_results_fr (deflated 79%)\n",
      "  adding: results/xlm_roberta_results_pt (deflated 78%)\n",
      "  adding: results/xlm_roberta_results_pl (deflated 78%)\n",
      "  adding: results/xlm_roberta_results_nl (deflated 78%)\n"
     ]
    }
   ],
   "source": [
    "!zip -r results.zip results"
   ]
  },
  {
   "cell_type": "code",
   "execution_count": 38,
   "metadata": {
    "colab": {
     "base_uri": "https://localhost:8080/",
     "height": 17
    },
    "executionInfo": {
     "elapsed": 359,
     "status": "ok",
     "timestamp": 1710795560046,
     "user": {
      "displayName": "Nicholas Jennings",
      "userId": "07082218790184614317"
     },
     "user_tz": -60
    },
    "id": "X6xAtkjsXDyT",
    "outputId": "30069173-1504-4b8f-cc52-7c6d5d25a081"
   },
   "outputs": [
    {
     "data": {
      "application/javascript": [
       "\n",
       "    async function download(id, filename, size) {\n",
       "      if (!google.colab.kernel.accessAllowed) {\n",
       "        return;\n",
       "      }\n",
       "      const div = document.createElement('div');\n",
       "      const label = document.createElement('label');\n",
       "      label.textContent = `Downloading \"${filename}\": `;\n",
       "      div.appendChild(label);\n",
       "      const progress = document.createElement('progress');\n",
       "      progress.max = size;\n",
       "      div.appendChild(progress);\n",
       "      document.body.appendChild(div);\n",
       "\n",
       "      const buffers = [];\n",
       "      let downloaded = 0;\n",
       "\n",
       "      const channel = await google.colab.kernel.comms.open(id);\n",
       "      // Send a message to notify the kernel that we're ready.\n",
       "      channel.send({})\n",
       "\n",
       "      for await (const message of channel.messages) {\n",
       "        // Send a message to notify the kernel that we're ready.\n",
       "        channel.send({})\n",
       "        if (message.buffers) {\n",
       "          for (const buffer of message.buffers) {\n",
       "            buffers.push(buffer);\n",
       "            downloaded += buffer.byteLength;\n",
       "            progress.value = downloaded;\n",
       "          }\n",
       "        }\n",
       "      }\n",
       "      const blob = new Blob(buffers, {type: 'application/binary'});\n",
       "      const a = document.createElement('a');\n",
       "      a.href = window.URL.createObjectURL(blob);\n",
       "      a.download = filename;\n",
       "      div.appendChild(a);\n",
       "      a.click();\n",
       "      div.remove();\n",
       "    }\n",
       "  "
      ],
      "text/plain": [
       "<IPython.core.display.Javascript object>"
      ]
     },
     "metadata": {},
     "output_type": "display_data"
    },
    {
     "data": {
      "application/javascript": [
       "download(\"download_b814acb1-dee1-4c2c-a50d-86b4c243a6e0\", \"results.zip\", 21934)"
      ],
      "text/plain": [
       "<IPython.core.display.Javascript object>"
      ]
     },
     "metadata": {},
     "output_type": "display_data"
    }
   ],
   "source": [
    "from google.colab import files\n",
    "files.download(\"results.zip\")"
   ]
  },
  {
   "cell_type": "code",
   "execution_count": 34,
   "metadata": {
    "colab": {
     "base_uri": "https://localhost:8080/"
    },
    "executionInfo": {
     "elapsed": 44,
     "status": "ok",
     "timestamp": 1710795412805,
     "user": {
      "displayName": "Nicholas Jennings",
      "userId": "07082218790184614317"
     },
     "user_tz": -60
    },
    "id": "pEKbffiQr00D",
    "outputId": "c0fecb69-de5f-422a-8ab5-51ac2f2dfce0"
   },
   "outputs": [
    {
     "data": {
      "text/plain": [
       "{'loss': 0.09942382860167251,\n",
       " 'accuracy': 0.967717170715332,\n",
       " 'seqeval': {'LOC': {'precision': 0.8352851875948818,\n",
       "   'recall': 0.8961144718473709,\n",
       "   'f1': 0.864631271747671,\n",
       "   'number': 8596},\n",
       "  'MISC': {'precision': 0.6655861696380335,\n",
       "   'recall': 0.5088806278397356,\n",
       "   'f1': 0.5767790262172284,\n",
       "   'number': 2421},\n",
       "  'ORG': {'precision': 0.6406308674427338,\n",
       "   'recall': 0.5591609308423467,\n",
       "   'f1': 0.5971298564928247,\n",
       "   'number': 3051},\n",
       "  'PER': {'precision': 0.8143679736769948,\n",
       "   'recall': 0.8669001751313485,\n",
       "   'f1': 0.8398133748055988,\n",
       "   'number': 3426},\n",
       "  'overall_precision': 0.7830063855490997,\n",
       "  'overall_recall': 0.778038184520407,\n",
       "  'overall_f1': 0.7805143791037074,\n",
       "  'overall_accuracy': 0.9677171548040168}}"
      ]
     },
     "execution_count": 34,
     "metadata": {},
     "output_type": "execute_result"
    }
   ],
   "source": [
    "results"
   ]
  }
 ],
 "metadata": {
  "accelerator": "GPU",
  "colab": {
   "gpuType": "T4",
   "provenance": []
  },
  "kernelspec": {
   "display_name": "Python 3 (ipykernel)",
   "language": "python",
   "name": "python3"
  },
  "language_info": {
   "codemirror_mode": {
    "name": "ipython",
    "version": 3
   },
   "file_extension": ".py",
   "mimetype": "text/x-python",
   "name": "python",
   "nbconvert_exporter": "python",
   "pygments_lexer": "ipython3",
   "version": "3.10.2"
  },
  "widgets": {
   "application/vnd.jupyter.widget-state+json": {
    "00b1e8a61abb4d5b8343ca0d7e66ed85": {
     "model_module": "@jupyter-widgets/base",
     "model_module_version": "1.2.0",
     "model_name": "LayoutModel",
     "state": {
      "_model_module": "@jupyter-widgets/base",
      "_model_module_version": "1.2.0",
      "_model_name": "LayoutModel",
      "_view_count": null,
      "_view_module": "@jupyter-widgets/base",
      "_view_module_version": "1.2.0",
      "_view_name": "LayoutView",
      "align_content": null,
      "align_items": null,
      "align_self": null,
      "border": null,
      "bottom": null,
      "display": null,
      "flex": null,
      "flex_flow": null,
      "grid_area": null,
      "grid_auto_columns": null,
      "grid_auto_flow": null,
      "grid_auto_rows": null,
      "grid_column": null,
      "grid_gap": null,
      "grid_row": null,
      "grid_template_areas": null,
      "grid_template_columns": null,
      "grid_template_rows": null,
      "height": null,
      "justify_content": null,
      "justify_items": null,
      "left": null,
      "margin": null,
      "max_height": null,
      "max_width": null,
      "min_height": null,
      "min_width": null,
      "object_fit": null,
      "object_position": null,
      "order": null,
      "overflow": null,
      "overflow_x": null,
      "overflow_y": null,
      "padding": null,
      "right": null,
      "top": null,
      "visibility": null,
      "width": null
     }
    },
    "01325c3ebf6a47d38e85498148dbe699": {
     "model_module": "@jupyter-widgets/controls",
     "model_module_version": "1.5.0",
     "model_name": "ProgressStyleModel",
     "state": {
      "_model_module": "@jupyter-widgets/controls",
      "_model_module_version": "1.5.0",
      "_model_name": "ProgressStyleModel",
      "_view_count": null,
      "_view_module": "@jupyter-widgets/base",
      "_view_module_version": "1.2.0",
      "_view_name": "StyleView",
      "bar_color": null,
      "description_width": ""
     }
    },
    "0326331f4f264514b87012f77093bb74": {
     "model_module": "@jupyter-widgets/controls",
     "model_module_version": "1.5.0",
     "model_name": "DescriptionStyleModel",
     "state": {
      "_model_module": "@jupyter-widgets/controls",
      "_model_module_version": "1.5.0",
      "_model_name": "DescriptionStyleModel",
      "_view_count": null,
      "_view_module": "@jupyter-widgets/base",
      "_view_module_version": "1.2.0",
      "_view_name": "StyleView",
      "description_width": ""
     }
    },
    "046771dc2e3c4bb79a05f09238128399": {
     "model_module": "@jupyter-widgets/base",
     "model_module_version": "1.2.0",
     "model_name": "LayoutModel",
     "state": {
      "_model_module": "@jupyter-widgets/base",
      "_model_module_version": "1.2.0",
      "_model_name": "LayoutModel",
      "_view_count": null,
      "_view_module": "@jupyter-widgets/base",
      "_view_module_version": "1.2.0",
      "_view_name": "LayoutView",
      "align_content": null,
      "align_items": null,
      "align_self": null,
      "border": null,
      "bottom": null,
      "display": null,
      "flex": null,
      "flex_flow": null,
      "grid_area": null,
      "grid_auto_columns": null,
      "grid_auto_flow": null,
      "grid_auto_rows": null,
      "grid_column": null,
      "grid_gap": null,
      "grid_row": null,
      "grid_template_areas": null,
      "grid_template_columns": null,
      "grid_template_rows": null,
      "height": null,
      "justify_content": null,
      "justify_items": null,
      "left": null,
      "margin": null,
      "max_height": null,
      "max_width": null,
      "min_height": null,
      "min_width": null,
      "object_fit": null,
      "object_position": null,
      "order": null,
      "overflow": null,
      "overflow_x": null,
      "overflow_y": null,
      "padding": null,
      "right": null,
      "top": null,
      "visibility": null,
      "width": null
     }
    },
    "0594632d950643a7ba9079d7abd96260": {
     "model_module": "@jupyter-widgets/base",
     "model_module_version": "1.2.0",
     "model_name": "LayoutModel",
     "state": {
      "_model_module": "@jupyter-widgets/base",
      "_model_module_version": "1.2.0",
      "_model_name": "LayoutModel",
      "_view_count": null,
      "_view_module": "@jupyter-widgets/base",
      "_view_module_version": "1.2.0",
      "_view_name": "LayoutView",
      "align_content": null,
      "align_items": null,
      "align_self": null,
      "border": null,
      "bottom": null,
      "display": null,
      "flex": null,
      "flex_flow": null,
      "grid_area": null,
      "grid_auto_columns": null,
      "grid_auto_flow": null,
      "grid_auto_rows": null,
      "grid_column": null,
      "grid_gap": null,
      "grid_row": null,
      "grid_template_areas": null,
      "grid_template_columns": null,
      "grid_template_rows": null,
      "height": null,
      "justify_content": null,
      "justify_items": null,
      "left": null,
      "margin": null,
      "max_height": null,
      "max_width": null,
      "min_height": null,
      "min_width": null,
      "object_fit": null,
      "object_position": null,
      "order": null,
      "overflow": null,
      "overflow_x": null,
      "overflow_y": null,
      "padding": null,
      "right": null,
      "top": null,
      "visibility": null,
      "width": null
     }
    },
    "08221393e00547f89f4830c70f9d308e": {
     "model_module": "@jupyter-widgets/controls",
     "model_module_version": "1.5.0",
     "model_name": "HTMLModel",
     "state": {
      "_dom_classes": [],
      "_model_module": "@jupyter-widgets/controls",
      "_model_module_version": "1.5.0",
      "_model_name": "HTMLModel",
      "_view_count": null,
      "_view_module": "@jupyter-widgets/controls",
      "_view_module_version": "1.5.0",
      "_view_name": "HTMLView",
      "description": "",
      "description_tooltip": null,
      "layout": "IPY_MODEL_1ea25e6af3b5461fb151d0468a43e098",
      "placeholder": "​",
      "style": "IPY_MODEL_509a7606bd854dc5ad40d4ce03c57069",
      "value": " 12678/12678 [00:08&lt;00:00, 2703.84 examples/s]"
     }
    },
    "08fbd064689348f08f1e6c9fa5395336": {
     "model_module": "@jupyter-widgets/controls",
     "model_module_version": "1.5.0",
     "model_name": "ProgressStyleModel",
     "state": {
      "_model_module": "@jupyter-widgets/controls",
      "_model_module_version": "1.5.0",
      "_model_name": "ProgressStyleModel",
      "_view_count": null,
      "_view_module": "@jupyter-widgets/base",
      "_view_module_version": "1.2.0",
      "_view_name": "StyleView",
      "bar_color": null,
      "description_width": ""
     }
    },
    "0a9bae49d2b44df2b256b4cb9dd54253": {
     "model_module": "@jupyter-widgets/base",
     "model_module_version": "1.2.0",
     "model_name": "LayoutModel",
     "state": {
      "_model_module": "@jupyter-widgets/base",
      "_model_module_version": "1.2.0",
      "_model_name": "LayoutModel",
      "_view_count": null,
      "_view_module": "@jupyter-widgets/base",
      "_view_module_version": "1.2.0",
      "_view_name": "LayoutView",
      "align_content": null,
      "align_items": null,
      "align_self": null,
      "border": null,
      "bottom": null,
      "display": null,
      "flex": null,
      "flex_flow": null,
      "grid_area": null,
      "grid_auto_columns": null,
      "grid_auto_flow": null,
      "grid_auto_rows": null,
      "grid_column": null,
      "grid_gap": null,
      "grid_row": null,
      "grid_template_areas": null,
      "grid_template_columns": null,
      "grid_template_rows": null,
      "height": null,
      "justify_content": null,
      "justify_items": null,
      "left": null,
      "margin": null,
      "max_height": null,
      "max_width": null,
      "min_height": null,
      "min_width": null,
      "object_fit": null,
      "object_position": null,
      "order": null,
      "overflow": null,
      "overflow_x": null,
      "overflow_y": null,
      "padding": null,
      "right": null,
      "top": null,
      "visibility": null,
      "width": null
     }
    },
    "0c02f0aebc5945e287d2fa36d15bad60": {
     "model_module": "@jupyter-widgets/controls",
     "model_module_version": "1.5.0",
     "model_name": "ProgressStyleModel",
     "state": {
      "_model_module": "@jupyter-widgets/controls",
      "_model_module_version": "1.5.0",
      "_model_name": "ProgressStyleModel",
      "_view_count": null,
      "_view_module": "@jupyter-widgets/base",
      "_view_module_version": "1.2.0",
      "_view_name": "StyleView",
      "bar_color": null,
      "description_width": ""
     }
    },
    "0d6f80e5e8f54e5baf53e07bde7b3284": {
     "model_module": "@jupyter-widgets/controls",
     "model_module_version": "1.5.0",
     "model_name": "FloatProgressModel",
     "state": {
      "_dom_classes": [],
      "_model_module": "@jupyter-widgets/controls",
      "_model_module_version": "1.5.0",
      "_model_name": "FloatProgressModel",
      "_view_count": null,
      "_view_module": "@jupyter-widgets/controls",
      "_view_module_version": "1.5.0",
      "_view_name": "ProgressView",
      "bar_style": "success",
      "description": "",
      "description_tooltip": null,
      "layout": "IPY_MODEL_2d60fd5aa6a940faa70188dcb2afb489",
      "max": 12372,
      "min": 0,
      "orientation": "horizontal",
      "style": "IPY_MODEL_d7034f44148f47b9a93f92030cb86bb2",
      "value": 12372
     }
    },
    "130df25e13384ce98dfa477576fe61e7": {
     "model_module": "@jupyter-widgets/base",
     "model_module_version": "1.2.0",
     "model_name": "LayoutModel",
     "state": {
      "_model_module": "@jupyter-widgets/base",
      "_model_module_version": "1.2.0",
      "_model_name": "LayoutModel",
      "_view_count": null,
      "_view_module": "@jupyter-widgets/base",
      "_view_module_version": "1.2.0",
      "_view_name": "LayoutView",
      "align_content": null,
      "align_items": null,
      "align_self": null,
      "border": null,
      "bottom": null,
      "display": null,
      "flex": null,
      "flex_flow": null,
      "grid_area": null,
      "grid_auto_columns": null,
      "grid_auto_flow": null,
      "grid_auto_rows": null,
      "grid_column": null,
      "grid_gap": null,
      "grid_row": null,
      "grid_template_areas": null,
      "grid_template_columns": null,
      "grid_template_rows": null,
      "height": null,
      "justify_content": null,
      "justify_items": null,
      "left": null,
      "margin": null,
      "max_height": null,
      "max_width": null,
      "min_height": null,
      "min_width": null,
      "object_fit": null,
      "object_position": null,
      "order": null,
      "overflow": null,
      "overflow_x": null,
      "overflow_y": null,
      "padding": null,
      "right": null,
      "top": null,
      "visibility": null,
      "width": null
     }
    },
    "1369a14d758b44cab49e7b3b5bbc08bf": {
     "model_module": "@jupyter-widgets/controls",
     "model_module_version": "1.5.0",
     "model_name": "HTMLModel",
     "state": {
      "_dom_classes": [],
      "_model_module": "@jupyter-widgets/controls",
      "_model_module_version": "1.5.0",
      "_model_name": "HTMLModel",
      "_view_count": null,
      "_view_module": "@jupyter-widgets/controls",
      "_view_module_version": "1.5.0",
      "_view_name": "HTMLView",
      "description": "",
      "description_tooltip": null,
      "layout": "IPY_MODEL_66ee89640781454e9126ebd64b520048",
      "placeholder": "​",
      "style": "IPY_MODEL_8dd7df1e2461450e9033b60efbd78f94",
      "value": " 13585/13585 [00:03&lt;00:00, 4307.20 examples/s]"
     }
    },
    "1b8332f22e1d4ed083a556d877f46a18": {
     "model_module": "@jupyter-widgets/base",
     "model_module_version": "1.2.0",
     "model_name": "LayoutModel",
     "state": {
      "_model_module": "@jupyter-widgets/base",
      "_model_module_version": "1.2.0",
      "_model_name": "LayoutModel",
      "_view_count": null,
      "_view_module": "@jupyter-widgets/base",
      "_view_module_version": "1.2.0",
      "_view_name": "LayoutView",
      "align_content": null,
      "align_items": null,
      "align_self": null,
      "border": null,
      "bottom": null,
      "display": null,
      "flex": null,
      "flex_flow": null,
      "grid_area": null,
      "grid_auto_columns": null,
      "grid_auto_flow": null,
      "grid_auto_rows": null,
      "grid_column": null,
      "grid_gap": null,
      "grid_row": null,
      "grid_template_areas": null,
      "grid_template_columns": null,
      "grid_template_rows": null,
      "height": null,
      "justify_content": null,
      "justify_items": null,
      "left": null,
      "margin": null,
      "max_height": null,
      "max_width": null,
      "min_height": null,
      "min_width": null,
      "object_fit": null,
      "object_position": null,
      "order": null,
      "overflow": null,
      "overflow_x": null,
      "overflow_y": null,
      "padding": null,
      "right": null,
      "top": null,
      "visibility": null,
      "width": null
     }
    },
    "1d767a2609284194b5a868afaa941ca5": {
     "model_module": "@jupyter-widgets/base",
     "model_module_version": "1.2.0",
     "model_name": "LayoutModel",
     "state": {
      "_model_module": "@jupyter-widgets/base",
      "_model_module_version": "1.2.0",
      "_model_name": "LayoutModel",
      "_view_count": null,
      "_view_module": "@jupyter-widgets/base",
      "_view_module_version": "1.2.0",
      "_view_name": "LayoutView",
      "align_content": null,
      "align_items": null,
      "align_self": null,
      "border": null,
      "bottom": null,
      "display": null,
      "flex": null,
      "flex_flow": null,
      "grid_area": null,
      "grid_auto_columns": null,
      "grid_auto_flow": null,
      "grid_auto_rows": null,
      "grid_column": null,
      "grid_gap": null,
      "grid_row": null,
      "grid_template_areas": null,
      "grid_template_columns": null,
      "grid_template_rows": null,
      "height": null,
      "justify_content": null,
      "justify_items": null,
      "left": null,
      "margin": null,
      "max_height": null,
      "max_width": null,
      "min_height": null,
      "min_width": null,
      "object_fit": null,
      "object_position": null,
      "order": null,
      "overflow": null,
      "overflow_x": null,
      "overflow_y": null,
      "padding": null,
      "right": null,
      "top": null,
      "visibility": null,
      "width": null
     }
    },
    "1d8cd894bfde4e6e8246ad741edeef08": {
     "model_module": "@jupyter-widgets/controls",
     "model_module_version": "1.5.0",
     "model_name": "DescriptionStyleModel",
     "state": {
      "_model_module": "@jupyter-widgets/controls",
      "_model_module_version": "1.5.0",
      "_model_name": "DescriptionStyleModel",
      "_view_count": null,
      "_view_module": "@jupyter-widgets/base",
      "_view_module_version": "1.2.0",
      "_view_name": "StyleView",
      "description_width": ""
     }
    },
    "1e6d52c37e59471191246c0e4423a406": {
     "model_module": "@jupyter-widgets/base",
     "model_module_version": "1.2.0",
     "model_name": "LayoutModel",
     "state": {
      "_model_module": "@jupyter-widgets/base",
      "_model_module_version": "1.2.0",
      "_model_name": "LayoutModel",
      "_view_count": null,
      "_view_module": "@jupyter-widgets/base",
      "_view_module_version": "1.2.0",
      "_view_name": "LayoutView",
      "align_content": null,
      "align_items": null,
      "align_self": null,
      "border": null,
      "bottom": null,
      "display": null,
      "flex": null,
      "flex_flow": null,
      "grid_area": null,
      "grid_auto_columns": null,
      "grid_auto_flow": null,
      "grid_auto_rows": null,
      "grid_column": null,
      "grid_gap": null,
      "grid_row": null,
      "grid_template_areas": null,
      "grid_template_columns": null,
      "grid_template_rows": null,
      "height": null,
      "justify_content": null,
      "justify_items": null,
      "left": null,
      "margin": null,
      "max_height": null,
      "max_width": null,
      "min_height": null,
      "min_width": null,
      "object_fit": null,
      "object_position": null,
      "order": null,
      "overflow": null,
      "overflow_x": null,
      "overflow_y": null,
      "padding": null,
      "right": null,
      "top": null,
      "visibility": null,
      "width": null
     }
    },
    "1ea25e6af3b5461fb151d0468a43e098": {
     "model_module": "@jupyter-widgets/base",
     "model_module_version": "1.2.0",
     "model_name": "LayoutModel",
     "state": {
      "_model_module": "@jupyter-widgets/base",
      "_model_module_version": "1.2.0",
      "_model_name": "LayoutModel",
      "_view_count": null,
      "_view_module": "@jupyter-widgets/base",
      "_view_module_version": "1.2.0",
      "_view_name": "LayoutView",
      "align_content": null,
      "align_items": null,
      "align_self": null,
      "border": null,
      "bottom": null,
      "display": null,
      "flex": null,
      "flex_flow": null,
      "grid_area": null,
      "grid_auto_columns": null,
      "grid_auto_flow": null,
      "grid_auto_rows": null,
      "grid_column": null,
      "grid_gap": null,
      "grid_row": null,
      "grid_template_areas": null,
      "grid_template_columns": null,
      "grid_template_rows": null,
      "height": null,
      "justify_content": null,
      "justify_items": null,
      "left": null,
      "margin": null,
      "max_height": null,
      "max_width": null,
      "min_height": null,
      "min_width": null,
      "object_fit": null,
      "object_position": null,
      "order": null,
      "overflow": null,
      "overflow_x": null,
      "overflow_y": null,
      "padding": null,
      "right": null,
      "top": null,
      "visibility": null,
      "width": null
     }
    },
    "1ee073ae0a004157a37cd93abd4ffb92": {
     "model_module": "@jupyter-widgets/base",
     "model_module_version": "1.2.0",
     "model_name": "LayoutModel",
     "state": {
      "_model_module": "@jupyter-widgets/base",
      "_model_module_version": "1.2.0",
      "_model_name": "LayoutModel",
      "_view_count": null,
      "_view_module": "@jupyter-widgets/base",
      "_view_module_version": "1.2.0",
      "_view_name": "LayoutView",
      "align_content": null,
      "align_items": null,
      "align_self": null,
      "border": null,
      "bottom": null,
      "display": null,
      "flex": null,
      "flex_flow": null,
      "grid_area": null,
      "grid_auto_columns": null,
      "grid_auto_flow": null,
      "grid_auto_rows": null,
      "grid_column": null,
      "grid_gap": null,
      "grid_row": null,
      "grid_template_areas": null,
      "grid_template_columns": null,
      "grid_template_rows": null,
      "height": null,
      "justify_content": null,
      "justify_items": null,
      "left": null,
      "margin": null,
      "max_height": null,
      "max_width": null,
      "min_height": null,
      "min_width": null,
      "object_fit": null,
      "object_position": null,
      "order": null,
      "overflow": null,
      "overflow_x": null,
      "overflow_y": null,
      "padding": null,
      "right": null,
      "top": null,
      "visibility": null,
      "width": null
     }
    },
    "2267e9bc32ec47368b34d272c02b0f0e": {
     "model_module": "@jupyter-widgets/controls",
     "model_module_version": "1.5.0",
     "model_name": "DescriptionStyleModel",
     "state": {
      "_model_module": "@jupyter-widgets/controls",
      "_model_module_version": "1.5.0",
      "_model_name": "DescriptionStyleModel",
      "_view_count": null,
      "_view_module": "@jupyter-widgets/base",
      "_view_module_version": "1.2.0",
      "_view_name": "StyleView",
      "description_width": ""
     }
    },
    "22e9ad056eef409083bd398f5f234d29": {
     "model_module": "@jupyter-widgets/controls",
     "model_module_version": "1.5.0",
     "model_name": "FloatProgressModel",
     "state": {
      "_dom_classes": [],
      "_model_module": "@jupyter-widgets/controls",
      "_model_module_version": "1.5.0",
      "_model_name": "FloatProgressModel",
      "_view_count": null,
      "_view_module": "@jupyter-widgets/controls",
      "_view_module_version": "1.5.0",
      "_view_name": "ProgressView",
      "bar_style": "success",
      "description": "",
      "description_tooltip": null,
      "layout": "IPY_MODEL_634c80e895714f1188aab7985ffffbb3",
      "max": 13585,
      "min": 0,
      "orientation": "horizontal",
      "style": "IPY_MODEL_08fbd064689348f08f1e6c9fa5395336",
      "value": 13585
     }
    },
    "23f5ac34787a419cb2450b3cdedc31b5": {
     "model_module": "@jupyter-widgets/base",
     "model_module_version": "1.2.0",
     "model_name": "LayoutModel",
     "state": {
      "_model_module": "@jupyter-widgets/base",
      "_model_module_version": "1.2.0",
      "_model_name": "LayoutModel",
      "_view_count": null,
      "_view_module": "@jupyter-widgets/base",
      "_view_module_version": "1.2.0",
      "_view_name": "LayoutView",
      "align_content": null,
      "align_items": null,
      "align_self": null,
      "border": null,
      "bottom": null,
      "display": null,
      "flex": null,
      "flex_flow": null,
      "grid_area": null,
      "grid_auto_columns": null,
      "grid_auto_flow": null,
      "grid_auto_rows": null,
      "grid_column": null,
      "grid_gap": null,
      "grid_row": null,
      "grid_template_areas": null,
      "grid_template_columns": null,
      "grid_template_rows": null,
      "height": null,
      "justify_content": null,
      "justify_items": null,
      "left": null,
      "margin": null,
      "max_height": null,
      "max_width": null,
      "min_height": null,
      "min_width": null,
      "object_fit": null,
      "object_position": null,
      "order": null,
      "overflow": null,
      "overflow_x": null,
      "overflow_y": null,
      "padding": null,
      "right": null,
      "top": null,
      "visibility": null,
      "width": null
     }
    },
    "262965619a834ebbb4646f2e0bc55cce": {
     "model_module": "@jupyter-widgets/controls",
     "model_module_version": "1.5.0",
     "model_name": "DescriptionStyleModel",
     "state": {
      "_model_module": "@jupyter-widgets/controls",
      "_model_module_version": "1.5.0",
      "_model_name": "DescriptionStyleModel",
      "_view_count": null,
      "_view_module": "@jupyter-widgets/base",
      "_view_module_version": "1.2.0",
      "_view_name": "StyleView",
      "description_width": ""
     }
    },
    "2d60fd5aa6a940faa70188dcb2afb489": {
     "model_module": "@jupyter-widgets/base",
     "model_module_version": "1.2.0",
     "model_name": "LayoutModel",
     "state": {
      "_model_module": "@jupyter-widgets/base",
      "_model_module_version": "1.2.0",
      "_model_name": "LayoutModel",
      "_view_count": null,
      "_view_module": "@jupyter-widgets/base",
      "_view_module_version": "1.2.0",
      "_view_name": "LayoutView",
      "align_content": null,
      "align_items": null,
      "align_self": null,
      "border": null,
      "bottom": null,
      "display": null,
      "flex": null,
      "flex_flow": null,
      "grid_area": null,
      "grid_auto_columns": null,
      "grid_auto_flow": null,
      "grid_auto_rows": null,
      "grid_column": null,
      "grid_gap": null,
      "grid_row": null,
      "grid_template_areas": null,
      "grid_template_columns": null,
      "grid_template_rows": null,
      "height": null,
      "justify_content": null,
      "justify_items": null,
      "left": null,
      "margin": null,
      "max_height": null,
      "max_width": null,
      "min_height": null,
      "min_width": null,
      "object_fit": null,
      "object_position": null,
      "order": null,
      "overflow": null,
      "overflow_x": null,
      "overflow_y": null,
      "padding": null,
      "right": null,
      "top": null,
      "visibility": null,
      "width": null
     }
    },
    "3220d7280bef4b4cbe0e9737e2accf5d": {
     "model_module": "@jupyter-widgets/controls",
     "model_module_version": "1.5.0",
     "model_name": "HTMLModel",
     "state": {
      "_dom_classes": [],
      "_model_module": "@jupyter-widgets/controls",
      "_model_module_version": "1.5.0",
      "_model_name": "HTMLModel",
      "_view_count": null,
      "_view_module": "@jupyter-widgets/controls",
      "_view_module_version": "1.5.0",
      "_view_name": "HTMLView",
      "description": "",
      "description_tooltip": null,
      "layout": "IPY_MODEL_c35f9f2af31748ab80c09551b0acf60f",
      "placeholder": "​",
      "style": "IPY_MODEL_f270b08b4997417f8166008a0ed57faa",
      "value": " 11069/11069 [00:03&lt;00:00, 2797.74 examples/s]"
     }
    },
    "32ea37603c5743e0bbf5b021cda07f7c": {
     "model_module": "@jupyter-widgets/base",
     "model_module_version": "1.2.0",
     "model_name": "LayoutModel",
     "state": {
      "_model_module": "@jupyter-widgets/base",
      "_model_module_version": "1.2.0",
      "_model_name": "LayoutModel",
      "_view_count": null,
      "_view_module": "@jupyter-widgets/base",
      "_view_module_version": "1.2.0",
      "_view_name": "LayoutView",
      "align_content": null,
      "align_items": null,
      "align_self": null,
      "border": null,
      "bottom": null,
      "display": null,
      "flex": null,
      "flex_flow": null,
      "grid_area": null,
      "grid_auto_columns": null,
      "grid_auto_flow": null,
      "grid_auto_rows": null,
      "grid_column": null,
      "grid_gap": null,
      "grid_row": null,
      "grid_template_areas": null,
      "grid_template_columns": null,
      "grid_template_rows": null,
      "height": null,
      "justify_content": null,
      "justify_items": null,
      "left": null,
      "margin": null,
      "max_height": null,
      "max_width": null,
      "min_height": null,
      "min_width": null,
      "object_fit": null,
      "object_position": null,
      "order": null,
      "overflow": null,
      "overflow_x": null,
      "overflow_y": null,
      "padding": null,
      "right": null,
      "top": null,
      "visibility": null,
      "width": null
     }
    },
    "32f3f34d0a20411f919366d1eddf1046": {
     "model_module": "@jupyter-widgets/controls",
     "model_module_version": "1.5.0",
     "model_name": "HTMLModel",
     "state": {
      "_dom_classes": [],
      "_model_module": "@jupyter-widgets/controls",
      "_model_module_version": "1.5.0",
      "_model_name": "HTMLModel",
      "_view_count": null,
      "_view_module": "@jupyter-widgets/controls",
      "_view_module_version": "1.5.0",
      "_view_name": "HTMLView",
      "description": "",
      "description_tooltip": null,
      "layout": "IPY_MODEL_b224e8e3e61c4f6ca4f838917b8e54b0",
      "placeholder": "​",
      "style": "IPY_MODEL_bd9a272bfe6c435486946592fbd34ff9",
      "value": " 10160/10160 [00:04&lt;00:00, 3209.07 examples/s]"
     }
    },
    "3411a45a9fe44d8486884c66fdded5fd": {
     "model_module": "@jupyter-widgets/controls",
     "model_module_version": "1.5.0",
     "model_name": "DescriptionStyleModel",
     "state": {
      "_model_module": "@jupyter-widgets/controls",
      "_model_module_version": "1.5.0",
      "_model_name": "DescriptionStyleModel",
      "_view_count": null,
      "_view_module": "@jupyter-widgets/base",
      "_view_module_version": "1.2.0",
      "_view_name": "StyleView",
      "description_width": ""
     }
    },
    "350022afbdd248139c082b9bc3205d85": {
     "model_module": "@jupyter-widgets/base",
     "model_module_version": "1.2.0",
     "model_name": "LayoutModel",
     "state": {
      "_model_module": "@jupyter-widgets/base",
      "_model_module_version": "1.2.0",
      "_model_name": "LayoutModel",
      "_view_count": null,
      "_view_module": "@jupyter-widgets/base",
      "_view_module_version": "1.2.0",
      "_view_name": "LayoutView",
      "align_content": null,
      "align_items": null,
      "align_self": null,
      "border": null,
      "bottom": null,
      "display": null,
      "flex": null,
      "flex_flow": null,
      "grid_area": null,
      "grid_auto_columns": null,
      "grid_auto_flow": null,
      "grid_auto_rows": null,
      "grid_column": null,
      "grid_gap": null,
      "grid_row": null,
      "grid_template_areas": null,
      "grid_template_columns": null,
      "grid_template_rows": null,
      "height": null,
      "justify_content": null,
      "justify_items": null,
      "left": null,
      "margin": null,
      "max_height": null,
      "max_width": null,
      "min_height": null,
      "min_width": null,
      "object_fit": null,
      "object_position": null,
      "order": null,
      "overflow": null,
      "overflow_x": null,
      "overflow_y": null,
      "padding": null,
      "right": null,
      "top": null,
      "visibility": null,
      "width": null
     }
    },
    "3564340c3d674581a24693211f27e273": {
     "model_module": "@jupyter-widgets/base",
     "model_module_version": "1.2.0",
     "model_name": "LayoutModel",
     "state": {
      "_model_module": "@jupyter-widgets/base",
      "_model_module_version": "1.2.0",
      "_model_name": "LayoutModel",
      "_view_count": null,
      "_view_module": "@jupyter-widgets/base",
      "_view_module_version": "1.2.0",
      "_view_name": "LayoutView",
      "align_content": null,
      "align_items": null,
      "align_self": null,
      "border": null,
      "bottom": null,
      "display": null,
      "flex": null,
      "flex_flow": null,
      "grid_area": null,
      "grid_auto_columns": null,
      "grid_auto_flow": null,
      "grid_auto_rows": null,
      "grid_column": null,
      "grid_gap": null,
      "grid_row": null,
      "grid_template_areas": null,
      "grid_template_columns": null,
      "grid_template_rows": null,
      "height": null,
      "justify_content": null,
      "justify_items": null,
      "left": null,
      "margin": null,
      "max_height": null,
      "max_width": null,
      "min_height": null,
      "min_width": null,
      "object_fit": null,
      "object_position": null,
      "order": null,
      "overflow": null,
      "overflow_x": null,
      "overflow_y": null,
      "padding": null,
      "right": null,
      "top": null,
      "visibility": null,
      "width": null
     }
    },
    "36dab65085f94999aeb24f70b65d9203": {
     "model_module": "@jupyter-widgets/controls",
     "model_module_version": "1.5.0",
     "model_name": "HBoxModel",
     "state": {
      "_dom_classes": [],
      "_model_module": "@jupyter-widgets/controls",
      "_model_module_version": "1.5.0",
      "_model_name": "HBoxModel",
      "_view_count": null,
      "_view_module": "@jupyter-widgets/controls",
      "_view_module_version": "1.5.0",
      "_view_name": "HBoxView",
      "box_style": "",
      "children": [
       "IPY_MODEL_aa29f9e03dd34d15af230eb9abdd69b1",
       "IPY_MODEL_f1e7a712554a4af988aaa0f17af45564",
       "IPY_MODEL_5e7cc1c062ca405fad270f431e166d7e"
      ],
      "layout": "IPY_MODEL_23f5ac34787a419cb2450b3cdedc31b5"
     }
    },
    "3a8ec2ea4af24721bd40d2e12aaf2168": {
     "model_module": "@jupyter-widgets/base",
     "model_module_version": "1.2.0",
     "model_name": "LayoutModel",
     "state": {
      "_model_module": "@jupyter-widgets/base",
      "_model_module_version": "1.2.0",
      "_model_name": "LayoutModel",
      "_view_count": null,
      "_view_module": "@jupyter-widgets/base",
      "_view_module_version": "1.2.0",
      "_view_name": "LayoutView",
      "align_content": null,
      "align_items": null,
      "align_self": null,
      "border": null,
      "bottom": null,
      "display": null,
      "flex": null,
      "flex_flow": null,
      "grid_area": null,
      "grid_auto_columns": null,
      "grid_auto_flow": null,
      "grid_auto_rows": null,
      "grid_column": null,
      "grid_gap": null,
      "grid_row": null,
      "grid_template_areas": null,
      "grid_template_columns": null,
      "grid_template_rows": null,
      "height": null,
      "justify_content": null,
      "justify_items": null,
      "left": null,
      "margin": null,
      "max_height": null,
      "max_width": null,
      "min_height": null,
      "min_width": null,
      "object_fit": null,
      "object_position": null,
      "order": null,
      "overflow": null,
      "overflow_x": null,
      "overflow_y": null,
      "padding": null,
      "right": null,
      "top": null,
      "visibility": null,
      "width": null
     }
    },
    "3cf2811508ec4d239a6206cde89e5585": {
     "model_module": "@jupyter-widgets/base",
     "model_module_version": "1.2.0",
     "model_name": "LayoutModel",
     "state": {
      "_model_module": "@jupyter-widgets/base",
      "_model_module_version": "1.2.0",
      "_model_name": "LayoutModel",
      "_view_count": null,
      "_view_module": "@jupyter-widgets/base",
      "_view_module_version": "1.2.0",
      "_view_name": "LayoutView",
      "align_content": null,
      "align_items": null,
      "align_self": null,
      "border": null,
      "bottom": null,
      "display": null,
      "flex": null,
      "flex_flow": null,
      "grid_area": null,
      "grid_auto_columns": null,
      "grid_auto_flow": null,
      "grid_auto_rows": null,
      "grid_column": null,
      "grid_gap": null,
      "grid_row": null,
      "grid_template_areas": null,
      "grid_template_columns": null,
      "grid_template_rows": null,
      "height": null,
      "justify_content": null,
      "justify_items": null,
      "left": null,
      "margin": null,
      "max_height": null,
      "max_width": null,
      "min_height": null,
      "min_width": null,
      "object_fit": null,
      "object_position": null,
      "order": null,
      "overflow": null,
      "overflow_x": null,
      "overflow_y": null,
      "padding": null,
      "right": null,
      "top": null,
      "visibility": null,
      "width": null
     }
    },
    "4108600b400b41309cd3afcc6f3288a9": {
     "model_module": "@jupyter-widgets/controls",
     "model_module_version": "1.5.0",
     "model_name": "HBoxModel",
     "state": {
      "_dom_classes": [],
      "_model_module": "@jupyter-widgets/controls",
      "_model_module_version": "1.5.0",
      "_model_name": "HBoxModel",
      "_view_count": null,
      "_view_module": "@jupyter-widgets/controls",
      "_view_module_version": "1.5.0",
      "_view_name": "HBoxView",
      "box_style": "",
      "children": [
       "IPY_MODEL_cf972c3dffb24ca89f1ac9af9ea802c7",
       "IPY_MODEL_f0e74734dd1e44f1bc2e270f9e3d8298",
       "IPY_MODEL_3220d7280bef4b4cbe0e9737e2accf5d"
      ],
      "layout": "IPY_MODEL_00b1e8a61abb4d5b8343ca0d7e66ed85"
     }
    },
    "4231f7207ad54679be6e59ba31288d75": {
     "model_module": "@jupyter-widgets/controls",
     "model_module_version": "1.5.0",
     "model_name": "HBoxModel",
     "state": {
      "_dom_classes": [],
      "_model_module": "@jupyter-widgets/controls",
      "_model_module_version": "1.5.0",
      "_model_name": "HBoxModel",
      "_view_count": null,
      "_view_module": "@jupyter-widgets/controls",
      "_view_module_version": "1.5.0",
      "_view_name": "HBoxView",
      "box_style": "",
      "children": [
       "IPY_MODEL_88ac8b1b3c084e26896865f6cfc9169b",
       "IPY_MODEL_22e9ad056eef409083bd398f5f234d29",
       "IPY_MODEL_1369a14d758b44cab49e7b3b5bbc08bf"
      ],
      "layout": "IPY_MODEL_350022afbdd248139c082b9bc3205d85"
     }
    },
    "43d2c62972934af88858862c2bcf5d38": {
     "model_module": "@jupyter-widgets/controls",
     "model_module_version": "1.5.0",
     "model_name": "DescriptionStyleModel",
     "state": {
      "_model_module": "@jupyter-widgets/controls",
      "_model_module_version": "1.5.0",
      "_model_name": "DescriptionStyleModel",
      "_view_count": null,
      "_view_module": "@jupyter-widgets/base",
      "_view_module_version": "1.2.0",
      "_view_name": "StyleView",
      "description_width": ""
     }
    },
    "4a248e29354d43a4941b3e54d4bcd650": {
     "model_module": "@jupyter-widgets/controls",
     "model_module_version": "1.5.0",
     "model_name": "HBoxModel",
     "state": {
      "_dom_classes": [],
      "_model_module": "@jupyter-widgets/controls",
      "_model_module_version": "1.5.0",
      "_model_name": "HBoxModel",
      "_view_count": null,
      "_view_module": "@jupyter-widgets/controls",
      "_view_module_version": "1.5.0",
      "_view_name": "HBoxView",
      "box_style": "",
      "children": [
       "IPY_MODEL_e522c34bcb89432ea1152a60beb06d27",
       "IPY_MODEL_77658c09d93e4875ad68da7cd53521a5",
       "IPY_MODEL_dfd9749476464678bac6efee5f8a8ada"
      ],
      "layout": "IPY_MODEL_a38f24bc61c74381b13a695aeb797986"
     }
    },
    "4a83bd1a569848db8d352c5c85e66965": {
     "model_module": "@jupyter-widgets/controls",
     "model_module_version": "1.5.0",
     "model_name": "DescriptionStyleModel",
     "state": {
      "_model_module": "@jupyter-widgets/controls",
      "_model_module_version": "1.5.0",
      "_model_name": "DescriptionStyleModel",
      "_view_count": null,
      "_view_module": "@jupyter-widgets/base",
      "_view_module_version": "1.2.0",
      "_view_name": "StyleView",
      "description_width": ""
     }
    },
    "509a7606bd854dc5ad40d4ce03c57069": {
     "model_module": "@jupyter-widgets/controls",
     "model_module_version": "1.5.0",
     "model_name": "DescriptionStyleModel",
     "state": {
      "_model_module": "@jupyter-widgets/controls",
      "_model_module_version": "1.5.0",
      "_model_name": "DescriptionStyleModel",
      "_view_count": null,
      "_view_module": "@jupyter-widgets/base",
      "_view_module_version": "1.2.0",
      "_view_name": "StyleView",
      "description_width": ""
     }
    },
    "53f86b710c3e462493c96f60dd4df975": {
     "model_module": "@jupyter-widgets/controls",
     "model_module_version": "1.5.0",
     "model_name": "DescriptionStyleModel",
     "state": {
      "_model_module": "@jupyter-widgets/controls",
      "_model_module_version": "1.5.0",
      "_model_name": "DescriptionStyleModel",
      "_view_count": null,
      "_view_module": "@jupyter-widgets/base",
      "_view_module_version": "1.2.0",
      "_view_name": "StyleView",
      "description_width": ""
     }
    },
    "58b51da4dc3a48ff81c6917d60da9923": {
     "model_module": "@jupyter-widgets/base",
     "model_module_version": "1.2.0",
     "model_name": "LayoutModel",
     "state": {
      "_model_module": "@jupyter-widgets/base",
      "_model_module_version": "1.2.0",
      "_model_name": "LayoutModel",
      "_view_count": null,
      "_view_module": "@jupyter-widgets/base",
      "_view_module_version": "1.2.0",
      "_view_name": "LayoutView",
      "align_content": null,
      "align_items": null,
      "align_self": null,
      "border": null,
      "bottom": null,
      "display": null,
      "flex": null,
      "flex_flow": null,
      "grid_area": null,
      "grid_auto_columns": null,
      "grid_auto_flow": null,
      "grid_auto_rows": null,
      "grid_column": null,
      "grid_gap": null,
      "grid_row": null,
      "grid_template_areas": null,
      "grid_template_columns": null,
      "grid_template_rows": null,
      "height": null,
      "justify_content": null,
      "justify_items": null,
      "left": null,
      "margin": null,
      "max_height": null,
      "max_width": null,
      "min_height": null,
      "min_width": null,
      "object_fit": null,
      "object_position": null,
      "order": null,
      "overflow": null,
      "overflow_x": null,
      "overflow_y": null,
      "padding": null,
      "right": null,
      "top": null,
      "visibility": null,
      "width": null
     }
    },
    "5ab53bf5ddfa4490b29583a94434b2bf": {
     "model_module": "@jupyter-widgets/base",
     "model_module_version": "1.2.0",
     "model_name": "LayoutModel",
     "state": {
      "_model_module": "@jupyter-widgets/base",
      "_model_module_version": "1.2.0",
      "_model_name": "LayoutModel",
      "_view_count": null,
      "_view_module": "@jupyter-widgets/base",
      "_view_module_version": "1.2.0",
      "_view_name": "LayoutView",
      "align_content": null,
      "align_items": null,
      "align_self": null,
      "border": null,
      "bottom": null,
      "display": null,
      "flex": null,
      "flex_flow": null,
      "grid_area": null,
      "grid_auto_columns": null,
      "grid_auto_flow": null,
      "grid_auto_rows": null,
      "grid_column": null,
      "grid_gap": null,
      "grid_row": null,
      "grid_template_areas": null,
      "grid_template_columns": null,
      "grid_template_rows": null,
      "height": null,
      "justify_content": null,
      "justify_items": null,
      "left": null,
      "margin": null,
      "max_height": null,
      "max_width": null,
      "min_height": null,
      "min_width": null,
      "object_fit": null,
      "object_position": null,
      "order": null,
      "overflow": null,
      "overflow_x": null,
      "overflow_y": null,
      "padding": null,
      "right": null,
      "top": null,
      "visibility": null,
      "width": null
     }
    },
    "5c0a66be783f4a45ad9d754ebf04f104": {
     "model_module": "@jupyter-widgets/controls",
     "model_module_version": "1.5.0",
     "model_name": "HTMLModel",
     "state": {
      "_dom_classes": [],
      "_model_module": "@jupyter-widgets/controls",
      "_model_module_version": "1.5.0",
      "_model_name": "HTMLModel",
      "_view_count": null,
      "_view_module": "@jupyter-widgets/controls",
      "_view_module_version": "1.5.0",
      "_view_name": "HTMLView",
      "description": "",
      "description_tooltip": null,
      "layout": "IPY_MODEL_58b51da4dc3a48ff81c6917d60da9923",
      "placeholder": "​",
      "style": "IPY_MODEL_43d2c62972934af88858862c2bcf5d38",
      "value": " 9618/9618 [00:02&lt;00:00, 3291.84 examples/s]"
     }
    },
    "5e7cc1c062ca405fad270f431e166d7e": {
     "model_module": "@jupyter-widgets/controls",
     "model_module_version": "1.5.0",
     "model_name": "HTMLModel",
     "state": {
      "_dom_classes": [],
      "_model_module": "@jupyter-widgets/controls",
      "_model_module_version": "1.5.0",
      "_model_name": "HTMLModel",
      "_view_count": null,
      "_view_module": "@jupyter-widgets/controls",
      "_view_module_version": "1.5.0",
      "_view_name": "HTMLView",
      "description": "",
      "description_tooltip": null,
      "layout": "IPY_MODEL_046771dc2e3c4bb79a05f09238128399",
      "placeholder": "​",
      "style": "IPY_MODEL_3411a45a9fe44d8486884c66fdded5fd",
      "value": " 11597/11597 [00:06&lt;00:00, 1786.17 examples/s]"
     }
    },
    "600aff8ad78743339bb47f648594d0ef": {
     "model_module": "@jupyter-widgets/base",
     "model_module_version": "1.2.0",
     "model_name": "LayoutModel",
     "state": {
      "_model_module": "@jupyter-widgets/base",
      "_model_module_version": "1.2.0",
      "_model_name": "LayoutModel",
      "_view_count": null,
      "_view_module": "@jupyter-widgets/base",
      "_view_module_version": "1.2.0",
      "_view_name": "LayoutView",
      "align_content": null,
      "align_items": null,
      "align_self": null,
      "border": null,
      "bottom": null,
      "display": null,
      "flex": null,
      "flex_flow": null,
      "grid_area": null,
      "grid_auto_columns": null,
      "grid_auto_flow": null,
      "grid_auto_rows": null,
      "grid_column": null,
      "grid_gap": null,
      "grid_row": null,
      "grid_template_areas": null,
      "grid_template_columns": null,
      "grid_template_rows": null,
      "height": null,
      "justify_content": null,
      "justify_items": null,
      "left": null,
      "margin": null,
      "max_height": null,
      "max_width": null,
      "min_height": null,
      "min_width": null,
      "object_fit": null,
      "object_position": null,
      "order": null,
      "overflow": null,
      "overflow_x": null,
      "overflow_y": null,
      "padding": null,
      "right": null,
      "top": null,
      "visibility": null,
      "width": null
     }
    },
    "634c80e895714f1188aab7985ffffbb3": {
     "model_module": "@jupyter-widgets/base",
     "model_module_version": "1.2.0",
     "model_name": "LayoutModel",
     "state": {
      "_model_module": "@jupyter-widgets/base",
      "_model_module_version": "1.2.0",
      "_model_name": "LayoutModel",
      "_view_count": null,
      "_view_module": "@jupyter-widgets/base",
      "_view_module_version": "1.2.0",
      "_view_name": "LayoutView",
      "align_content": null,
      "align_items": null,
      "align_self": null,
      "border": null,
      "bottom": null,
      "display": null,
      "flex": null,
      "flex_flow": null,
      "grid_area": null,
      "grid_auto_columns": null,
      "grid_auto_flow": null,
      "grid_auto_rows": null,
      "grid_column": null,
      "grid_gap": null,
      "grid_row": null,
      "grid_template_areas": null,
      "grid_template_columns": null,
      "grid_template_rows": null,
      "height": null,
      "justify_content": null,
      "justify_items": null,
      "left": null,
      "margin": null,
      "max_height": null,
      "max_width": null,
      "min_height": null,
      "min_width": null,
      "object_fit": null,
      "object_position": null,
      "order": null,
      "overflow": null,
      "overflow_x": null,
      "overflow_y": null,
      "padding": null,
      "right": null,
      "top": null,
      "visibility": null,
      "width": null
     }
    },
    "6568af94451f4b73b02b3c8dddccba3b": {
     "model_module": "@jupyter-widgets/base",
     "model_module_version": "1.2.0",
     "model_name": "LayoutModel",
     "state": {
      "_model_module": "@jupyter-widgets/base",
      "_model_module_version": "1.2.0",
      "_model_name": "LayoutModel",
      "_view_count": null,
      "_view_module": "@jupyter-widgets/base",
      "_view_module_version": "1.2.0",
      "_view_name": "LayoutView",
      "align_content": null,
      "align_items": null,
      "align_self": null,
      "border": null,
      "bottom": null,
      "display": null,
      "flex": null,
      "flex_flow": null,
      "grid_area": null,
      "grid_auto_columns": null,
      "grid_auto_flow": null,
      "grid_auto_rows": null,
      "grid_column": null,
      "grid_gap": null,
      "grid_row": null,
      "grid_template_areas": null,
      "grid_template_columns": null,
      "grid_template_rows": null,
      "height": null,
      "justify_content": null,
      "justify_items": null,
      "left": null,
      "margin": null,
      "max_height": null,
      "max_width": null,
      "min_height": null,
      "min_width": null,
      "object_fit": null,
      "object_position": null,
      "order": null,
      "overflow": null,
      "overflow_x": null,
      "overflow_y": null,
      "padding": null,
      "right": null,
      "top": null,
      "visibility": null,
      "width": null
     }
    },
    "66ee89640781454e9126ebd64b520048": {
     "model_module": "@jupyter-widgets/base",
     "model_module_version": "1.2.0",
     "model_name": "LayoutModel",
     "state": {
      "_model_module": "@jupyter-widgets/base",
      "_model_module_version": "1.2.0",
      "_model_name": "LayoutModel",
      "_view_count": null,
      "_view_module": "@jupyter-widgets/base",
      "_view_module_version": "1.2.0",
      "_view_name": "LayoutView",
      "align_content": null,
      "align_items": null,
      "align_self": null,
      "border": null,
      "bottom": null,
      "display": null,
      "flex": null,
      "flex_flow": null,
      "grid_area": null,
      "grid_auto_columns": null,
      "grid_auto_flow": null,
      "grid_auto_rows": null,
      "grid_column": null,
      "grid_gap": null,
      "grid_row": null,
      "grid_template_areas": null,
      "grid_template_columns": null,
      "grid_template_rows": null,
      "height": null,
      "justify_content": null,
      "justify_items": null,
      "left": null,
      "margin": null,
      "max_height": null,
      "max_width": null,
      "min_height": null,
      "min_width": null,
      "object_fit": null,
      "object_position": null,
      "order": null,
      "overflow": null,
      "overflow_x": null,
      "overflow_y": null,
      "padding": null,
      "right": null,
      "top": null,
      "visibility": null,
      "width": null
     }
    },
    "6b9baf2751564caa93324b5e27ddac2e": {
     "model_module": "@jupyter-widgets/controls",
     "model_module_version": "1.5.0",
     "model_name": "ProgressStyleModel",
     "state": {
      "_model_module": "@jupyter-widgets/controls",
      "_model_module_version": "1.5.0",
      "_model_name": "ProgressStyleModel",
      "_view_count": null,
      "_view_module": "@jupyter-widgets/base",
      "_view_module_version": "1.2.0",
      "_view_name": "StyleView",
      "bar_color": null,
      "description_width": ""
     }
    },
    "6dc6bce085324bf8b312fc2da8946335": {
     "model_module": "@jupyter-widgets/base",
     "model_module_version": "1.2.0",
     "model_name": "LayoutModel",
     "state": {
      "_model_module": "@jupyter-widgets/base",
      "_model_module_version": "1.2.0",
      "_model_name": "LayoutModel",
      "_view_count": null,
      "_view_module": "@jupyter-widgets/base",
      "_view_module_version": "1.2.0",
      "_view_name": "LayoutView",
      "align_content": null,
      "align_items": null,
      "align_self": null,
      "border": null,
      "bottom": null,
      "display": null,
      "flex": null,
      "flex_flow": null,
      "grid_area": null,
      "grid_auto_columns": null,
      "grid_auto_flow": null,
      "grid_auto_rows": null,
      "grid_column": null,
      "grid_gap": null,
      "grid_row": null,
      "grid_template_areas": null,
      "grid_template_columns": null,
      "grid_template_rows": null,
      "height": null,
      "justify_content": null,
      "justify_items": null,
      "left": null,
      "margin": null,
      "max_height": null,
      "max_width": null,
      "min_height": null,
      "min_width": null,
      "object_fit": null,
      "object_position": null,
      "order": null,
      "overflow": null,
      "overflow_x": null,
      "overflow_y": null,
      "padding": null,
      "right": null,
      "top": null,
      "visibility": null,
      "width": null
     }
    },
    "700254940b3249d6a73491bbe6bb3a5b": {
     "model_module": "@jupyter-widgets/controls",
     "model_module_version": "1.5.0",
     "model_name": "ProgressStyleModel",
     "state": {
      "_model_module": "@jupyter-widgets/controls",
      "_model_module_version": "1.5.0",
      "_model_name": "ProgressStyleModel",
      "_view_count": null,
      "_view_module": "@jupyter-widgets/base",
      "_view_module_version": "1.2.0",
      "_view_name": "StyleView",
      "bar_color": null,
      "description_width": ""
     }
    },
    "7105421537c84e1eaac8d7bddc6be1c8": {
     "model_module": "@jupyter-widgets/controls",
     "model_module_version": "1.5.0",
     "model_name": "HTMLModel",
     "state": {
      "_dom_classes": [],
      "_model_module": "@jupyter-widgets/controls",
      "_model_module_version": "1.5.0",
      "_model_name": "HTMLModel",
      "_view_count": null,
      "_view_module": "@jupyter-widgets/controls",
      "_view_module_version": "1.5.0",
      "_view_name": "HTMLView",
      "description": "",
      "description_tooltip": null,
      "layout": "IPY_MODEL_1b8332f22e1d4ed083a556d877f46a18",
      "placeholder": "​",
      "style": "IPY_MODEL_bd1674d84eb74a5fb3659cfe2587e6a6",
      "value": "Map: 100%"
     }
    },
    "73a4bf8e87ea4fb2a931d4297a828273": {
     "model_module": "@jupyter-widgets/controls",
     "model_module_version": "1.5.0",
     "model_name": "DescriptionStyleModel",
     "state": {
      "_model_module": "@jupyter-widgets/controls",
      "_model_module_version": "1.5.0",
      "_model_name": "DescriptionStyleModel",
      "_view_count": null,
      "_view_module": "@jupyter-widgets/base",
      "_view_module_version": "1.2.0",
      "_view_name": "StyleView",
      "description_width": ""
     }
    },
    "769fb6ed1af5425bbf5b5fba4bad128d": {
     "model_module": "@jupyter-widgets/controls",
     "model_module_version": "1.5.0",
     "model_name": "HTMLModel",
     "state": {
      "_dom_classes": [],
      "_model_module": "@jupyter-widgets/controls",
      "_model_module_version": "1.5.0",
      "_model_name": "HTMLModel",
      "_view_count": null,
      "_view_module": "@jupyter-widgets/controls",
      "_view_module_version": "1.5.0",
      "_view_name": "HTMLView",
      "description": "",
      "description_tooltip": null,
      "layout": "IPY_MODEL_0594632d950643a7ba9079d7abd96260",
      "placeholder": "​",
      "style": "IPY_MODEL_0326331f4f264514b87012f77093bb74",
      "value": "Map: 100%"
     }
    },
    "77658c09d93e4875ad68da7cd53521a5": {
     "model_module": "@jupyter-widgets/controls",
     "model_module_version": "1.5.0",
     "model_name": "FloatProgressModel",
     "state": {
      "_dom_classes": [],
      "_model_module": "@jupyter-widgets/controls",
      "_model_module_version": "1.5.0",
      "_model_name": "FloatProgressModel",
      "_view_count": null,
      "_view_module": "@jupyter-widgets/controls",
      "_view_module_version": "1.5.0",
      "_view_name": "ProgressView",
      "bar_style": "success",
      "description": "",
      "description_tooltip": null,
      "layout": "IPY_MODEL_8a8f8ea9d78c4499804029845f8c73f0",
      "max": 10547,
      "min": 0,
      "orientation": "horizontal",
      "style": "IPY_MODEL_c06a61935f1b4eaa9d55dcf5c097e485",
      "value": 10547
     }
    },
    "7b00b98e06bf42b48138bc13a4b15763": {
     "model_module": "@jupyter-widgets/controls",
     "model_module_version": "1.5.0",
     "model_name": "HTMLModel",
     "state": {
      "_dom_classes": [],
      "_model_module": "@jupyter-widgets/controls",
      "_model_module_version": "1.5.0",
      "_model_name": "HTMLModel",
      "_view_count": null,
      "_view_module": "@jupyter-widgets/controls",
      "_view_module_version": "1.5.0",
      "_view_name": "HTMLView",
      "description": "",
      "description_tooltip": null,
      "layout": "IPY_MODEL_b7b1e953e65a462583afaec17c66dfcb",
      "placeholder": "​",
      "style": "IPY_MODEL_262965619a834ebbb4646f2e0bc55cce",
      "value": "Map: 100%"
     }
    },
    "7def1c96de5a4994ad9168255b1e6b0c": {
     "model_module": "@jupyter-widgets/controls",
     "model_module_version": "1.5.0",
     "model_name": "FloatProgressModel",
     "state": {
      "_dom_classes": [],
      "_model_module": "@jupyter-widgets/controls",
      "_model_module_version": "1.5.0",
      "_model_name": "FloatProgressModel",
      "_view_count": null,
      "_view_module": "@jupyter-widgets/controls",
      "_view_module_version": "1.5.0",
      "_view_name": "ProgressView",
      "bar_style": "success",
      "description": "",
      "description_tooltip": null,
      "layout": "IPY_MODEL_130df25e13384ce98dfa477576fe61e7",
      "max": 10160,
      "min": 0,
      "orientation": "horizontal",
      "style": "IPY_MODEL_0c02f0aebc5945e287d2fa36d15bad60",
      "value": 10160
     }
    },
    "81488bcb10be4181b3a837cb7c5d90a1": {
     "model_module": "@jupyter-widgets/controls",
     "model_module_version": "1.5.0",
     "model_name": "HTMLModel",
     "state": {
      "_dom_classes": [],
      "_model_module": "@jupyter-widgets/controls",
      "_model_module_version": "1.5.0",
      "_model_name": "HTMLModel",
      "_view_count": null,
      "_view_module": "@jupyter-widgets/controls",
      "_view_module_version": "1.5.0",
      "_view_name": "HTMLView",
      "description": "",
      "description_tooltip": null,
      "layout": "IPY_MODEL_1e6d52c37e59471191246c0e4423a406",
      "placeholder": "​",
      "style": "IPY_MODEL_53f86b710c3e462493c96f60dd4df975",
      "value": "Map: 100%"
     }
    },
    "88ac8b1b3c084e26896865f6cfc9169b": {
     "model_module": "@jupyter-widgets/controls",
     "model_module_version": "1.5.0",
     "model_name": "HTMLModel",
     "state": {
      "_dom_classes": [],
      "_model_module": "@jupyter-widgets/controls",
      "_model_module_version": "1.5.0",
      "_model_name": "HTMLModel",
      "_view_count": null,
      "_view_module": "@jupyter-widgets/controls",
      "_view_module_version": "1.5.0",
      "_view_name": "HTMLView",
      "description": "",
      "description_tooltip": null,
      "layout": "IPY_MODEL_c267d1db749b4d4aa018e8d748108d7e",
      "placeholder": "​",
      "style": "IPY_MODEL_cf60a3014287418abf1243771e88e68b",
      "value": "Map: 100%"
     }
    },
    "894d7f5a164547a3bff73e3a9ce3b534": {
     "model_module": "@jupyter-widgets/base",
     "model_module_version": "1.2.0",
     "model_name": "LayoutModel",
     "state": {
      "_model_module": "@jupyter-widgets/base",
      "_model_module_version": "1.2.0",
      "_model_name": "LayoutModel",
      "_view_count": null,
      "_view_module": "@jupyter-widgets/base",
      "_view_module_version": "1.2.0",
      "_view_name": "LayoutView",
      "align_content": null,
      "align_items": null,
      "align_self": null,
      "border": null,
      "bottom": null,
      "display": null,
      "flex": null,
      "flex_flow": null,
      "grid_area": null,
      "grid_auto_columns": null,
      "grid_auto_flow": null,
      "grid_auto_rows": null,
      "grid_column": null,
      "grid_gap": null,
      "grid_row": null,
      "grid_template_areas": null,
      "grid_template_columns": null,
      "grid_template_rows": null,
      "height": null,
      "justify_content": null,
      "justify_items": null,
      "left": null,
      "margin": null,
      "max_height": null,
      "max_width": null,
      "min_height": null,
      "min_width": null,
      "object_fit": null,
      "object_position": null,
      "order": null,
      "overflow": null,
      "overflow_x": null,
      "overflow_y": null,
      "padding": null,
      "right": null,
      "top": null,
      "visibility": null,
      "width": null
     }
    },
    "8a8f8ea9d78c4499804029845f8c73f0": {
     "model_module": "@jupyter-widgets/base",
     "model_module_version": "1.2.0",
     "model_name": "LayoutModel",
     "state": {
      "_model_module": "@jupyter-widgets/base",
      "_model_module_version": "1.2.0",
      "_model_name": "LayoutModel",
      "_view_count": null,
      "_view_module": "@jupyter-widgets/base",
      "_view_module_version": "1.2.0",
      "_view_name": "LayoutView",
      "align_content": null,
      "align_items": null,
      "align_self": null,
      "border": null,
      "bottom": null,
      "display": null,
      "flex": null,
      "flex_flow": null,
      "grid_area": null,
      "grid_auto_columns": null,
      "grid_auto_flow": null,
      "grid_auto_rows": null,
      "grid_column": null,
      "grid_gap": null,
      "grid_row": null,
      "grid_template_areas": null,
      "grid_template_columns": null,
      "grid_template_rows": null,
      "height": null,
      "justify_content": null,
      "justify_items": null,
      "left": null,
      "margin": null,
      "max_height": null,
      "max_width": null,
      "min_height": null,
      "min_width": null,
      "object_fit": null,
      "object_position": null,
      "order": null,
      "overflow": null,
      "overflow_x": null,
      "overflow_y": null,
      "padding": null,
      "right": null,
      "top": null,
      "visibility": null,
      "width": null
     }
    },
    "8dd7df1e2461450e9033b60efbd78f94": {
     "model_module": "@jupyter-widgets/controls",
     "model_module_version": "1.5.0",
     "model_name": "DescriptionStyleModel",
     "state": {
      "_model_module": "@jupyter-widgets/controls",
      "_model_module_version": "1.5.0",
      "_model_name": "DescriptionStyleModel",
      "_view_count": null,
      "_view_module": "@jupyter-widgets/base",
      "_view_module_version": "1.2.0",
      "_view_name": "StyleView",
      "description_width": ""
     }
    },
    "9481a4f1c3974f90bcd80bf80a28c77f": {
     "model_module": "@jupyter-widgets/base",
     "model_module_version": "1.2.0",
     "model_name": "LayoutModel",
     "state": {
      "_model_module": "@jupyter-widgets/base",
      "_model_module_version": "1.2.0",
      "_model_name": "LayoutModel",
      "_view_count": null,
      "_view_module": "@jupyter-widgets/base",
      "_view_module_version": "1.2.0",
      "_view_name": "LayoutView",
      "align_content": null,
      "align_items": null,
      "align_self": null,
      "border": null,
      "bottom": null,
      "display": null,
      "flex": null,
      "flex_flow": null,
      "grid_area": null,
      "grid_auto_columns": null,
      "grid_auto_flow": null,
      "grid_auto_rows": null,
      "grid_column": null,
      "grid_gap": null,
      "grid_row": null,
      "grid_template_areas": null,
      "grid_template_columns": null,
      "grid_template_rows": null,
      "height": null,
      "justify_content": null,
      "justify_items": null,
      "left": null,
      "margin": null,
      "max_height": null,
      "max_width": null,
      "min_height": null,
      "min_width": null,
      "object_fit": null,
      "object_position": null,
      "order": null,
      "overflow": null,
      "overflow_x": null,
      "overflow_y": null,
      "padding": null,
      "right": null,
      "top": null,
      "visibility": null,
      "width": null
     }
    },
    "a19818bf4a094229b0169b6b18938efd": {
     "model_module": "@jupyter-widgets/controls",
     "model_module_version": "1.5.0",
     "model_name": "FloatProgressModel",
     "state": {
      "_dom_classes": [],
      "_model_module": "@jupyter-widgets/controls",
      "_model_module_version": "1.5.0",
      "_model_name": "FloatProgressModel",
      "_view_count": null,
      "_view_module": "@jupyter-widgets/controls",
      "_view_module_version": "1.5.0",
      "_view_name": "ProgressView",
      "bar_style": "success",
      "description": "",
      "description_tooltip": null,
      "layout": "IPY_MODEL_6dc6bce085324bf8b312fc2da8946335",
      "max": 11580,
      "min": 0,
      "orientation": "horizontal",
      "style": "IPY_MODEL_d714f208406248c39558e8a156f83263",
      "value": 11580
     }
    },
    "a1ee5095115a4025b42432144d7b911f": {
     "model_module": "@jupyter-widgets/base",
     "model_module_version": "1.2.0",
     "model_name": "LayoutModel",
     "state": {
      "_model_module": "@jupyter-widgets/base",
      "_model_module_version": "1.2.0",
      "_model_name": "LayoutModel",
      "_view_count": null,
      "_view_module": "@jupyter-widgets/base",
      "_view_module_version": "1.2.0",
      "_view_name": "LayoutView",
      "align_content": null,
      "align_items": null,
      "align_self": null,
      "border": null,
      "bottom": null,
      "display": null,
      "flex": null,
      "flex_flow": null,
      "grid_area": null,
      "grid_auto_columns": null,
      "grid_auto_flow": null,
      "grid_auto_rows": null,
      "grid_column": null,
      "grid_gap": null,
      "grid_row": null,
      "grid_template_areas": null,
      "grid_template_columns": null,
      "grid_template_rows": null,
      "height": null,
      "justify_content": null,
      "justify_items": null,
      "left": null,
      "margin": null,
      "max_height": null,
      "max_width": null,
      "min_height": null,
      "min_width": null,
      "object_fit": null,
      "object_position": null,
      "order": null,
      "overflow": null,
      "overflow_x": null,
      "overflow_y": null,
      "padding": null,
      "right": null,
      "top": null,
      "visibility": null,
      "width": null
     }
    },
    "a38f24bc61c74381b13a695aeb797986": {
     "model_module": "@jupyter-widgets/base",
     "model_module_version": "1.2.0",
     "model_name": "LayoutModel",
     "state": {
      "_model_module": "@jupyter-widgets/base",
      "_model_module_version": "1.2.0",
      "_model_name": "LayoutModel",
      "_view_count": null,
      "_view_module": "@jupyter-widgets/base",
      "_view_module_version": "1.2.0",
      "_view_name": "LayoutView",
      "align_content": null,
      "align_items": null,
      "align_self": null,
      "border": null,
      "bottom": null,
      "display": null,
      "flex": null,
      "flex_flow": null,
      "grid_area": null,
      "grid_auto_columns": null,
      "grid_auto_flow": null,
      "grid_auto_rows": null,
      "grid_column": null,
      "grid_gap": null,
      "grid_row": null,
      "grid_template_areas": null,
      "grid_template_columns": null,
      "grid_template_rows": null,
      "height": null,
      "justify_content": null,
      "justify_items": null,
      "left": null,
      "margin": null,
      "max_height": null,
      "max_width": null,
      "min_height": null,
      "min_width": null,
      "object_fit": null,
      "object_position": null,
      "order": null,
      "overflow": null,
      "overflow_x": null,
      "overflow_y": null,
      "padding": null,
      "right": null,
      "top": null,
      "visibility": null,
      "width": null
     }
    },
    "aa29f9e03dd34d15af230eb9abdd69b1": {
     "model_module": "@jupyter-widgets/controls",
     "model_module_version": "1.5.0",
     "model_name": "HTMLModel",
     "state": {
      "_dom_classes": [],
      "_model_module": "@jupyter-widgets/controls",
      "_model_module_version": "1.5.0",
      "_model_name": "HTMLModel",
      "_view_count": null,
      "_view_module": "@jupyter-widgets/controls",
      "_view_module_version": "1.5.0",
      "_view_name": "HTMLView",
      "description": "",
      "description_tooltip": null,
      "layout": "IPY_MODEL_1ee073ae0a004157a37cd93abd4ffb92",
      "placeholder": "​",
      "style": "IPY_MODEL_4a83bd1a569848db8d352c5c85e66965",
      "value": "Map: 100%"
     }
    },
    "aa3093c246654946a93904dc07c1b27a": {
     "model_module": "@jupyter-widgets/controls",
     "model_module_version": "1.5.0",
     "model_name": "ProgressStyleModel",
     "state": {
      "_model_module": "@jupyter-widgets/controls",
      "_model_module_version": "1.5.0",
      "_model_name": "ProgressStyleModel",
      "_view_count": null,
      "_view_module": "@jupyter-widgets/base",
      "_view_module_version": "1.2.0",
      "_view_name": "StyleView",
      "bar_color": null,
      "description_width": ""
     }
    },
    "b224e8e3e61c4f6ca4f838917b8e54b0": {
     "model_module": "@jupyter-widgets/base",
     "model_module_version": "1.2.0",
     "model_name": "LayoutModel",
     "state": {
      "_model_module": "@jupyter-widgets/base",
      "_model_module_version": "1.2.0",
      "_model_name": "LayoutModel",
      "_view_count": null,
      "_view_module": "@jupyter-widgets/base",
      "_view_module_version": "1.2.0",
      "_view_name": "LayoutView",
      "align_content": null,
      "align_items": null,
      "align_self": null,
      "border": null,
      "bottom": null,
      "display": null,
      "flex": null,
      "flex_flow": null,
      "grid_area": null,
      "grid_auto_columns": null,
      "grid_auto_flow": null,
      "grid_auto_rows": null,
      "grid_column": null,
      "grid_gap": null,
      "grid_row": null,
      "grid_template_areas": null,
      "grid_template_columns": null,
      "grid_template_rows": null,
      "height": null,
      "justify_content": null,
      "justify_items": null,
      "left": null,
      "margin": null,
      "max_height": null,
      "max_width": null,
      "min_height": null,
      "min_width": null,
      "object_fit": null,
      "object_position": null,
      "order": null,
      "overflow": null,
      "overflow_x": null,
      "overflow_y": null,
      "padding": null,
      "right": null,
      "top": null,
      "visibility": null,
      "width": null
     }
    },
    "b2d9a5f2959d44e39e310b4d8db31669": {
     "model_module": "@jupyter-widgets/controls",
     "model_module_version": "1.5.0",
     "model_name": "HBoxModel",
     "state": {
      "_dom_classes": [],
      "_model_module": "@jupyter-widgets/controls",
      "_model_module_version": "1.5.0",
      "_model_name": "HBoxModel",
      "_view_count": null,
      "_view_module": "@jupyter-widgets/controls",
      "_view_module_version": "1.5.0",
      "_view_name": "HBoxView",
      "box_style": "",
      "children": [
       "IPY_MODEL_81488bcb10be4181b3a837cb7c5d90a1",
       "IPY_MODEL_a19818bf4a094229b0169b6b18938efd",
       "IPY_MODEL_cd2fce06fd5f4f92809baa90ded45933"
      ],
      "layout": "IPY_MODEL_894d7f5a164547a3bff73e3a9ce3b534"
     }
    },
    "b5c22cd677f44c788592197dd68a043e": {
     "model_module": "@jupyter-widgets/controls",
     "model_module_version": "1.5.0",
     "model_name": "HTMLModel",
     "state": {
      "_dom_classes": [],
      "_model_module": "@jupyter-widgets/controls",
      "_model_module_version": "1.5.0",
      "_model_name": "HTMLModel",
      "_view_count": null,
      "_view_module": "@jupyter-widgets/controls",
      "_view_module_version": "1.5.0",
      "_view_name": "HTMLView",
      "description": "",
      "description_tooltip": null,
      "layout": "IPY_MODEL_3564340c3d674581a24693211f27e273",
      "placeholder": "​",
      "style": "IPY_MODEL_73a4bf8e87ea4fb2a931d4297a828273",
      "value": "Map: 100%"
     }
    },
    "b7b1e953e65a462583afaec17c66dfcb": {
     "model_module": "@jupyter-widgets/base",
     "model_module_version": "1.2.0",
     "model_name": "LayoutModel",
     "state": {
      "_model_module": "@jupyter-widgets/base",
      "_model_module_version": "1.2.0",
      "_model_name": "LayoutModel",
      "_view_count": null,
      "_view_module": "@jupyter-widgets/base",
      "_view_module_version": "1.2.0",
      "_view_name": "LayoutView",
      "align_content": null,
      "align_items": null,
      "align_self": null,
      "border": null,
      "bottom": null,
      "display": null,
      "flex": null,
      "flex_flow": null,
      "grid_area": null,
      "grid_auto_columns": null,
      "grid_auto_flow": null,
      "grid_auto_rows": null,
      "grid_column": null,
      "grid_gap": null,
      "grid_row": null,
      "grid_template_areas": null,
      "grid_template_columns": null,
      "grid_template_rows": null,
      "height": null,
      "justify_content": null,
      "justify_items": null,
      "left": null,
      "margin": null,
      "max_height": null,
      "max_width": null,
      "min_height": null,
      "min_width": null,
      "object_fit": null,
      "object_position": null,
      "order": null,
      "overflow": null,
      "overflow_x": null,
      "overflow_y": null,
      "padding": null,
      "right": null,
      "top": null,
      "visibility": null,
      "width": null
     }
    },
    "bbc9eb35f97b44cb882bdca6569f5b90": {
     "model_module": "@jupyter-widgets/controls",
     "model_module_version": "1.5.0",
     "model_name": "DescriptionStyleModel",
     "state": {
      "_model_module": "@jupyter-widgets/controls",
      "_model_module_version": "1.5.0",
      "_model_name": "DescriptionStyleModel",
      "_view_count": null,
      "_view_module": "@jupyter-widgets/base",
      "_view_module_version": "1.2.0",
      "_view_name": "StyleView",
      "description_width": ""
     }
    },
    "bd1674d84eb74a5fb3659cfe2587e6a6": {
     "model_module": "@jupyter-widgets/controls",
     "model_module_version": "1.5.0",
     "model_name": "DescriptionStyleModel",
     "state": {
      "_model_module": "@jupyter-widgets/controls",
      "_model_module_version": "1.5.0",
      "_model_name": "DescriptionStyleModel",
      "_view_count": null,
      "_view_module": "@jupyter-widgets/base",
      "_view_module_version": "1.2.0",
      "_view_name": "StyleView",
      "description_width": ""
     }
    },
    "bd9a272bfe6c435486946592fbd34ff9": {
     "model_module": "@jupyter-widgets/controls",
     "model_module_version": "1.5.0",
     "model_name": "DescriptionStyleModel",
     "state": {
      "_model_module": "@jupyter-widgets/controls",
      "_model_module_version": "1.5.0",
      "_model_name": "DescriptionStyleModel",
      "_view_count": null,
      "_view_module": "@jupyter-widgets/base",
      "_view_module_version": "1.2.0",
      "_view_name": "StyleView",
      "description_width": ""
     }
    },
    "bf4fba364aef423885b9ac8a42958c73": {
     "model_module": "@jupyter-widgets/controls",
     "model_module_version": "1.5.0",
     "model_name": "HBoxModel",
     "state": {
      "_dom_classes": [],
      "_model_module": "@jupyter-widgets/controls",
      "_model_module_version": "1.5.0",
      "_model_name": "HBoxModel",
      "_view_count": null,
      "_view_module": "@jupyter-widgets/controls",
      "_view_module_version": "1.5.0",
      "_view_name": "HBoxView",
      "box_style": "",
      "children": [
       "IPY_MODEL_769fb6ed1af5425bbf5b5fba4bad128d",
       "IPY_MODEL_0d6f80e5e8f54e5baf53e07bde7b3284",
       "IPY_MODEL_ec41f54383ce4f0d92c33bf0c130088d"
      ],
      "layout": "IPY_MODEL_32ea37603c5743e0bbf5b021cda07f7c"
     }
    },
    "c06a61935f1b4eaa9d55dcf5c097e485": {
     "model_module": "@jupyter-widgets/controls",
     "model_module_version": "1.5.0",
     "model_name": "ProgressStyleModel",
     "state": {
      "_model_module": "@jupyter-widgets/controls",
      "_model_module_version": "1.5.0",
      "_model_name": "ProgressStyleModel",
      "_view_count": null,
      "_view_module": "@jupyter-widgets/base",
      "_view_module_version": "1.2.0",
      "_view_name": "StyleView",
      "bar_color": null,
      "description_width": ""
     }
    },
    "c267d1db749b4d4aa018e8d748108d7e": {
     "model_module": "@jupyter-widgets/base",
     "model_module_version": "1.2.0",
     "model_name": "LayoutModel",
     "state": {
      "_model_module": "@jupyter-widgets/base",
      "_model_module_version": "1.2.0",
      "_model_name": "LayoutModel",
      "_view_count": null,
      "_view_module": "@jupyter-widgets/base",
      "_view_module_version": "1.2.0",
      "_view_name": "LayoutView",
      "align_content": null,
      "align_items": null,
      "align_self": null,
      "border": null,
      "bottom": null,
      "display": null,
      "flex": null,
      "flex_flow": null,
      "grid_area": null,
      "grid_auto_columns": null,
      "grid_auto_flow": null,
      "grid_auto_rows": null,
      "grid_column": null,
      "grid_gap": null,
      "grid_row": null,
      "grid_template_areas": null,
      "grid_template_columns": null,
      "grid_template_rows": null,
      "height": null,
      "justify_content": null,
      "justify_items": null,
      "left": null,
      "margin": null,
      "max_height": null,
      "max_width": null,
      "min_height": null,
      "min_width": null,
      "object_fit": null,
      "object_position": null,
      "order": null,
      "overflow": null,
      "overflow_x": null,
      "overflow_y": null,
      "padding": null,
      "right": null,
      "top": null,
      "visibility": null,
      "width": null
     }
    },
    "c35f9f2af31748ab80c09551b0acf60f": {
     "model_module": "@jupyter-widgets/base",
     "model_module_version": "1.2.0",
     "model_name": "LayoutModel",
     "state": {
      "_model_module": "@jupyter-widgets/base",
      "_model_module_version": "1.2.0",
      "_model_name": "LayoutModel",
      "_view_count": null,
      "_view_module": "@jupyter-widgets/base",
      "_view_module_version": "1.2.0",
      "_view_name": "LayoutView",
      "align_content": null,
      "align_items": null,
      "align_self": null,
      "border": null,
      "bottom": null,
      "display": null,
      "flex": null,
      "flex_flow": null,
      "grid_area": null,
      "grid_auto_columns": null,
      "grid_auto_flow": null,
      "grid_auto_rows": null,
      "grid_column": null,
      "grid_gap": null,
      "grid_row": null,
      "grid_template_areas": null,
      "grid_template_columns": null,
      "grid_template_rows": null,
      "height": null,
      "justify_content": null,
      "justify_items": null,
      "left": null,
      "margin": null,
      "max_height": null,
      "max_width": null,
      "min_height": null,
      "min_width": null,
      "object_fit": null,
      "object_position": null,
      "order": null,
      "overflow": null,
      "overflow_x": null,
      "overflow_y": null,
      "padding": null,
      "right": null,
      "top": null,
      "visibility": null,
      "width": null
     }
    },
    "c44865400e7e413fb26409e030b4c7dc": {
     "model_module": "@jupyter-widgets/base",
     "model_module_version": "1.2.0",
     "model_name": "LayoutModel",
     "state": {
      "_model_module": "@jupyter-widgets/base",
      "_model_module_version": "1.2.0",
      "_model_name": "LayoutModel",
      "_view_count": null,
      "_view_module": "@jupyter-widgets/base",
      "_view_module_version": "1.2.0",
      "_view_name": "LayoutView",
      "align_content": null,
      "align_items": null,
      "align_self": null,
      "border": null,
      "bottom": null,
      "display": null,
      "flex": null,
      "flex_flow": null,
      "grid_area": null,
      "grid_auto_columns": null,
      "grid_auto_flow": null,
      "grid_auto_rows": null,
      "grid_column": null,
      "grid_gap": null,
      "grid_row": null,
      "grid_template_areas": null,
      "grid_template_columns": null,
      "grid_template_rows": null,
      "height": null,
      "justify_content": null,
      "justify_items": null,
      "left": null,
      "margin": null,
      "max_height": null,
      "max_width": null,
      "min_height": null,
      "min_width": null,
      "object_fit": null,
      "object_position": null,
      "order": null,
      "overflow": null,
      "overflow_x": null,
      "overflow_y": null,
      "padding": null,
      "right": null,
      "top": null,
      "visibility": null,
      "width": null
     }
    },
    "ca2f37fd7fe94a64a6dcfd50c6babced": {
     "model_module": "@jupyter-widgets/base",
     "model_module_version": "1.2.0",
     "model_name": "LayoutModel",
     "state": {
      "_model_module": "@jupyter-widgets/base",
      "_model_module_version": "1.2.0",
      "_model_name": "LayoutModel",
      "_view_count": null,
      "_view_module": "@jupyter-widgets/base",
      "_view_module_version": "1.2.0",
      "_view_name": "LayoutView",
      "align_content": null,
      "align_items": null,
      "align_self": null,
      "border": null,
      "bottom": null,
      "display": null,
      "flex": null,
      "flex_flow": null,
      "grid_area": null,
      "grid_auto_columns": null,
      "grid_auto_flow": null,
      "grid_auto_rows": null,
      "grid_column": null,
      "grid_gap": null,
      "grid_row": null,
      "grid_template_areas": null,
      "grid_template_columns": null,
      "grid_template_rows": null,
      "height": null,
      "justify_content": null,
      "justify_items": null,
      "left": null,
      "margin": null,
      "max_height": null,
      "max_width": null,
      "min_height": null,
      "min_width": null,
      "object_fit": null,
      "object_position": null,
      "order": null,
      "overflow": null,
      "overflow_x": null,
      "overflow_y": null,
      "padding": null,
      "right": null,
      "top": null,
      "visibility": null,
      "width": null
     }
    },
    "cd2fce06fd5f4f92809baa90ded45933": {
     "model_module": "@jupyter-widgets/controls",
     "model_module_version": "1.5.0",
     "model_name": "HTMLModel",
     "state": {
      "_dom_classes": [],
      "_model_module": "@jupyter-widgets/controls",
      "_model_module_version": "1.5.0",
      "_model_name": "HTMLModel",
      "_view_count": null,
      "_view_module": "@jupyter-widgets/controls",
      "_view_module_version": "1.5.0",
      "_view_name": "HTMLView",
      "description": "",
      "description_tooltip": null,
      "layout": "IPY_MODEL_6568af94451f4b73b02b3c8dddccba3b",
      "placeholder": "​",
      "style": "IPY_MODEL_e72307f5c3934f3b940201719cbafba6",
      "value": " 11580/11580 [00:03&lt;00:00, 3307.17 examples/s]"
     }
    },
    "cf60a3014287418abf1243771e88e68b": {
     "model_module": "@jupyter-widgets/controls",
     "model_module_version": "1.5.0",
     "model_name": "DescriptionStyleModel",
     "state": {
      "_model_module": "@jupyter-widgets/controls",
      "_model_module_version": "1.5.0",
      "_model_name": "DescriptionStyleModel",
      "_view_count": null,
      "_view_module": "@jupyter-widgets/base",
      "_view_module_version": "1.2.0",
      "_view_name": "StyleView",
      "description_width": ""
     }
    },
    "cf972c3dffb24ca89f1ac9af9ea802c7": {
     "model_module": "@jupyter-widgets/controls",
     "model_module_version": "1.5.0",
     "model_name": "HTMLModel",
     "state": {
      "_dom_classes": [],
      "_model_module": "@jupyter-widgets/controls",
      "_model_module_version": "1.5.0",
      "_model_name": "HTMLModel",
      "_view_count": null,
      "_view_module": "@jupyter-widgets/controls",
      "_view_module_version": "1.5.0",
      "_view_name": "HTMLView",
      "description": "",
      "description_tooltip": null,
      "layout": "IPY_MODEL_3a8ec2ea4af24721bd40d2e12aaf2168",
      "placeholder": "​",
      "style": "IPY_MODEL_1d8cd894bfde4e6e8246ad741edeef08",
      "value": "Map: 100%"
     }
    },
    "d03595aef3844907b38e05b1077c7b51": {
     "model_module": "@jupyter-widgets/base",
     "model_module_version": "1.2.0",
     "model_name": "LayoutModel",
     "state": {
      "_model_module": "@jupyter-widgets/base",
      "_model_module_version": "1.2.0",
      "_model_name": "LayoutModel",
      "_view_count": null,
      "_view_module": "@jupyter-widgets/base",
      "_view_module_version": "1.2.0",
      "_view_name": "LayoutView",
      "align_content": null,
      "align_items": null,
      "align_self": null,
      "border": null,
      "bottom": null,
      "display": null,
      "flex": null,
      "flex_flow": null,
      "grid_area": null,
      "grid_auto_columns": null,
      "grid_auto_flow": null,
      "grid_auto_rows": null,
      "grid_column": null,
      "grid_gap": null,
      "grid_row": null,
      "grid_template_areas": null,
      "grid_template_columns": null,
      "grid_template_rows": null,
      "height": null,
      "justify_content": null,
      "justify_items": null,
      "left": null,
      "margin": null,
      "max_height": null,
      "max_width": null,
      "min_height": null,
      "min_width": null,
      "object_fit": null,
      "object_position": null,
      "order": null,
      "overflow": null,
      "overflow_x": null,
      "overflow_y": null,
      "padding": null,
      "right": null,
      "top": null,
      "visibility": null,
      "width": null
     }
    },
    "d64736f4a343492fa6c3d710d0b5395b": {
     "model_module": "@jupyter-widgets/controls",
     "model_module_version": "1.5.0",
     "model_name": "HBoxModel",
     "state": {
      "_dom_classes": [],
      "_model_module": "@jupyter-widgets/controls",
      "_model_module_version": "1.5.0",
      "_model_name": "HBoxModel",
      "_view_count": null,
      "_view_module": "@jupyter-widgets/controls",
      "_view_module_version": "1.5.0",
      "_view_name": "HBoxView",
      "box_style": "",
      "children": [
       "IPY_MODEL_7b00b98e06bf42b48138bc13a4b15763",
       "IPY_MODEL_f67774b768dc4fcc809ad2dbba749274",
       "IPY_MODEL_08221393e00547f89f4830c70f9d308e"
      ],
      "layout": "IPY_MODEL_a1ee5095115a4025b42432144d7b911f"
     }
    },
    "d7034f44148f47b9a93f92030cb86bb2": {
     "model_module": "@jupyter-widgets/controls",
     "model_module_version": "1.5.0",
     "model_name": "ProgressStyleModel",
     "state": {
      "_model_module": "@jupyter-widgets/controls",
      "_model_module_version": "1.5.0",
      "_model_name": "ProgressStyleModel",
      "_view_count": null,
      "_view_module": "@jupyter-widgets/base",
      "_view_module_version": "1.2.0",
      "_view_name": "StyleView",
      "bar_color": null,
      "description_width": ""
     }
    },
    "d714f208406248c39558e8a156f83263": {
     "model_module": "@jupyter-widgets/controls",
     "model_module_version": "1.5.0",
     "model_name": "ProgressStyleModel",
     "state": {
      "_model_module": "@jupyter-widgets/controls",
      "_model_module_version": "1.5.0",
      "_model_name": "ProgressStyleModel",
      "_view_count": null,
      "_view_module": "@jupyter-widgets/base",
      "_view_module_version": "1.2.0",
      "_view_name": "StyleView",
      "bar_color": null,
      "description_width": ""
     }
    },
    "de07367cdd5541a4973d7f2177b29ac6": {
     "model_module": "@jupyter-widgets/controls",
     "model_module_version": "1.5.0",
     "model_name": "HBoxModel",
     "state": {
      "_dom_classes": [],
      "_model_module": "@jupyter-widgets/controls",
      "_model_module_version": "1.5.0",
      "_model_name": "HBoxModel",
      "_view_count": null,
      "_view_module": "@jupyter-widgets/controls",
      "_view_module_version": "1.5.0",
      "_view_name": "HBoxView",
      "box_style": "",
      "children": [
       "IPY_MODEL_b5c22cd677f44c788592197dd68a043e",
       "IPY_MODEL_f7079e99d9c5442884b54e61db626db3",
       "IPY_MODEL_5c0a66be783f4a45ad9d754ebf04f104"
      ],
      "layout": "IPY_MODEL_1d767a2609284194b5a868afaa941ca5"
     }
    },
    "dfd9749476464678bac6efee5f8a8ada": {
     "model_module": "@jupyter-widgets/controls",
     "model_module_version": "1.5.0",
     "model_name": "HTMLModel",
     "state": {
      "_dom_classes": [],
      "_model_module": "@jupyter-widgets/controls",
      "_model_module_version": "1.5.0",
      "_model_name": "HTMLModel",
      "_view_count": null,
      "_view_module": "@jupyter-widgets/controls",
      "_view_module_version": "1.5.0",
      "_view_name": "HTMLView",
      "description": "",
      "description_tooltip": null,
      "layout": "IPY_MODEL_5ab53bf5ddfa4490b29583a94434b2bf",
      "placeholder": "​",
      "style": "IPY_MODEL_2267e9bc32ec47368b34d272c02b0f0e",
      "value": " 10547/10547 [00:06&lt;00:00, 2062.48 examples/s]"
     }
    },
    "e522c34bcb89432ea1152a60beb06d27": {
     "model_module": "@jupyter-widgets/controls",
     "model_module_version": "1.5.0",
     "model_name": "HTMLModel",
     "state": {
      "_dom_classes": [],
      "_model_module": "@jupyter-widgets/controls",
      "_model_module_version": "1.5.0",
      "_model_name": "HTMLModel",
      "_view_count": null,
      "_view_module": "@jupyter-widgets/controls",
      "_view_module_version": "1.5.0",
      "_view_name": "HTMLView",
      "description": "",
      "description_tooltip": null,
      "layout": "IPY_MODEL_9481a4f1c3974f90bcd80bf80a28c77f",
      "placeholder": "​",
      "style": "IPY_MODEL_bbc9eb35f97b44cb882bdca6569f5b90",
      "value": "Map: 100%"
     }
    },
    "e72307f5c3934f3b940201719cbafba6": {
     "model_module": "@jupyter-widgets/controls",
     "model_module_version": "1.5.0",
     "model_name": "DescriptionStyleModel",
     "state": {
      "_model_module": "@jupyter-widgets/controls",
      "_model_module_version": "1.5.0",
      "_model_name": "DescriptionStyleModel",
      "_view_count": null,
      "_view_module": "@jupyter-widgets/base",
      "_view_module_version": "1.2.0",
      "_view_name": "StyleView",
      "description_width": ""
     }
    },
    "e96d399d9b8d44f7a4e344844016ba32": {
     "model_module": "@jupyter-widgets/controls",
     "model_module_version": "1.5.0",
     "model_name": "DescriptionStyleModel",
     "state": {
      "_model_module": "@jupyter-widgets/controls",
      "_model_module_version": "1.5.0",
      "_model_name": "DescriptionStyleModel",
      "_view_count": null,
      "_view_module": "@jupyter-widgets/base",
      "_view_module_version": "1.2.0",
      "_view_name": "StyleView",
      "description_width": ""
     }
    },
    "ec41f54383ce4f0d92c33bf0c130088d": {
     "model_module": "@jupyter-widgets/controls",
     "model_module_version": "1.5.0",
     "model_name": "HTMLModel",
     "state": {
      "_dom_classes": [],
      "_model_module": "@jupyter-widgets/controls",
      "_model_module_version": "1.5.0",
      "_model_name": "HTMLModel",
      "_view_count": null,
      "_view_module": "@jupyter-widgets/controls",
      "_view_module_version": "1.5.0",
      "_view_name": "HTMLView",
      "description": "",
      "description_tooltip": null,
      "layout": "IPY_MODEL_d03595aef3844907b38e05b1077c7b51",
      "placeholder": "​",
      "style": "IPY_MODEL_e96d399d9b8d44f7a4e344844016ba32",
      "value": " 12372/12372 [00:05&lt;00:00, 1814.52 examples/s]"
     }
    },
    "f0e74734dd1e44f1bc2e270f9e3d8298": {
     "model_module": "@jupyter-widgets/controls",
     "model_module_version": "1.5.0",
     "model_name": "FloatProgressModel",
     "state": {
      "_dom_classes": [],
      "_model_module": "@jupyter-widgets/controls",
      "_model_module_version": "1.5.0",
      "_model_name": "FloatProgressModel",
      "_view_count": null,
      "_view_module": "@jupyter-widgets/controls",
      "_view_module_version": "1.5.0",
      "_view_name": "ProgressView",
      "bar_style": "success",
      "description": "",
      "description_tooltip": null,
      "layout": "IPY_MODEL_600aff8ad78743339bb47f648594d0ef",
      "max": 11069,
      "min": 0,
      "orientation": "horizontal",
      "style": "IPY_MODEL_aa3093c246654946a93904dc07c1b27a",
      "value": 11069
     }
    },
    "f1e7a712554a4af988aaa0f17af45564": {
     "model_module": "@jupyter-widgets/controls",
     "model_module_version": "1.5.0",
     "model_name": "FloatProgressModel",
     "state": {
      "_dom_classes": [],
      "_model_module": "@jupyter-widgets/controls",
      "_model_module_version": "1.5.0",
      "_model_name": "FloatProgressModel",
      "_view_count": null,
      "_view_module": "@jupyter-widgets/controls",
      "_view_module_version": "1.5.0",
      "_view_name": "ProgressView",
      "bar_style": "success",
      "description": "",
      "description_tooltip": null,
      "layout": "IPY_MODEL_c44865400e7e413fb26409e030b4c7dc",
      "max": 11597,
      "min": 0,
      "orientation": "horizontal",
      "style": "IPY_MODEL_01325c3ebf6a47d38e85498148dbe699",
      "value": 11597
     }
    },
    "f270b08b4997417f8166008a0ed57faa": {
     "model_module": "@jupyter-widgets/controls",
     "model_module_version": "1.5.0",
     "model_name": "DescriptionStyleModel",
     "state": {
      "_model_module": "@jupyter-widgets/controls",
      "_model_module_version": "1.5.0",
      "_model_name": "DescriptionStyleModel",
      "_view_count": null,
      "_view_module": "@jupyter-widgets/base",
      "_view_module_version": "1.2.0",
      "_view_name": "StyleView",
      "description_width": ""
     }
    },
    "f67774b768dc4fcc809ad2dbba749274": {
     "model_module": "@jupyter-widgets/controls",
     "model_module_version": "1.5.0",
     "model_name": "FloatProgressModel",
     "state": {
      "_dom_classes": [],
      "_model_module": "@jupyter-widgets/controls",
      "_model_module_version": "1.5.0",
      "_model_name": "FloatProgressModel",
      "_view_count": null,
      "_view_module": "@jupyter-widgets/controls",
      "_view_module_version": "1.5.0",
      "_view_name": "ProgressView",
      "bar_style": "success",
      "description": "",
      "description_tooltip": null,
      "layout": "IPY_MODEL_ca2f37fd7fe94a64a6dcfd50c6babced",
      "max": 12678,
      "min": 0,
      "orientation": "horizontal",
      "style": "IPY_MODEL_6b9baf2751564caa93324b5e27ddac2e",
      "value": 12678
     }
    },
    "f7079e99d9c5442884b54e61db626db3": {
     "model_module": "@jupyter-widgets/controls",
     "model_module_version": "1.5.0",
     "model_name": "FloatProgressModel",
     "state": {
      "_dom_classes": [],
      "_model_module": "@jupyter-widgets/controls",
      "_model_module_version": "1.5.0",
      "_model_name": "FloatProgressModel",
      "_view_count": null,
      "_view_module": "@jupyter-widgets/controls",
      "_view_module_version": "1.5.0",
      "_view_name": "ProgressView",
      "bar_style": "success",
      "description": "",
      "description_tooltip": null,
      "layout": "IPY_MODEL_3cf2811508ec4d239a6206cde89e5585",
      "max": 9618,
      "min": 0,
      "orientation": "horizontal",
      "style": "IPY_MODEL_700254940b3249d6a73491bbe6bb3a5b",
      "value": 9618
     }
    },
    "f87fe96732fc4be48b0eda44bc05712c": {
     "model_module": "@jupyter-widgets/controls",
     "model_module_version": "1.5.0",
     "model_name": "HBoxModel",
     "state": {
      "_dom_classes": [],
      "_model_module": "@jupyter-widgets/controls",
      "_model_module_version": "1.5.0",
      "_model_name": "HBoxModel",
      "_view_count": null,
      "_view_module": "@jupyter-widgets/controls",
      "_view_module_version": "1.5.0",
      "_view_name": "HBoxView",
      "box_style": "",
      "children": [
       "IPY_MODEL_7105421537c84e1eaac8d7bddc6be1c8",
       "IPY_MODEL_7def1c96de5a4994ad9168255b1e6b0c",
       "IPY_MODEL_32f3f34d0a20411f919366d1eddf1046"
      ],
      "layout": "IPY_MODEL_0a9bae49d2b44df2b256b4cb9dd54253"
     }
    }
   }
  }
 },
 "nbformat": 4,
 "nbformat_minor": 4
}
