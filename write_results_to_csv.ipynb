{
 "cells": [
  {
   "cell_type": "code",
   "execution_count": 1,
   "metadata": {
    "collapsed": true,
    "ExecuteTime": {
     "end_time": "2024-03-20T16:43:28.664126Z",
     "start_time": "2024-03-20T16:43:25.807263400Z"
    }
   },
   "outputs": [],
   "source": [
    "from process_results import make_metrics_dfs"
   ]
  },
  {
   "cell_type": "code",
   "execution_count": 2,
   "outputs": [],
   "source": [
    "# load results files\n",
    "wiki_neural_results_dir = \"results/wiki_neural_results\""
   ],
   "metadata": {
    "collapsed": false,
    "ExecuteTime": {
     "end_time": "2024-03-20T16:43:30.500434400Z",
     "start_time": "2024-03-20T16:43:30.474590900Z"
    }
   }
  },
  {
   "cell_type": "code",
   "execution_count": 3,
   "outputs": [],
   "source": [
    "results = make_metrics_dfs(wiki_neural_results_dir)"
   ],
   "metadata": {
    "collapsed": false,
    "ExecuteTime": {
     "end_time": "2024-03-20T16:43:33.032418800Z",
     "start_time": "2024-03-20T16:43:31.866174600Z"
    }
   }
  },
  {
   "cell_type": "code",
   "execution_count": 4,
   "outputs": [],
   "source": [
    "# write results to csvs\n",
    "for key in results:\n",
    "    results[key].round(3).to_csv(path_or_buf=\"results/wiki_neural_results_csv/\" + key + \".csv\") # round to 3rd decimal and write csv file"
   ],
   "metadata": {
    "collapsed": false,
    "ExecuteTime": {
     "end_time": "2024-03-20T16:43:34.176192700Z",
     "start_time": "2024-03-20T16:43:33.922176600Z"
    }
   }
  }
 ],
 "metadata": {
  "kernelspec": {
   "display_name": "Python 3",
   "language": "python",
   "name": "python3"
  },
  "language_info": {
   "codemirror_mode": {
    "name": "ipython",
    "version": 2
   },
   "file_extension": ".py",
   "mimetype": "text/x-python",
   "name": "python",
   "nbconvert_exporter": "python",
   "pygments_lexer": "ipython2",
   "version": "2.7.6"
  }
 },
 "nbformat": 4,
 "nbformat_minor": 0
}
